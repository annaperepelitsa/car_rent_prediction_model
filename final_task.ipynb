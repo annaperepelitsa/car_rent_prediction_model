{
 "cells": [
  {
   "cell_type": "code",
   "execution_count": 197,
   "id": "d45f1dbf-7e68-43e9-a9de-bb1ba9d8bdf4",
   "metadata": {},
   "outputs": [],
   "source": [
    "import pandas as pd\n",
    "import matplotlib.pyplot as plt\n",
    "\n",
    "from sklearn.preprocessing import OneHotEncoder\n",
    "from sklearn.preprocessing import StandardScaler\n",
    "import numpy as np\n",
    "from sklearn.linear_model import LogisticRegression\n",
    "from sklearn.ensemble import RandomForestClassifier\n",
    "from sklearn.neural_network import MLPClassifier\n",
    "from sklearn.metrics import accuracy_score, confusion_matrix\n",
    "from sklearn.model_selection import train_test_split, cross_validate, cross_val_score\n",
    "from sklearn.metrics import RocCurveDisplay\n",
    "from sklearn import metrics"
   ]
  },
  {
   "cell_type": "markdown",
   "id": "f3167c73-1fd0-4665-b8fa-0eeb3047ffac",
   "metadata": {
    "tags": []
   },
   "source": [
    "## Action Data"
   ]
  },
  {
   "cell_type": "code",
   "execution_count": 2,
   "id": "b018b6b6-7062-4927-9491-3d9a0d822a24",
   "metadata": {},
   "outputs": [
    {
     "data": {
      "text/html": [
       "<div>\n",
       "<style scoped>\n",
       "    .dataframe tbody tr th:only-of-type {\n",
       "        vertical-align: middle;\n",
       "    }\n",
       "\n",
       "    .dataframe tbody tr th {\n",
       "        vertical-align: top;\n",
       "    }\n",
       "\n",
       "    .dataframe thead th {\n",
       "        text-align: right;\n",
       "    }\n",
       "</style>\n",
       "<table border=\"1\" class=\"dataframe\">\n",
       "  <thead>\n",
       "    <tr style=\"text-align: right;\">\n",
       "      <th></th>\n",
       "      <th>session_id</th>\n",
       "      <th>hit_date</th>\n",
       "      <th>hit_time</th>\n",
       "      <th>hit_number</th>\n",
       "      <th>hit_type</th>\n",
       "      <th>hit_referer</th>\n",
       "      <th>hit_page_path</th>\n",
       "      <th>event_category</th>\n",
       "      <th>event_action</th>\n",
       "      <th>event_label</th>\n",
       "      <th>event_value</th>\n",
       "    </tr>\n",
       "  </thead>\n",
       "  <tbody>\n",
       "    <tr>\n",
       "      <th>0</th>\n",
       "      <td>5639623078712724064.1640254056.1640254056</td>\n",
       "      <td>2021-12-23</td>\n",
       "      <td>597864.0</td>\n",
       "      <td>30</td>\n",
       "      <td>event</td>\n",
       "      <td>NaN</td>\n",
       "      <td>sberauto.com/cars?utm_source_initial=google&amp;ut...</td>\n",
       "      <td>quiz</td>\n",
       "      <td>quiz_show</td>\n",
       "      <td>NaN</td>\n",
       "      <td>NaN</td>\n",
       "    </tr>\n",
       "    <tr>\n",
       "      <th>1</th>\n",
       "      <td>7750352294969115059.1640271109.1640271109</td>\n",
       "      <td>2021-12-23</td>\n",
       "      <td>597331.0</td>\n",
       "      <td>41</td>\n",
       "      <td>event</td>\n",
       "      <td>NaN</td>\n",
       "      <td>sberauto.com/cars/fiat?city=1&amp;city=18&amp;rental_c...</td>\n",
       "      <td>quiz</td>\n",
       "      <td>quiz_show</td>\n",
       "      <td>NaN</td>\n",
       "      <td>NaN</td>\n",
       "    </tr>\n",
       "    <tr>\n",
       "      <th>2</th>\n",
       "      <td>885342191847998240.1640235807.1640235807</td>\n",
       "      <td>2021-12-23</td>\n",
       "      <td>796252.0</td>\n",
       "      <td>49</td>\n",
       "      <td>event</td>\n",
       "      <td>NaN</td>\n",
       "      <td>sberauto.com/cars/all/volkswagen/polo/e994838f...</td>\n",
       "      <td>quiz</td>\n",
       "      <td>quiz_show</td>\n",
       "      <td>NaN</td>\n",
       "      <td>NaN</td>\n",
       "    </tr>\n",
       "    <tr>\n",
       "      <th>3</th>\n",
       "      <td>142526202120934167.1640211014.1640211014</td>\n",
       "      <td>2021-12-23</td>\n",
       "      <td>934292.0</td>\n",
       "      <td>46</td>\n",
       "      <td>event</td>\n",
       "      <td>NaN</td>\n",
       "      <td>sberauto.com/cars?utm_source_initial=yandex&amp;ut...</td>\n",
       "      <td>quiz</td>\n",
       "      <td>quiz_show</td>\n",
       "      <td>NaN</td>\n",
       "      <td>NaN</td>\n",
       "    </tr>\n",
       "    <tr>\n",
       "      <th>4</th>\n",
       "      <td>3450086108837475701.1640265078.1640265078</td>\n",
       "      <td>2021-12-23</td>\n",
       "      <td>768741.0</td>\n",
       "      <td>79</td>\n",
       "      <td>event</td>\n",
       "      <td>NaN</td>\n",
       "      <td>sberauto.com/cars/all/mercedes-benz/cla-klasse...</td>\n",
       "      <td>quiz</td>\n",
       "      <td>quiz_show</td>\n",
       "      <td>NaN</td>\n",
       "      <td>NaN</td>\n",
       "    </tr>\n",
       "  </tbody>\n",
       "</table>\n",
       "</div>"
      ],
      "text/plain": [
       "                                  session_id    hit_date  hit_time  \\\n",
       "0  5639623078712724064.1640254056.1640254056  2021-12-23  597864.0   \n",
       "1  7750352294969115059.1640271109.1640271109  2021-12-23  597331.0   \n",
       "2   885342191847998240.1640235807.1640235807  2021-12-23  796252.0   \n",
       "3   142526202120934167.1640211014.1640211014  2021-12-23  934292.0   \n",
       "4  3450086108837475701.1640265078.1640265078  2021-12-23  768741.0   \n",
       "\n",
       "   hit_number hit_type hit_referer  \\\n",
       "0          30    event         NaN   \n",
       "1          41    event         NaN   \n",
       "2          49    event         NaN   \n",
       "3          46    event         NaN   \n",
       "4          79    event         NaN   \n",
       "\n",
       "                                       hit_page_path event_category  \\\n",
       "0  sberauto.com/cars?utm_source_initial=google&ut...           quiz   \n",
       "1  sberauto.com/cars/fiat?city=1&city=18&rental_c...           quiz   \n",
       "2  sberauto.com/cars/all/volkswagen/polo/e994838f...           quiz   \n",
       "3  sberauto.com/cars?utm_source_initial=yandex&ut...           quiz   \n",
       "4  sberauto.com/cars/all/mercedes-benz/cla-klasse...           quiz   \n",
       "\n",
       "  event_action event_label  event_value  \n",
       "0    quiz_show         NaN          NaN  \n",
       "1    quiz_show         NaN          NaN  \n",
       "2    quiz_show         NaN          NaN  \n",
       "3    quiz_show         NaN          NaN  \n",
       "4    quiz_show         NaN          NaN  "
      ]
     },
     "execution_count": 2,
     "metadata": {},
     "output_type": "execute_result"
    }
   ],
   "source": [
    "df_hit = pd.read_csv('/Users/sergey/Downloads/ga_hits-001.csv')\n",
    "df_hit.head()"
   ]
  },
  {
   "cell_type": "code",
   "execution_count": 3,
   "id": "bed17974-c0ce-4fd6-9f55-db6080fa9f2c",
   "metadata": {},
   "outputs": [
    {
     "data": {
      "text/plain": [
       "(15726470, 11)"
      ]
     },
     "execution_count": 3,
     "metadata": {},
     "output_type": "execute_result"
    }
   ],
   "source": [
    "df_hit.shape"
   ]
  },
  {
   "cell_type": "markdown",
   "id": "f41d9ab4-3b06-4e6d-88d7-560255000692",
   "metadata": {
    "tags": []
   },
   "source": [
    "### Data Preparation"
   ]
  },
  {
   "cell_type": "code",
   "execution_count": 4,
   "id": "05a4476d-7c03-4438-a7ad-242261e83ae7",
   "metadata": {},
   "outputs": [
    {
     "name": "stdout",
     "output_type": "stream",
     "text": [
      "<class 'pandas.core.frame.DataFrame'>\n",
      "RangeIndex: 15726470 entries, 0 to 15726469\n",
      "Data columns (total 11 columns):\n",
      " #   Column          Dtype  \n",
      "---  ------          -----  \n",
      " 0   session_id      object \n",
      " 1   hit_date        object \n",
      " 2   hit_time        float64\n",
      " 3   hit_number      int64  \n",
      " 4   hit_type        object \n",
      " 5   hit_referer     object \n",
      " 6   hit_page_path   object \n",
      " 7   event_category  object \n",
      " 8   event_action    object \n",
      " 9   event_label     object \n",
      " 10  event_value     float64\n",
      "dtypes: float64(2), int64(1), object(8)\n",
      "memory usage: 1.3+ GB\n"
     ]
    }
   ],
   "source": [
    "df_hit.info()"
   ]
  },
  {
   "cell_type": "markdown",
   "id": "89a2ef6b-6f72-4f39-beb3-6aaf96a1f391",
   "metadata": {
    "jp-MarkdownHeadingCollapsed": true,
    "tags": []
   },
   "source": [
    "#### Check dublicated records"
   ]
  },
  {
   "cell_type": "code",
   "execution_count": 5,
   "id": "389703d4-8130-46de-bdc1-ffaff2b02f6b",
   "metadata": {},
   "outputs": [
    {
     "data": {
      "text/html": [
       "<div>\n",
       "<style scoped>\n",
       "    .dataframe tbody tr th:only-of-type {\n",
       "        vertical-align: middle;\n",
       "    }\n",
       "\n",
       "    .dataframe tbody tr th {\n",
       "        vertical-align: top;\n",
       "    }\n",
       "\n",
       "    .dataframe thead th {\n",
       "        text-align: right;\n",
       "    }\n",
       "</style>\n",
       "<table border=\"1\" class=\"dataframe\">\n",
       "  <thead>\n",
       "    <tr style=\"text-align: right;\">\n",
       "      <th></th>\n",
       "      <th>session_id</th>\n",
       "      <th>hit_date</th>\n",
       "      <th>hit_time</th>\n",
       "      <th>hit_number</th>\n",
       "      <th>hit_type</th>\n",
       "      <th>hit_referer</th>\n",
       "      <th>hit_page_path</th>\n",
       "      <th>event_category</th>\n",
       "      <th>event_action</th>\n",
       "      <th>event_label</th>\n",
       "      <th>event_value</th>\n",
       "    </tr>\n",
       "  </thead>\n",
       "  <tbody>\n",
       "  </tbody>\n",
       "</table>\n",
       "</div>"
      ],
      "text/plain": [
       "Empty DataFrame\n",
       "Columns: [session_id, hit_date, hit_time, hit_number, hit_type, hit_referer, hit_page_path, event_category, event_action, event_label, event_value]\n",
       "Index: []"
      ]
     },
     "execution_count": 5,
     "metadata": {},
     "output_type": "execute_result"
    }
   ],
   "source": [
    "#show dublicates\n",
    "df_hit[df_hit.duplicated()]"
   ]
  },
  {
   "cell_type": "code",
   "execution_count": 6,
   "id": "728e7791-bac9-4f7e-b365-e55f6c13c409",
   "metadata": {},
   "outputs": [],
   "source": [
    "#=> no dublicated records"
   ]
  },
  {
   "cell_type": "markdown",
   "id": "f7eab77c-68ff-4a0c-a519-d580149b8c27",
   "metadata": {
    "jp-MarkdownHeadingCollapsed": true,
    "tags": []
   },
   "source": [
    "#### Check data fullness"
   ]
  },
  {
   "cell_type": "code",
   "execution_count": 7,
   "id": "e4df2a79-5867-40fd-babd-12d1aa5146d3",
   "metadata": {},
   "outputs": [
    {
     "name": "stdout",
     "output_type": "stream",
     "text": [
      "Requirement already satisfied: missingno in ./opt/anaconda3/lib/python3.9/site-packages (0.5.1)\n",
      "Requirement already satisfied: seaborn in ./opt/anaconda3/lib/python3.9/site-packages (from missingno) (0.11.2)\n",
      "Requirement already satisfied: numpy in ./opt/anaconda3/lib/python3.9/site-packages (from missingno) (1.20.3)\n",
      "Requirement already satisfied: matplotlib in ./opt/anaconda3/lib/python3.9/site-packages (from missingno) (3.4.3)\n",
      "Requirement already satisfied: scipy in ./opt/anaconda3/lib/python3.9/site-packages (from missingno) (1.7.1)\n",
      "Requirement already satisfied: pyparsing>=2.2.1 in ./opt/anaconda3/lib/python3.9/site-packages (from matplotlib->missingno) (3.0.4)\n",
      "Requirement already satisfied: pillow>=6.2.0 in ./opt/anaconda3/lib/python3.9/site-packages (from matplotlib->missingno) (8.4.0)\n",
      "Requirement already satisfied: python-dateutil>=2.7 in ./opt/anaconda3/lib/python3.9/site-packages (from matplotlib->missingno) (2.8.2)\n",
      "Requirement already satisfied: kiwisolver>=1.0.1 in ./opt/anaconda3/lib/python3.9/site-packages (from matplotlib->missingno) (1.3.1)\n",
      "Requirement already satisfied: cycler>=0.10 in ./opt/anaconda3/lib/python3.9/site-packages (from matplotlib->missingno) (0.10.0)\n",
      "Requirement already satisfied: six in ./opt/anaconda3/lib/python3.9/site-packages (from cycler>=0.10->matplotlib->missingno) (1.16.0)\n",
      "Requirement already satisfied: pandas>=0.23 in ./opt/anaconda3/lib/python3.9/site-packages (from seaborn->missingno) (1.3.4)\n",
      "Requirement already satisfied: pytz>=2017.3 in ./opt/anaconda3/lib/python3.9/site-packages (from pandas>=0.23->seaborn->missingno) (2021.3)\n"
     ]
    }
   ],
   "source": [
    "!pip install missingno"
   ]
  },
  {
   "cell_type": "code",
   "execution_count": 8,
   "id": "206fd6c1-8bd3-4122-95ab-16d0d45b1274",
   "metadata": {},
   "outputs": [],
   "source": [
    "import missingno as msno"
   ]
  },
  {
   "cell_type": "code",
   "execution_count": 9,
   "id": "9241cf07-de94-4ae6-84ca-8dbbb2ae317e",
   "metadata": {},
   "outputs": [
    {
     "data": {
      "image/png": "[encoded data removed]",
      "text/plain": [
       "<Figure size 1800x720 with 3 Axes>"
      ]
     },
     "metadata": {
      "needs_background": "light"
     },
     "output_type": "display_data"
    }
   ],
   "source": [
    "msno.bar(df_hit);"
   ]
  },
  {
   "cell_type": "code",
   "execution_count": 10,
   "id": "e38933e3-81c5-4681-9643-dd5c35ec2e5b",
   "metadata": {},
   "outputs": [
    {
     "data": {
      "image/png": "[encoded data removed]",
      "text/plain": [
       "<Figure size 1800x720 with 2 Axes>"
      ]
     },
     "metadata": {
      "needs_background": "light"
     },
     "output_type": "display_data"
    }
   ],
   "source": [
    "msno.matrix(df_hit);"
   ]
  },
  {
   "cell_type": "code",
   "execution_count": 11,
   "id": "6c139fd4-aaf5-4b65-bad5-4898e47a3430",
   "metadata": {},
   "outputs": [],
   "source": [
    "#event_value is empty, seems to be error data"
   ]
  },
  {
   "cell_type": "code",
   "execution_count": 12,
   "id": "d4dde05b-839f-4d92-8725-c56e5ec22334",
   "metadata": {},
   "outputs": [],
   "source": [
    "# function to show missed values per columns \n",
    "\n",
    "def missed_values(df):\n",
    "    missed_values = ((df.isna().sum() / len(df)) * 100).sort_values(ascending=False)\n",
    "    print('% missed records in dataset: ') \n",
    "    print(missed_values)"
   ]
  },
  {
   "cell_type": "code",
   "execution_count": 13,
   "id": "c70ade70-24b9-4e88-b366-11e116f39d7c",
   "metadata": {},
   "outputs": [
    {
     "name": "stdout",
     "output_type": "stream",
     "text": [
      "% missed records in dataset: \n",
      "event_value       100.000000\n",
      "hit_time           58.247795\n",
      "hit_referer        39.899634\n",
      "event_label        23.909905\n",
      "session_id          0.000000\n",
      "hit_date            0.000000\n",
      "hit_number          0.000000\n",
      "hit_type            0.000000\n",
      "hit_page_path       0.000000\n",
      "event_category      0.000000\n",
      "event_action        0.000000\n",
      "dtype: float64\n"
     ]
    }
   ],
   "source": [
    "missed_values(df_hit)"
   ]
  },
  {
   "cell_type": "code",
   "execution_count": 14,
   "id": "f5831abb-2fe2-4c1f-9992-8a4fdf9a3ee7",
   "metadata": {},
   "outputs": [],
   "source": [
    "# event_action s/b deleted"
   ]
  },
  {
   "cell_type": "code",
   "execution_count": 15,
   "id": "5ac75023-7278-44c6-ba30-9b4d5a2c700e",
   "metadata": {},
   "outputs": [],
   "source": [
    "df_hit_prep = df_hit.copy()"
   ]
  },
  {
   "cell_type": "code",
   "execution_count": 16,
   "id": "09e38fb9-2725-4554-847d-638549d55edc",
   "metadata": {},
   "outputs": [],
   "source": [
    "df_hit_prep = df_hit_prep.drop(columns='event_value')"
   ]
  },
  {
   "cell_type": "code",
   "execution_count": 17,
   "id": "3f851005-128b-4943-8ff9-776e7a7be580",
   "metadata": {},
   "outputs": [],
   "source": [
    "# function to show full records from dataset\n",
    "def print_useful_rows_info(df):\n",
    "    print('Full records:', \n",
    "          len(df.dropna()),'from', df.shape[0])\n",
    "    print('dataset is fully filled on :', \n",
    "          round((len(df.dropna()) / len(df) * 100), 2), '%')"
   ]
  },
  {
   "cell_type": "code",
   "execution_count": 18,
   "id": "42eb7fa1-8a68-4cf2-9ae4-f46857f8c10a",
   "metadata": {},
   "outputs": [
    {
     "name": "stdout",
     "output_type": "stream",
     "text": [
      "Full records: 118953 from 15726470\n",
      "dataset is fully filled on : 0.76 %\n"
     ]
    }
   ],
   "source": [
    "print_useful_rows_info(df_hit_prep)"
   ]
  },
  {
   "cell_type": "code",
   "execution_count": 19,
   "id": "9ee9a13e-71c2-4099-a993-b5505c1b5dbf",
   "metadata": {},
   "outputs": [],
   "source": [
    "# from bar plot, matrix image and missed record calculation function columns \n",
    "# hit_time, hit_referer and event_label have more than 20% missed records, so s/b romoved from research"
   ]
  },
  {
   "cell_type": "code",
   "execution_count": 20,
   "id": "17a9c726-02f4-4b8c-b46c-10692af7d3ce",
   "metadata": {},
   "outputs": [
    {
     "data": {
      "text/html": [
       "<div>\n",
       "<style scoped>\n",
       "    .dataframe tbody tr th:only-of-type {\n",
       "        vertical-align: middle;\n",
       "    }\n",
       "\n",
       "    .dataframe tbody tr th {\n",
       "        vertical-align: top;\n",
       "    }\n",
       "\n",
       "    .dataframe thead th {\n",
       "        text-align: right;\n",
       "    }\n",
       "</style>\n",
       "<table border=\"1\" class=\"dataframe\">\n",
       "  <thead>\n",
       "    <tr style=\"text-align: right;\">\n",
       "      <th></th>\n",
       "      <th>session_id</th>\n",
       "      <th>hit_date</th>\n",
       "      <th>hit_number</th>\n",
       "      <th>hit_type</th>\n",
       "      <th>hit_page_path</th>\n",
       "      <th>event_category</th>\n",
       "      <th>event_action</th>\n",
       "    </tr>\n",
       "  </thead>\n",
       "  <tbody>\n",
       "    <tr>\n",
       "      <th>count</th>\n",
       "      <td>15726470</td>\n",
       "      <td>15726470</td>\n",
       "      <td>1.572647e+07</td>\n",
       "      <td>15726470</td>\n",
       "      <td>15726470</td>\n",
       "      <td>15726470</td>\n",
       "      <td>15726470</td>\n",
       "    </tr>\n",
       "    <tr>\n",
       "      <th>unique</th>\n",
       "      <td>1734610</td>\n",
       "      <td>226</td>\n",
       "      <td>NaN</td>\n",
       "      <td>1</td>\n",
       "      <td>342715</td>\n",
       "      <td>52</td>\n",
       "      <td>230</td>\n",
       "    </tr>\n",
       "    <tr>\n",
       "      <th>top</th>\n",
       "      <td>5442565791571325612.1632449195.1632449195</td>\n",
       "      <td>2021-05-24</td>\n",
       "      <td>NaN</td>\n",
       "      <td>event</td>\n",
       "      <td>podpiska.sberauto.com/</td>\n",
       "      <td>card_web</td>\n",
       "      <td>view_card</td>\n",
       "    </tr>\n",
       "    <tr>\n",
       "      <th>freq</th>\n",
       "      <td>768</td>\n",
       "      <td>513035</td>\n",
       "      <td>NaN</td>\n",
       "      <td>15726470</td>\n",
       "      <td>2793639</td>\n",
       "      <td>7456998</td>\n",
       "      <td>3558985</td>\n",
       "    </tr>\n",
       "    <tr>\n",
       "      <th>mean</th>\n",
       "      <td>NaN</td>\n",
       "      <td>NaN</td>\n",
       "      <td>2.356715e+01</td>\n",
       "      <td>NaN</td>\n",
       "      <td>NaN</td>\n",
       "      <td>NaN</td>\n",
       "      <td>NaN</td>\n",
       "    </tr>\n",
       "    <tr>\n",
       "      <th>std</th>\n",
       "      <td>NaN</td>\n",
       "      <td>NaN</td>\n",
       "      <td>2.887713e+01</td>\n",
       "      <td>NaN</td>\n",
       "      <td>NaN</td>\n",
       "      <td>NaN</td>\n",
       "      <td>NaN</td>\n",
       "    </tr>\n",
       "    <tr>\n",
       "      <th>min</th>\n",
       "      <td>NaN</td>\n",
       "      <td>NaN</td>\n",
       "      <td>1.000000e+00</td>\n",
       "      <td>NaN</td>\n",
       "      <td>NaN</td>\n",
       "      <td>NaN</td>\n",
       "      <td>NaN</td>\n",
       "    </tr>\n",
       "    <tr>\n",
       "      <th>25%</th>\n",
       "      <td>NaN</td>\n",
       "      <td>NaN</td>\n",
       "      <td>7.000000e+00</td>\n",
       "      <td>NaN</td>\n",
       "      <td>NaN</td>\n",
       "      <td>NaN</td>\n",
       "      <td>NaN</td>\n",
       "    </tr>\n",
       "    <tr>\n",
       "      <th>50%</th>\n",
       "      <td>NaN</td>\n",
       "      <td>NaN</td>\n",
       "      <td>1.500000e+01</td>\n",
       "      <td>NaN</td>\n",
       "      <td>NaN</td>\n",
       "      <td>NaN</td>\n",
       "      <td>NaN</td>\n",
       "    </tr>\n",
       "    <tr>\n",
       "      <th>75%</th>\n",
       "      <td>NaN</td>\n",
       "      <td>NaN</td>\n",
       "      <td>2.900000e+01</td>\n",
       "      <td>NaN</td>\n",
       "      <td>NaN</td>\n",
       "      <td>NaN</td>\n",
       "      <td>NaN</td>\n",
       "    </tr>\n",
       "    <tr>\n",
       "      <th>max</th>\n",
       "      <td>NaN</td>\n",
       "      <td>NaN</td>\n",
       "      <td>5.000000e+02</td>\n",
       "      <td>NaN</td>\n",
       "      <td>NaN</td>\n",
       "      <td>NaN</td>\n",
       "      <td>NaN</td>\n",
       "    </tr>\n",
       "  </tbody>\n",
       "</table>\n",
       "</div>"
      ],
      "text/plain": [
       "                                       session_id    hit_date    hit_number  \\\n",
       "count                                    15726470    15726470  1.572647e+07   \n",
       "unique                                    1734610         226           NaN   \n",
       "top     5442565791571325612.1632449195.1632449195  2021-05-24           NaN   \n",
       "freq                                          768      513035           NaN   \n",
       "mean                                          NaN         NaN  2.356715e+01   \n",
       "std                                           NaN         NaN  2.887713e+01   \n",
       "min                                           NaN         NaN  1.000000e+00   \n",
       "25%                                           NaN         NaN  7.000000e+00   \n",
       "50%                                           NaN         NaN  1.500000e+01   \n",
       "75%                                           NaN         NaN  2.900000e+01   \n",
       "max                                           NaN         NaN  5.000000e+02   \n",
       "\n",
       "        hit_type           hit_page_path event_category event_action  \n",
       "count   15726470                15726470       15726470     15726470  \n",
       "unique         1                  342715             52          230  \n",
       "top        event  podpiska.sberauto.com/       card_web    view_card  \n",
       "freq    15726470                 2793639        7456998      3558985  \n",
       "mean         NaN                     NaN            NaN          NaN  \n",
       "std          NaN                     NaN            NaN          NaN  \n",
       "min          NaN                     NaN            NaN          NaN  \n",
       "25%          NaN                     NaN            NaN          NaN  \n",
       "50%          NaN                     NaN            NaN          NaN  \n",
       "75%          NaN                     NaN            NaN          NaN  \n",
       "max          NaN                     NaN            NaN          NaN  "
      ]
     },
     "execution_count": 20,
     "metadata": {},
     "output_type": "execute_result"
    }
   ],
   "source": [
    "df_hit[['session_id','hit_date','hit_number','hit_type','hit_page_path','event_category','event_action']].describe(include='all')"
   ]
  },
  {
   "cell_type": "code",
   "execution_count": 21,
   "id": "1bbd95a0-6222-4aab-ab25-c393cd51f93e",
   "metadata": {},
   "outputs": [],
   "source": [
    "#hit_type has all values='event', it's not informal and s/b deleted from dataframe"
   ]
  },
  {
   "cell_type": "code",
   "execution_count": 22,
   "id": "997cef7b-ce27-4014-96a9-5920e1fead53",
   "metadata": {},
   "outputs": [],
   "source": [
    "hit_columns_to_drop = ['hit_time',\n",
    "                       'hit_referer',\n",
    "                       'event_label',\n",
    "                       'hit_type']"
   ]
  },
  {
   "cell_type": "code",
   "execution_count": 23,
   "id": "f0ccbc71-058e-4f5d-948c-71d2ccd313a5",
   "metadata": {},
   "outputs": [],
   "source": [
    "df_hit_prep = df_hit_prep.drop(columns=hit_columns_to_drop)"
   ]
  },
  {
   "cell_type": "code",
   "execution_count": 24,
   "id": "6b85da4c-1747-44db-a75f-5773ad182479",
   "metadata": {},
   "outputs": [
    {
     "name": "stdout",
     "output_type": "stream",
     "text": [
      "Full records: 15726470 from 15726470\n",
      "dataset is fully filled on : 100.0 %\n"
     ]
    }
   ],
   "source": [
    "print_useful_rows_info(df_hit_prep)"
   ]
  },
  {
   "cell_type": "code",
   "execution_count": 25,
   "id": "47bf8eae-d786-4285-a671-274b34e6ca59",
   "metadata": {},
   "outputs": [],
   "source": [
    "#save cleaned dataset\n",
    "df_hit_prep.to_csv('/Users/sergey/Downloads/diploma/df_hit_prep.csv', index=False)"
   ]
  },
  {
   "cell_type": "code",
   "execution_count": 26,
   "id": "4017edf8-e6b1-4be0-b067-1910ce1382a6",
   "metadata": {},
   "outputs": [],
   "source": [
    "#dict for keeping useful user actions \n",
    "useful_action_dict = {'sub_car_claim_click': 0,\n",
    "                    'sub_car_claim_submit_click': 0,\n",
    "                    'sub_open_dialog_click': 0, \n",
    "                    'sub_custom_question_submit_click': 0,\n",
    "                    'sub_call_number_click': 0, \n",
    "                    'sub_callback_submit_click': 0, \n",
    "                    'sub_submit_success': 0,\n",
    "                    'sub_car_request_submit_click': 0}"
   ]
  },
  {
   "cell_type": "code",
   "execution_count": 27,
   "id": "b5eb813a-636b-450a-a775-8ad0fe3b02ca",
   "metadata": {},
   "outputs": [],
   "source": [
    "#save session_id of users who done useful actions\n",
    "data_session = df_hit_prep[(df_hit_prep.event_action == 'sub_car_claim_click') |\n",
    "                          (df_hit_prep.event_action == 'sub_car_claim_submit_click')|\n",
    "                          (df_hit_prep.event_action == 'sub_open_dialog_click')|\n",
    "                          (df_hit_prep.event_action == 'sub_custom_question_submit_click')|\n",
    "                          (df_hit_prep.event_action == 'sub_call_number_click')|\n",
    "                          (df_hit_prep.event_action == 'sub_callback_submit_click')|\n",
    "                          (df_hit_prep.event_action == 'sub_submit_success')|\n",
    "                          (df_hit_prep.event_action == 'sub_car_request_submit_click')]['session_id']"
   ]
  },
  {
   "cell_type": "code",
   "execution_count": 28,
   "id": "b140c859-a012-4c4b-be0f-ec8632fe1dfa",
   "metadata": {},
   "outputs": [
    {
     "data": {
      "text/plain": [
       "count                                        104908\n",
       "unique                                        50760\n",
       "top       7140505447604038223.1630415440.1630415440\n",
       "freq                                            474\n",
       "Name: session_id, dtype: object"
      ]
     },
     "execution_count": 28,
     "metadata": {},
     "output_type": "execute_result"
    }
   ],
   "source": [
    "data_session.describe()"
   ]
  },
  {
   "cell_type": "code",
   "execution_count": 29,
   "id": "c787f878-6f34-46bd-9a54-502c4a2268d9",
   "metadata": {},
   "outputs": [],
   "source": [
    "data_session.to_csv('/Users/sergey/Downloads/diploma/data_session.csv', index=False)"
   ]
  },
  {
   "cell_type": "markdown",
   "id": "be413d10-4446-4e0a-8bc4-9255b40c5980",
   "metadata": {},
   "source": [
    "## Client data "
   ]
  },
  {
   "cell_type": "code",
   "execution_count": 30,
   "id": "a0ecb605-bbe5-4839-8c73-aaa5480d7f71",
   "metadata": {},
   "outputs": [
    {
     "name": "stderr",
     "output_type": "stream",
     "text": [
      "/Users/sergey/opt/anaconda3/lib/python3.9/site-packages/IPython/core/interactiveshell.py:3444: DtypeWarning: Columns (1) have mixed types.Specify dtype option on import or set low_memory=False.\n",
      "  exec(code_obj, self.user_global_ns, self.user_ns)\n"
     ]
    },
    {
     "data": {
      "text/html": [
       "<div>\n",
       "<style scoped>\n",
       "    .dataframe tbody tr th:only-of-type {\n",
       "        vertical-align: middle;\n",
       "    }\n",
       "\n",
       "    .dataframe tbody tr th {\n",
       "        vertical-align: top;\n",
       "    }\n",
       "\n",
       "    .dataframe thead th {\n",
       "        text-align: right;\n",
       "    }\n",
       "</style>\n",
       "<table border=\"1\" class=\"dataframe\">\n",
       "  <thead>\n",
       "    <tr style=\"text-align: right;\">\n",
       "      <th></th>\n",
       "      <th>session_id</th>\n",
       "      <th>client_id</th>\n",
       "      <th>visit_date</th>\n",
       "      <th>visit_time</th>\n",
       "      <th>visit_number</th>\n",
       "      <th>utm_source</th>\n",
       "      <th>utm_medium</th>\n",
       "      <th>utm_campaign</th>\n",
       "      <th>utm_adcontent</th>\n",
       "      <th>utm_keyword</th>\n",
       "      <th>device_category</th>\n",
       "      <th>device_os</th>\n",
       "      <th>device_brand</th>\n",
       "      <th>device_model</th>\n",
       "      <th>device_screen_resolution</th>\n",
       "      <th>device_browser</th>\n",
       "      <th>geo_country</th>\n",
       "      <th>geo_city</th>\n",
       "    </tr>\n",
       "  </thead>\n",
       "  <tbody>\n",
       "    <tr>\n",
       "      <th>0</th>\n",
       "      <td>9055434745589932991.1637753792.1637753792</td>\n",
       "      <td>2108382700.163776</td>\n",
       "      <td>2021-11-24</td>\n",
       "      <td>14:36:32</td>\n",
       "      <td>1</td>\n",
       "      <td>ZpYIoDJMcFzVoPFsHGJL</td>\n",
       "      <td>banner</td>\n",
       "      <td>LEoPHuyFvzoNfnzGgfcd</td>\n",
       "      <td>vCIpmpaGBnIQhyYNkXqp</td>\n",
       "      <td>puhZPIYqKXeFPaUviSjo</td>\n",
       "      <td>mobile</td>\n",
       "      <td>Android</td>\n",
       "      <td>Huawei</td>\n",
       "      <td>NaN</td>\n",
       "      <td>360x720</td>\n",
       "      <td>Chrome</td>\n",
       "      <td>Russia</td>\n",
       "      <td>Zlatoust</td>\n",
       "    </tr>\n",
       "    <tr>\n",
       "      <th>1</th>\n",
       "      <td>905544597018549464.1636867290.1636867290</td>\n",
       "      <td>210838531.163687</td>\n",
       "      <td>2021-11-14</td>\n",
       "      <td>08:21:30</td>\n",
       "      <td>1</td>\n",
       "      <td>MvfHsxITijuriZxsqZqt</td>\n",
       "      <td>cpm</td>\n",
       "      <td>FTjNLDyTrXaWYgZymFkV</td>\n",
       "      <td>xhoenQgDQsgfEPYNPwKO</td>\n",
       "      <td>IGUCNvHlhfHpROGclCit</td>\n",
       "      <td>mobile</td>\n",
       "      <td>Android</td>\n",
       "      <td>Samsung</td>\n",
       "      <td>NaN</td>\n",
       "      <td>385x854</td>\n",
       "      <td>Samsung Internet</td>\n",
       "      <td>Russia</td>\n",
       "      <td>Moscow</td>\n",
       "    </tr>\n",
       "    <tr>\n",
       "      <th>2</th>\n",
       "      <td>9055446045651783499.1640648526.1640648526</td>\n",
       "      <td>2108385331.164065</td>\n",
       "      <td>2021-12-28</td>\n",
       "      <td>02:42:06</td>\n",
       "      <td>1</td>\n",
       "      <td>ZpYIoDJMcFzVoPFsHGJL</td>\n",
       "      <td>banner</td>\n",
       "      <td>LEoPHuyFvzoNfnzGgfcd</td>\n",
       "      <td>vCIpmpaGBnIQhyYNkXqp</td>\n",
       "      <td>puhZPIYqKXeFPaUviSjo</td>\n",
       "      <td>mobile</td>\n",
       "      <td>Android</td>\n",
       "      <td>Huawei</td>\n",
       "      <td>NaN</td>\n",
       "      <td>360x720</td>\n",
       "      <td>Chrome</td>\n",
       "      <td>Russia</td>\n",
       "      <td>Krasnoyarsk</td>\n",
       "    </tr>\n",
       "    <tr>\n",
       "      <th>3</th>\n",
       "      <td>9055447046360770272.1622255328.1622255328</td>\n",
       "      <td>2108385564.162225</td>\n",
       "      <td>2021-05-29</td>\n",
       "      <td>05:00:00</td>\n",
       "      <td>1</td>\n",
       "      <td>kjsLglQLzykiRbcDiGcD</td>\n",
       "      <td>cpc</td>\n",
       "      <td>NaN</td>\n",
       "      <td>NOBKLgtuvqYWkXQHeYWM</td>\n",
       "      <td>NaN</td>\n",
       "      <td>mobile</td>\n",
       "      <td>NaN</td>\n",
       "      <td>Xiaomi</td>\n",
       "      <td>NaN</td>\n",
       "      <td>393x786</td>\n",
       "      <td>Chrome</td>\n",
       "      <td>Russia</td>\n",
       "      <td>Moscow</td>\n",
       "    </tr>\n",
       "    <tr>\n",
       "      <th>4</th>\n",
       "      <td>9055447046360770272.1622255345.1622255345</td>\n",
       "      <td>2108385564.162225</td>\n",
       "      <td>2021-05-29</td>\n",
       "      <td>05:00:00</td>\n",
       "      <td>2</td>\n",
       "      <td>kjsLglQLzykiRbcDiGcD</td>\n",
       "      <td>cpc</td>\n",
       "      <td>NaN</td>\n",
       "      <td>NaN</td>\n",
       "      <td>NaN</td>\n",
       "      <td>mobile</td>\n",
       "      <td>NaN</td>\n",
       "      <td>Xiaomi</td>\n",
       "      <td>NaN</td>\n",
       "      <td>393x786</td>\n",
       "      <td>Chrome</td>\n",
       "      <td>Russia</td>\n",
       "      <td>Moscow</td>\n",
       "    </tr>\n",
       "    <tr>\n",
       "      <th>5</th>\n",
       "      <td>9055447192389856083.1622453074.1622453074</td>\n",
       "      <td>2108385598.162245</td>\n",
       "      <td>2021-05-31</td>\n",
       "      <td>12:00:00</td>\n",
       "      <td>1</td>\n",
       "      <td>kjsLglQLzykiRbcDiGcD</td>\n",
       "      <td>organic</td>\n",
       "      <td>LTuZkdKfxRGVceoWkVyg</td>\n",
       "      <td>JNHcPlZPxEMWDnRiyoBf</td>\n",
       "      <td>NaN</td>\n",
       "      <td>mobile</td>\n",
       "      <td>NaN</td>\n",
       "      <td>Apple</td>\n",
       "      <td>NaN</td>\n",
       "      <td>375x812</td>\n",
       "      <td>Safari</td>\n",
       "      <td>Russia</td>\n",
       "      <td>Saint Petersburg</td>\n",
       "    </tr>\n",
       "    <tr>\n",
       "      <th>6</th>\n",
       "      <td>9055455318486370642.1640843788.1640843788</td>\n",
       "      <td>2108387490.164084</td>\n",
       "      <td>2021-12-30</td>\n",
       "      <td>08:56:28</td>\n",
       "      <td>1</td>\n",
       "      <td>TxKUcPpthBDPieTGmVhx</td>\n",
       "      <td>cpc</td>\n",
       "      <td>FTjNLDyTrXaWYgZymFkV</td>\n",
       "      <td>LcGIUNPUAmXtQJaDfFBR</td>\n",
       "      <td>PwscUHjoUJDrtfWESIHj</td>\n",
       "      <td>tablet</td>\n",
       "      <td>Android</td>\n",
       "      <td>Lenovo</td>\n",
       "      <td>NaN</td>\n",
       "      <td>602x1029</td>\n",
       "      <td>YaBrowser</td>\n",
       "      <td>Russia</td>\n",
       "      <td>Saint Petersburg</td>\n",
       "    </tr>\n",
       "    <tr>\n",
       "      <th>7</th>\n",
       "      <td>9055461992850812764.1626107740.1626107740</td>\n",
       "      <td>2108389044.162611</td>\n",
       "      <td>2021-07-12</td>\n",
       "      <td>19:00:00</td>\n",
       "      <td>1</td>\n",
       "      <td>ZpYIoDJMcFzVoPFsHGJL</td>\n",
       "      <td>banner</td>\n",
       "      <td>LEoPHuyFvzoNfnzGgfcd</td>\n",
       "      <td>JNHcPlZPxEMWDnRiyoBf</td>\n",
       "      <td>NaN</td>\n",
       "      <td>mobile</td>\n",
       "      <td>NaN</td>\n",
       "      <td>Samsung</td>\n",
       "      <td>NaN</td>\n",
       "      <td>360x640</td>\n",
       "      <td>Chrome</td>\n",
       "      <td>Russia</td>\n",
       "      <td>Saint Petersburg</td>\n",
       "    </tr>\n",
       "    <tr>\n",
       "      <th>8</th>\n",
       "      <td>9055462349345527315.1638536723.1638536723</td>\n",
       "      <td>2108389127.163854</td>\n",
       "      <td>2021-12-03</td>\n",
       "      <td>16:05:23</td>\n",
       "      <td>1</td>\n",
       "      <td>ZpYIoDJMcFzVoPFsHGJL</td>\n",
       "      <td>banner</td>\n",
       "      <td>LEoPHuyFvzoNfnzGgfcd</td>\n",
       "      <td>vCIpmpaGBnIQhyYNkXqp</td>\n",
       "      <td>puhZPIYqKXeFPaUviSjo</td>\n",
       "      <td>mobile</td>\n",
       "      <td>iOS</td>\n",
       "      <td>Apple</td>\n",
       "      <td>NaN</td>\n",
       "      <td>390x844</td>\n",
       "      <td>Safari</td>\n",
       "      <td>Russia</td>\n",
       "      <td>Moscow</td>\n",
       "    </tr>\n",
       "    <tr>\n",
       "      <th>9</th>\n",
       "      <td>9055466554104774132.1624800757.1624800757</td>\n",
       "      <td>2108390106.16248</td>\n",
       "      <td>2021-06-27</td>\n",
       "      <td>16:00:00</td>\n",
       "      <td>1</td>\n",
       "      <td>ZpYIoDJMcFzVoPFsHGJL</td>\n",
       "      <td>banner</td>\n",
       "      <td>LEoPHuyFvzoNfnzGgfcd</td>\n",
       "      <td>JNHcPlZPxEMWDnRiyoBf</td>\n",
       "      <td>NaN</td>\n",
       "      <td>mobile</td>\n",
       "      <td>NaN</td>\n",
       "      <td>Samsung</td>\n",
       "      <td>NaN</td>\n",
       "      <td>412x915</td>\n",
       "      <td>Chrome</td>\n",
       "      <td>Russia</td>\n",
       "      <td>Moscow</td>\n",
       "    </tr>\n",
       "  </tbody>\n",
       "</table>\n",
       "</div>"
      ],
      "text/plain": [
       "                                  session_id          client_id  visit_date  \\\n",
       "0  9055434745589932991.1637753792.1637753792  2108382700.163776  2021-11-24   \n",
       "1   905544597018549464.1636867290.1636867290   210838531.163687  2021-11-14   \n",
       "2  9055446045651783499.1640648526.1640648526  2108385331.164065  2021-12-28   \n",
       "3  9055447046360770272.1622255328.1622255328  2108385564.162225  2021-05-29   \n",
       "4  9055447046360770272.1622255345.1622255345  2108385564.162225  2021-05-29   \n",
       "5  9055447192389856083.1622453074.1622453074  2108385598.162245  2021-05-31   \n",
       "6  9055455318486370642.1640843788.1640843788  2108387490.164084  2021-12-30   \n",
       "7  9055461992850812764.1626107740.1626107740  2108389044.162611  2021-07-12   \n",
       "8  9055462349345527315.1638536723.1638536723  2108389127.163854  2021-12-03   \n",
       "9  9055466554104774132.1624800757.1624800757   2108390106.16248  2021-06-27   \n",
       "\n",
       "  visit_time  visit_number            utm_source utm_medium  \\\n",
       "0   14:36:32             1  ZpYIoDJMcFzVoPFsHGJL     banner   \n",
       "1   08:21:30             1  MvfHsxITijuriZxsqZqt        cpm   \n",
       "2   02:42:06             1  ZpYIoDJMcFzVoPFsHGJL     banner   \n",
       "3   05:00:00             1  kjsLglQLzykiRbcDiGcD        cpc   \n",
       "4   05:00:00             2  kjsLglQLzykiRbcDiGcD        cpc   \n",
       "5   12:00:00             1  kjsLglQLzykiRbcDiGcD    organic   \n",
       "6   08:56:28             1  TxKUcPpthBDPieTGmVhx        cpc   \n",
       "7   19:00:00             1  ZpYIoDJMcFzVoPFsHGJL     banner   \n",
       "8   16:05:23             1  ZpYIoDJMcFzVoPFsHGJL     banner   \n",
       "9   16:00:00             1  ZpYIoDJMcFzVoPFsHGJL     banner   \n",
       "\n",
       "           utm_campaign         utm_adcontent           utm_keyword  \\\n",
       "0  LEoPHuyFvzoNfnzGgfcd  vCIpmpaGBnIQhyYNkXqp  puhZPIYqKXeFPaUviSjo   \n",
       "1  FTjNLDyTrXaWYgZymFkV  xhoenQgDQsgfEPYNPwKO  IGUCNvHlhfHpROGclCit   \n",
       "2  LEoPHuyFvzoNfnzGgfcd  vCIpmpaGBnIQhyYNkXqp  puhZPIYqKXeFPaUviSjo   \n",
       "3                   NaN  NOBKLgtuvqYWkXQHeYWM                   NaN   \n",
       "4                   NaN                   NaN                   NaN   \n",
       "5  LTuZkdKfxRGVceoWkVyg  JNHcPlZPxEMWDnRiyoBf                   NaN   \n",
       "6  FTjNLDyTrXaWYgZymFkV  LcGIUNPUAmXtQJaDfFBR  PwscUHjoUJDrtfWESIHj   \n",
       "7  LEoPHuyFvzoNfnzGgfcd  JNHcPlZPxEMWDnRiyoBf                   NaN   \n",
       "8  LEoPHuyFvzoNfnzGgfcd  vCIpmpaGBnIQhyYNkXqp  puhZPIYqKXeFPaUviSjo   \n",
       "9  LEoPHuyFvzoNfnzGgfcd  JNHcPlZPxEMWDnRiyoBf                   NaN   \n",
       "\n",
       "  device_category device_os device_brand device_model  \\\n",
       "0          mobile   Android       Huawei          NaN   \n",
       "1          mobile   Android      Samsung          NaN   \n",
       "2          mobile   Android       Huawei          NaN   \n",
       "3          mobile       NaN       Xiaomi          NaN   \n",
       "4          mobile       NaN       Xiaomi          NaN   \n",
       "5          mobile       NaN        Apple          NaN   \n",
       "6          tablet   Android       Lenovo          NaN   \n",
       "7          mobile       NaN      Samsung          NaN   \n",
       "8          mobile       iOS        Apple          NaN   \n",
       "9          mobile       NaN      Samsung          NaN   \n",
       "\n",
       "  device_screen_resolution    device_browser geo_country          geo_city  \n",
       "0                  360x720            Chrome      Russia          Zlatoust  \n",
       "1                  385x854  Samsung Internet      Russia            Moscow  \n",
       "2                  360x720            Chrome      Russia       Krasnoyarsk  \n",
       "3                  393x786            Chrome      Russia            Moscow  \n",
       "4                  393x786            Chrome      Russia            Moscow  \n",
       "5                  375x812            Safari      Russia  Saint Petersburg  \n",
       "6                 602x1029         YaBrowser      Russia  Saint Petersburg  \n",
       "7                  360x640            Chrome      Russia  Saint Petersburg  \n",
       "8                  390x844            Safari      Russia            Moscow  \n",
       "9                  412x915            Chrome      Russia            Moscow  "
      ]
     },
     "execution_count": 30,
     "metadata": {},
     "output_type": "execute_result"
    }
   ],
   "source": [
    "df_ses = pd.read_csv('/Users/sergey/Downloads/ga_sessions.csv')\n",
    "df_ses.head(10)"
   ]
  },
  {
   "cell_type": "code",
   "execution_count": 31,
   "id": "e6b6ca0c-6158-4ec8-9f38-de59614a4de4",
   "metadata": {},
   "outputs": [],
   "source": [
    "df_ses['client_id'] = df_ses['client_id'].astype(str)"
   ]
  },
  {
   "cell_type": "code",
   "execution_count": 32,
   "id": "db422793-6f72-495a-bc11-75d552463736",
   "metadata": {},
   "outputs": [
    {
     "name": "stdout",
     "output_type": "stream",
     "text": [
      "<class 'pandas.core.frame.DataFrame'>\n",
      "RangeIndex: 1860042 entries, 0 to 1860041\n",
      "Data columns (total 18 columns):\n",
      " #   Column                    Dtype \n",
      "---  ------                    ----- \n",
      " 0   session_id                object\n",
      " 1   client_id                 object\n",
      " 2   visit_date                object\n",
      " 3   visit_time                object\n",
      " 4   visit_number              int64 \n",
      " 5   utm_source                object\n",
      " 6   utm_medium                object\n",
      " 7   utm_campaign              object\n",
      " 8   utm_adcontent             object\n",
      " 9   utm_keyword               object\n",
      " 10  device_category           object\n",
      " 11  device_os                 object\n",
      " 12  device_brand              object\n",
      " 13  device_model              object\n",
      " 14  device_screen_resolution  object\n",
      " 15  device_browser            object\n",
      " 16  geo_country               object\n",
      " 17  geo_city                  object\n",
      "dtypes: int64(1), object(17)\n",
      "memory usage: 255.4+ MB\n"
     ]
    }
   ],
   "source": [
    "df_ses.info()"
   ]
  },
  {
   "cell_type": "code",
   "execution_count": 33,
   "id": "ffb46354-041e-4288-a3b1-231db0f7352b",
   "metadata": {},
   "outputs": [
    {
     "data": {
      "text/plain": [
       "(1860042, 18)"
      ]
     },
     "execution_count": 33,
     "metadata": {},
     "output_type": "execute_result"
    }
   ],
   "source": [
    "df_ses.shape"
   ]
  },
  {
   "cell_type": "markdown",
   "id": "349342e4-25fe-428b-a22e-831312c025be",
   "metadata": {
    "tags": []
   },
   "source": [
    "### Data Preparation"
   ]
  },
  {
   "cell_type": "markdown",
   "id": "be97e69f-4209-4c74-a11d-83f17c4bf109",
   "metadata": {
    "jp-MarkdownHeadingCollapsed": true,
    "tags": []
   },
   "source": [
    "#### check dublicated records"
   ]
  },
  {
   "cell_type": "code",
   "execution_count": 34,
   "id": "c42d9c59-2da6-4f73-9110-f46084327b7a",
   "metadata": {},
   "outputs": [
    {
     "data": {
      "text/html": [
       "<div>\n",
       "<style scoped>\n",
       "    .dataframe tbody tr th:only-of-type {\n",
       "        vertical-align: middle;\n",
       "    }\n",
       "\n",
       "    .dataframe tbody tr th {\n",
       "        vertical-align: top;\n",
       "    }\n",
       "\n",
       "    .dataframe thead th {\n",
       "        text-align: right;\n",
       "    }\n",
       "</style>\n",
       "<table border=\"1\" class=\"dataframe\">\n",
       "  <thead>\n",
       "    <tr style=\"text-align: right;\">\n",
       "      <th></th>\n",
       "      <th>session_id</th>\n",
       "      <th>client_id</th>\n",
       "      <th>visit_date</th>\n",
       "      <th>visit_time</th>\n",
       "      <th>visit_number</th>\n",
       "      <th>utm_source</th>\n",
       "      <th>utm_medium</th>\n",
       "      <th>utm_campaign</th>\n",
       "      <th>utm_adcontent</th>\n",
       "      <th>utm_keyword</th>\n",
       "      <th>device_category</th>\n",
       "      <th>device_os</th>\n",
       "      <th>device_brand</th>\n",
       "      <th>device_model</th>\n",
       "      <th>device_screen_resolution</th>\n",
       "      <th>device_browser</th>\n",
       "      <th>geo_country</th>\n",
       "      <th>geo_city</th>\n",
       "    </tr>\n",
       "  </thead>\n",
       "  <tbody>\n",
       "  </tbody>\n",
       "</table>\n",
       "</div>"
      ],
      "text/plain": [
       "Empty DataFrame\n",
       "Columns: [session_id, client_id, visit_date, visit_time, visit_number, utm_source, utm_medium, utm_campaign, utm_adcontent, utm_keyword, device_category, device_os, device_brand, device_model, device_screen_resolution, device_browser, geo_country, geo_city]\n",
       "Index: []"
      ]
     },
     "execution_count": 34,
     "metadata": {},
     "output_type": "execute_result"
    }
   ],
   "source": [
    "#show dublicates\n",
    "df_ses[df_ses.duplicated()]"
   ]
  },
  {
   "cell_type": "code",
   "execution_count": 35,
   "id": "fe994111-6e6c-4ede-9c41-13ce8f364b26",
   "metadata": {},
   "outputs": [],
   "source": [
    "#=> no dublicated records"
   ]
  },
  {
   "cell_type": "markdown",
   "id": "98a5d20a-1f49-41c1-8786-80983b74070d",
   "metadata": {
    "tags": []
   },
   "source": [
    "#### check data fullness"
   ]
  },
  {
   "cell_type": "code",
   "execution_count": 36,
   "id": "7ef4b686-3c97-480f-8499-638e41661737",
   "metadata": {},
   "outputs": [
    {
     "data": {
      "image/png": "[encoded data removed]",
      "text/plain": [
       "<Figure size 1800x720 with 3 Axes>"
      ]
     },
     "metadata": {
      "needs_background": "light"
     },
     "output_type": "display_data"
    }
   ],
   "source": [
    "msno.bar(df_ses);"
   ]
  },
  {
   "cell_type": "code",
   "execution_count": 37,
   "id": "fc2e953c-8e2e-4fd3-828f-2240a7c8fae6",
   "metadata": {},
   "outputs": [
    {
     "data": {
      "image/png": "[encoded data removed]",
      "text/plain": [
       "<Figure size 1800x720 with 2 Axes>"
      ]
     },
     "metadata": {
      "needs_background": "light"
     },
     "output_type": "display_data"
    }
   ],
   "source": [
    "msno.matrix(df_ses);"
   ]
  },
  {
   "cell_type": "code",
   "execution_count": 38,
   "id": "ab50c4c5-c2e3-45d0-9706-bb8f98d474a4",
   "metadata": {},
   "outputs": [],
   "source": [
    "#bar and matrix show device_model is almost empty, so it s/b deleted "
   ]
  },
  {
   "cell_type": "code",
   "execution_count": 39,
   "id": "badb0b77-3387-4190-b16b-eb3a24672861",
   "metadata": {},
   "outputs": [
    {
     "name": "stdout",
     "output_type": "stream",
     "text": [
      "% missed records in dataset: \n",
      "device_model                99.121633\n",
      "utm_keyword                 58.174009\n",
      "device_os                   57.533002\n",
      "device_brand                19.740307\n",
      "utm_adcontent               18.043410\n",
      "utm_campaign                11.806346\n",
      "utm_source                   0.005215\n",
      "geo_country                  0.000000\n",
      "device_browser               0.000000\n",
      "device_screen_resolution     0.000000\n",
      "session_id                   0.000000\n",
      "device_category              0.000000\n",
      "client_id                    0.000000\n",
      "utm_medium                   0.000000\n",
      "visit_number                 0.000000\n",
      "visit_time                   0.000000\n",
      "visit_date                   0.000000\n",
      "geo_city                     0.000000\n",
      "dtype: float64\n"
     ]
    }
   ],
   "source": [
    "missed_values(df_ses)"
   ]
  },
  {
   "cell_type": "code",
   "execution_count": 40,
   "id": "59ec47f2-872c-46cb-a551-ce824cf8fdc5",
   "metadata": {},
   "outputs": [],
   "source": [
    "#also s/b deleted columns where missed records more than 20% as utm_keyword, device_os"
   ]
  },
  {
   "cell_type": "code",
   "execution_count": 41,
   "id": "210eefea-9fb8-42b8-a5d6-906ce6243940",
   "metadata": {},
   "outputs": [],
   "source": [
    "df_ses_prep = df_ses.copy()"
   ]
  },
  {
   "cell_type": "code",
   "execution_count": 42,
   "id": "ec7f1f2e-e950-4351-b89a-5c5fcaebb91f",
   "metadata": {},
   "outputs": [],
   "source": [
    "ses_columns_to_drop = ['device_model', 'utm_keyword','device_os']"
   ]
  },
  {
   "cell_type": "code",
   "execution_count": 43,
   "id": "e67516b7-7099-4ba7-a953-6105e45c9718",
   "metadata": {},
   "outputs": [],
   "source": [
    "df_ses_prep = df_ses_prep.drop(columns = ses_columns_to_drop)"
   ]
  },
  {
   "cell_type": "code",
   "execution_count": 44,
   "id": "a0743fb7-31f9-46cd-a2fa-a9bad6d47a0d",
   "metadata": {},
   "outputs": [
    {
     "data": {
      "text/html": [
       "<div>\n",
       "<style scoped>\n",
       "    .dataframe tbody tr th:only-of-type {\n",
       "        vertical-align: middle;\n",
       "    }\n",
       "\n",
       "    .dataframe tbody tr th {\n",
       "        vertical-align: top;\n",
       "    }\n",
       "\n",
       "    .dataframe thead th {\n",
       "        text-align: right;\n",
       "    }\n",
       "</style>\n",
       "<table border=\"1\" class=\"dataframe\">\n",
       "  <thead>\n",
       "    <tr style=\"text-align: right;\">\n",
       "      <th></th>\n",
       "      <th>session_id</th>\n",
       "      <th>client_id</th>\n",
       "      <th>visit_date</th>\n",
       "      <th>visit_time</th>\n",
       "      <th>visit_number</th>\n",
       "      <th>utm_source</th>\n",
       "      <th>utm_medium</th>\n",
       "      <th>utm_campaign</th>\n",
       "      <th>utm_adcontent</th>\n",
       "      <th>device_category</th>\n",
       "      <th>device_brand</th>\n",
       "      <th>device_screen_resolution</th>\n",
       "      <th>device_browser</th>\n",
       "      <th>geo_country</th>\n",
       "      <th>geo_city</th>\n",
       "    </tr>\n",
       "  </thead>\n",
       "  <tbody>\n",
       "    <tr>\n",
       "      <th>0</th>\n",
       "      <td>9055434745589932991.1637753792.1637753792</td>\n",
       "      <td>2108382700.1637757</td>\n",
       "      <td>2021-11-24</td>\n",
       "      <td>14:36:32</td>\n",
       "      <td>1</td>\n",
       "      <td>ZpYIoDJMcFzVoPFsHGJL</td>\n",
       "      <td>banner</td>\n",
       "      <td>LEoPHuyFvzoNfnzGgfcd</td>\n",
       "      <td>vCIpmpaGBnIQhyYNkXqp</td>\n",
       "      <td>mobile</td>\n",
       "      <td>Huawei</td>\n",
       "      <td>360x720</td>\n",
       "      <td>Chrome</td>\n",
       "      <td>Russia</td>\n",
       "      <td>Zlatoust</td>\n",
       "    </tr>\n",
       "    <tr>\n",
       "      <th>1</th>\n",
       "      <td>905544597018549464.1636867290.1636867290</td>\n",
       "      <td>210838531.16368672</td>\n",
       "      <td>2021-11-14</td>\n",
       "      <td>08:21:30</td>\n",
       "      <td>1</td>\n",
       "      <td>MvfHsxITijuriZxsqZqt</td>\n",
       "      <td>cpm</td>\n",
       "      <td>FTjNLDyTrXaWYgZymFkV</td>\n",
       "      <td>xhoenQgDQsgfEPYNPwKO</td>\n",
       "      <td>mobile</td>\n",
       "      <td>Samsung</td>\n",
       "      <td>385x854</td>\n",
       "      <td>Samsung Internet</td>\n",
       "      <td>Russia</td>\n",
       "      <td>Moscow</td>\n",
       "    </tr>\n",
       "    <tr>\n",
       "      <th>2</th>\n",
       "      <td>9055446045651783499.1640648526.1640648526</td>\n",
       "      <td>2108385331.164065</td>\n",
       "      <td>2021-12-28</td>\n",
       "      <td>02:42:06</td>\n",
       "      <td>1</td>\n",
       "      <td>ZpYIoDJMcFzVoPFsHGJL</td>\n",
       "      <td>banner</td>\n",
       "      <td>LEoPHuyFvzoNfnzGgfcd</td>\n",
       "      <td>vCIpmpaGBnIQhyYNkXqp</td>\n",
       "      <td>mobile</td>\n",
       "      <td>Huawei</td>\n",
       "      <td>360x720</td>\n",
       "      <td>Chrome</td>\n",
       "      <td>Russia</td>\n",
       "      <td>Krasnoyarsk</td>\n",
       "    </tr>\n",
       "    <tr>\n",
       "      <th>3</th>\n",
       "      <td>9055447046360770272.1622255328.1622255328</td>\n",
       "      <td>2108385564.1622252</td>\n",
       "      <td>2021-05-29</td>\n",
       "      <td>05:00:00</td>\n",
       "      <td>1</td>\n",
       "      <td>kjsLglQLzykiRbcDiGcD</td>\n",
       "      <td>cpc</td>\n",
       "      <td>NaN</td>\n",
       "      <td>NOBKLgtuvqYWkXQHeYWM</td>\n",
       "      <td>mobile</td>\n",
       "      <td>Xiaomi</td>\n",
       "      <td>393x786</td>\n",
       "      <td>Chrome</td>\n",
       "      <td>Russia</td>\n",
       "      <td>Moscow</td>\n",
       "    </tr>\n",
       "    <tr>\n",
       "      <th>4</th>\n",
       "      <td>9055447046360770272.1622255345.1622255345</td>\n",
       "      <td>2108385564.1622252</td>\n",
       "      <td>2021-05-29</td>\n",
       "      <td>05:00:00</td>\n",
       "      <td>2</td>\n",
       "      <td>kjsLglQLzykiRbcDiGcD</td>\n",
       "      <td>cpc</td>\n",
       "      <td>NaN</td>\n",
       "      <td>NaN</td>\n",
       "      <td>mobile</td>\n",
       "      <td>Xiaomi</td>\n",
       "      <td>393x786</td>\n",
       "      <td>Chrome</td>\n",
       "      <td>Russia</td>\n",
       "      <td>Moscow</td>\n",
       "    </tr>\n",
       "  </tbody>\n",
       "</table>\n",
       "</div>"
      ],
      "text/plain": [
       "                                  session_id           client_id  visit_date  \\\n",
       "0  9055434745589932991.1637753792.1637753792  2108382700.1637757  2021-11-24   \n",
       "1   905544597018549464.1636867290.1636867290  210838531.16368672  2021-11-14   \n",
       "2  9055446045651783499.1640648526.1640648526   2108385331.164065  2021-12-28   \n",
       "3  9055447046360770272.1622255328.1622255328  2108385564.1622252  2021-05-29   \n",
       "4  9055447046360770272.1622255345.1622255345  2108385564.1622252  2021-05-29   \n",
       "\n",
       "  visit_time  visit_number            utm_source utm_medium  \\\n",
       "0   14:36:32             1  ZpYIoDJMcFzVoPFsHGJL     banner   \n",
       "1   08:21:30             1  MvfHsxITijuriZxsqZqt        cpm   \n",
       "2   02:42:06             1  ZpYIoDJMcFzVoPFsHGJL     banner   \n",
       "3   05:00:00             1  kjsLglQLzykiRbcDiGcD        cpc   \n",
       "4   05:00:00             2  kjsLglQLzykiRbcDiGcD        cpc   \n",
       "\n",
       "           utm_campaign         utm_adcontent device_category device_brand  \\\n",
       "0  LEoPHuyFvzoNfnzGgfcd  vCIpmpaGBnIQhyYNkXqp          mobile       Huawei   \n",
       "1  FTjNLDyTrXaWYgZymFkV  xhoenQgDQsgfEPYNPwKO          mobile      Samsung   \n",
       "2  LEoPHuyFvzoNfnzGgfcd  vCIpmpaGBnIQhyYNkXqp          mobile       Huawei   \n",
       "3                   NaN  NOBKLgtuvqYWkXQHeYWM          mobile       Xiaomi   \n",
       "4                   NaN                   NaN          mobile       Xiaomi   \n",
       "\n",
       "  device_screen_resolution    device_browser geo_country     geo_city  \n",
       "0                  360x720            Chrome      Russia     Zlatoust  \n",
       "1                  385x854  Samsung Internet      Russia       Moscow  \n",
       "2                  360x720            Chrome      Russia  Krasnoyarsk  \n",
       "3                  393x786            Chrome      Russia       Moscow  \n",
       "4                  393x786            Chrome      Russia       Moscow  "
      ]
     },
     "execution_count": 44,
     "metadata": {},
     "output_type": "execute_result"
    }
   ],
   "source": [
    "df_ses_prep.head()"
   ]
  },
  {
   "cell_type": "code",
   "execution_count": 45,
   "id": "7b309de5-6f21-4c0d-9ac3-3c0d6dfb6897",
   "metadata": {},
   "outputs": [
    {
     "data": {
      "text/plain": [
       "count     1492864\n",
       "unique        205\n",
       "top         Apple\n",
       "freq       551088\n",
       "Name: device_brand, dtype: object"
      ]
     },
     "execution_count": 45,
     "metadata": {},
     "output_type": "execute_result"
    }
   ],
   "source": [
    "df_ses_prep['device_brand'].describe()"
   ]
  },
  {
   "cell_type": "code",
   "execution_count": 46,
   "id": "3c3c0f7f-c3e5-416a-81ee-acde3e2fdbc5",
   "metadata": {},
   "outputs": [
    {
     "data": {
      "text/plain": [
       "Apple       551088\n",
       "NaN         367178\n",
       "Samsung     332194\n",
       "Xiaomi      288367\n",
       "Huawei      185853\n",
       "             ...  \n",
       "Vodafone         1\n",
       "Wexler           1\n",
       "KingSing         1\n",
       "Star             1\n",
       "Opera            1\n",
       "Name: device_brand, Length: 206, dtype: int64"
      ]
     },
     "execution_count": 46,
     "metadata": {},
     "output_type": "execute_result"
    }
   ],
   "source": [
    "df_ses_prep['device_brand'].value_counts(dropna=False)"
   ]
  },
  {
   "cell_type": "code",
   "execution_count": 47,
   "id": "fb645563-3e7f-4e1f-9f5d-212c7b37e3e2",
   "metadata": {},
   "outputs": [
    {
     "data": {
      "text/plain": [
       "desktop    366721\n",
       "mobile        298\n",
       "tablet        159\n",
       "Name: device_category, dtype: int64"
      ]
     },
     "execution_count": 47,
     "metadata": {},
     "output_type": "execute_result"
    }
   ],
   "source": [
    "df_ses_prep[df_ses_prep['device_brand'].isna()]['device_category'].value_counts()"
   ]
  },
  {
   "cell_type": "code",
   "execution_count": 48,
   "id": "533f3822-b4b3-4506-bb2a-d6bc7cd8f982",
   "metadata": {},
   "outputs": [
    {
     "data": {
      "text/plain": [
       "NaN          366721\n",
       "Apple            72\n",
       "Huawei           19\n",
       "Xiaomi           10\n",
       "(not set)        10\n",
       "Samsung           8\n",
       "Realme            5\n",
       "Google            4\n",
       "OPPO              4\n",
       "Flexymove         3\n",
       "Beelink           2\n",
       "OnePlus           2\n",
       "Nokia             1\n",
       "Asus              1\n",
       "Philips           1\n",
       "Name: device_brand, dtype: int64"
      ]
     },
     "execution_count": 48,
     "metadata": {},
     "output_type": "execute_result"
    }
   ],
   "source": [
    "df_ses_prep[df_ses_prep['device_category']=='desktop']['device_brand'].value_counts(dropna=False)"
   ]
  },
  {
   "cell_type": "code",
   "execution_count": 49,
   "id": "38cd42c8-1a23-406c-b107-010c0ac36444",
   "metadata": {},
   "outputs": [],
   "source": [
    "# almost all brand name for desktop is nknown (NAN or not set values)\n",
    "# fill missed brand values for desktop"
   ]
  },
  {
   "cell_type": "code",
   "execution_count": 50,
   "id": "6f7e41ba-de1f-430e-88b2-9a6d6f87c53d",
   "metadata": {},
   "outputs": [],
   "source": [
    "df_ses_prep.loc[(df_ses_prep['device_category']=='desktop') & ((df_ses_prep['device_brand'].isna()) |(df_ses_prep['device_brand']=='(not set)')), 'device_brand'] = 'other'"
   ]
  },
  {
   "cell_type": "code",
   "execution_count": 51,
   "id": "ec31d645-ffc1-4bfb-aaf7-c63069909c83",
   "metadata": {},
   "outputs": [
    {
     "data": {
      "text/plain": [
       "other        366731\n",
       "Apple            72\n",
       "Huawei           19\n",
       "Xiaomi           10\n",
       "Samsung           8\n",
       "Realme            5\n",
       "Google            4\n",
       "OPPO              4\n",
       "Flexymove         3\n",
       "Beelink           2\n",
       "OnePlus           2\n",
       "Nokia             1\n",
       "Asus              1\n",
       "Philips           1\n",
       "Name: device_brand, dtype: int64"
      ]
     },
     "execution_count": 51,
     "metadata": {},
     "output_type": "execute_result"
    }
   ],
   "source": [
    "df_ses_prep[df_ses_prep['device_category']=='desktop']['device_brand'].value_counts(dropna=False)"
   ]
  },
  {
   "cell_type": "code",
   "execution_count": 52,
   "id": "b8d5e0c3-3ed1-45d9-b769-0232a0f78b22",
   "metadata": {},
   "outputs": [],
   "source": [
    "# fill missed brand values for mobile"
   ]
  },
  {
   "cell_type": "code",
   "execution_count": 53,
   "id": "326c0b36-fbdf-43ff-a449-864eb12edf39",
   "metadata": {},
   "outputs": [
    {
     "data": {
      "text/plain": [
       "Chrome              250\n",
       "Safari               22\n",
       "Samsung Internet      9\n",
       "Firefox               5\n",
       "YaBrowser             5\n",
       "Opera                 3\n",
       "Edge                  3\n",
       "UC Browser            1\n",
       "Name: device_browser, dtype: int64"
      ]
     },
     "execution_count": 53,
     "metadata": {},
     "output_type": "execute_result"
    }
   ],
   "source": [
    "df_ses_prep[(df_ses_prep['device_brand'].isna()) & (df_ses_prep['device_category']=='mobile')]['device_browser'].value_counts()"
   ]
  },
  {
   "cell_type": "code",
   "execution_count": 54,
   "id": "bb90f85e-7775-4298-9b6b-7f17fff8792d",
   "metadata": {},
   "outputs": [],
   "source": [
    "df_ses_prep.loc[(df_ses_prep['device_category']=='mobile') & (df_ses_prep['device_brand'].isna()) & (df_ses_prep['device_browser']=='Safari'), 'device_brand'] = 'Apple'"
   ]
  },
  {
   "cell_type": "code",
   "execution_count": 55,
   "id": "2137aa99-6fc7-4f3e-b918-0c54f9681b65",
   "metadata": {},
   "outputs": [],
   "source": [
    "df_ses_prep.loc[(df_ses_prep['device_category']=='mobile') & (df_ses_prep['device_brand'].isna()) & (df_ses_prep['device_browser']=='Samsung Internet'), 'device_brand'] = 'Samsung'"
   ]
  },
  {
   "cell_type": "code",
   "execution_count": 56,
   "id": "35d14745-07d3-48f0-947d-89fb3d7da357",
   "metadata": {},
   "outputs": [],
   "source": [
    "#the last brand names for mobile c/n berestored from browser name, so let them be 'other'\n",
    "df_ses_prep.loc[(df_ses_prep['device_category']=='mobile') & (df_ses_prep['device_brand'].isna()), 'device_brand'] = 'other'"
   ]
  },
  {
   "cell_type": "code",
   "execution_count": 57,
   "id": "1d4a9090-1298-4b13-b266-d221cdc01e06",
   "metadata": {},
   "outputs": [],
   "source": [
    "#fill missed brand values for tablets"
   ]
  },
  {
   "cell_type": "code",
   "execution_count": 58,
   "id": "232b7707-2a6c-4ea3-a5bb-17ca6f81e7ae",
   "metadata": {},
   "outputs": [
    {
     "data": {
      "text/plain": [
       "Safari              117\n",
       "Samsung Internet     26\n",
       "Chrome               15\n",
       "Opera                 1\n",
       "Name: device_browser, dtype: int64"
      ]
     },
     "execution_count": 58,
     "metadata": {},
     "output_type": "execute_result"
    }
   ],
   "source": [
    "df_ses_prep[(df_ses_prep['device_brand'].isna()) & (df_ses_prep['device_category']=='tablet')]['device_browser'].value_counts(dropna=False)"
   ]
  },
  {
   "cell_type": "code",
   "execution_count": 59,
   "id": "3513bafc-f956-4793-9bb8-1af457238139",
   "metadata": {},
   "outputs": [],
   "source": [
    "#fill missed brand values as 'Apple' for devices with 'Safari' browser and 'Samsung' with 'Samsung Internet', the last as 'other'\n",
    "df_ses_prep.loc[(df_ses_prep['device_category']=='tablet') & (df_ses_prep['device_brand'].isna()) & (df_ses_prep['device_browser']=='Safari'), 'device_brand'] = 'Apple'\n",
    "df_ses_prep.loc[(df_ses_prep['device_category']=='tablet') & (df_ses_prep['device_brand'].isna()) & (df_ses_prep['device_browser']=='Samsung Internet'), 'device_brand'] = 'Samsung'\n",
    "df_ses_prep.loc[(df_ses_prep['device_category']=='tablet') & (df_ses_prep['device_brand'].isna()), 'device_brand'] = 'other'"
   ]
  },
  {
   "cell_type": "code",
   "execution_count": 60,
   "id": "d9edb74b-2ed4-410a-91b3-f5d23a099941",
   "metadata": {},
   "outputs": [
    {
     "data": {
      "text/plain": [
       "Apple           6340\n",
       "Samsung         4981\n",
       "Huawei          3441\n",
       "Lenovo          1656\n",
       "Google           713\n",
       "                ... \n",
       "ZTE                1\n",
       "Dragon Touch       1\n",
       "Tanix              1\n",
       "Nomu               1\n",
       "Explay             1\n",
       "Name: device_brand, Length: 74, dtype: int64"
      ]
     },
     "execution_count": 60,
     "metadata": {},
     "output_type": "execute_result"
    }
   ],
   "source": [
    "df_ses_prep[df_ses_prep['device_category']=='tablet']['device_brand'].value_counts(dropna=False)"
   ]
  },
  {
   "cell_type": "code",
   "execution_count": 61,
   "id": "cd2bb0a1-176b-40c9-b554-a1e11ad9d5ab",
   "metadata": {},
   "outputs": [
    {
     "data": {
      "text/plain": [
       "Chrome                    12660\n",
       "Firefox                    1711\n",
       "YaBrowser                  1465\n",
       "Android Webview            1049\n",
       "Samsung Internet            324\n",
       "Opera                       245\n",
       "Opera Mini                   25\n",
       "UC Browser                   15\n",
       "Mozilla                      11\n",
       "Safari                       10\n",
       "com.vk.vkclient               8\n",
       "Internet Explorer             6\n",
       "Android Runtime               3\n",
       "Android Browser               1\n",
       "[FBAN                         1\n",
       "Threads 202.0.0.23.119        1\n",
       "Name: device_browser, dtype: int64"
      ]
     },
     "execution_count": 61,
     "metadata": {},
     "output_type": "execute_result"
    }
   ],
   "source": [
    "df_ses_prep[df_ses_prep['device_brand']=='(not set)']['device_browser'].value_counts()"
   ]
  },
  {
   "cell_type": "code",
   "execution_count": 62,
   "id": "05bd4bd2-46e0-4b68-876c-ed95c1972e51",
   "metadata": {},
   "outputs": [],
   "source": [
    "#fill '(not_set)' values for device brand the same way as above\n",
    "df_ses_prep.loc[(df_ses_prep['device_brand']=='(not set)') & (df_ses_prep['device_browser']=='Samsung Internet'),'device_brand'] ='Samsung'\n",
    "df_ses_prep.loc[(df_ses_prep['device_brand']=='(not set)') & (df_ses_prep['device_browser']=='Safari'),'device_brand'] ='Apple'\n",
    "df_ses_prep.loc[df_ses_prep['device_brand']=='(not set)','device_brand'] ='other'"
   ]
  },
  {
   "cell_type": "code",
   "execution_count": 63,
   "id": "6d1486e0-5213-48f5-a78d-95d1a0c8853d",
   "metadata": {},
   "outputs": [
    {
     "data": {
      "text/plain": [
       "Chrome                              1013436\n",
       "Safari                               478562\n",
       "YaBrowser                            133311\n",
       "Safari (in-app)                       69912\n",
       "Android Webview                       55369\n",
       "Samsung Internet                      47309\n",
       "Opera                                 26817\n",
       "Firefox                               16588\n",
       "Edge                                  16065\n",
       "UC Browser                              871\n",
       "Android Runtime                         392\n",
       "Mozilla Compatible Agent                362\n",
       "[FBAN                                   269\n",
       "Instagram 208.0.0.32.135 Android        140\n",
       "Instagram 209.0.0.21.119 Android        111\n",
       "MRCHROME                                 77\n",
       "Android Browser                          49\n",
       "Opera Mini                               45\n",
       "Puffin                                   45\n",
       "Internet Explorer                        36\n",
       "Maxthon                                  31\n",
       "Android                                  22\n",
       "Instagram 216.1.0.21.137 Android         19\n",
       "Mozilla                                  17\n",
       "(not set)                                17\n",
       "Instagram 216.0.0.12.135                 17\n",
       "Instagram 202.0.0.23.119                 17\n",
       "Instagram 194.0.0.36.172 Android         15\n",
       "Instagram 207.0.0.28.118                 14\n",
       "Instagram 202.0.0.37.123 Android         12\n",
       "com.vk.vkclient                           8\n",
       "Instagram 192.0.0.37.119                  7\n",
       "Amazon Silk                               7\n",
       "helloworld                                6\n",
       "Coc Coc                                   6\n",
       "Instagram 213.0.0.19.117                  6\n",
       "Instagram 203.0.0.26.117                  6\n",
       "Instagram 212.0.0.38.119 Android          6\n",
       "Instagram 201.0.0.23.111                  5\n",
       "Instagram 213.0.0.29.120 Android          5\n",
       "Instagram 208.0.0.26.131                  5\n",
       "SeaMonkey                                 4\n",
       "Instagram 192.0.0.35.123 Android          3\n",
       "Instagram 158.0.0.30.123 Android          3\n",
       "MyApp                                     2\n",
       "Iron                                      2\n",
       "Instagram 199.0.0.27.120                  2\n",
       "NetFront                                  2\n",
       "Instagram 199.1.0.34.119 Android          2\n",
       "com.zhiliaoapp.musically                  1\n",
       "Konqueror                                 1\n",
       "NokiaX2-02                                1\n",
       "Phantom Browser                           1\n",
       "Instagram 206.1.0.34.121 Android          1\n",
       "Nokia501                                  1\n",
       "MT6735_TD                                 1\n",
       "Threads 202.0.0.23.119                    1\n",
       "Name: device_browser, dtype: int64"
      ]
     },
     "execution_count": 63,
     "metadata": {},
     "output_type": "execute_result"
    }
   ],
   "source": [
    "df_ses_prep['device_browser'].value_counts()"
   ]
  },
  {
   "cell_type": "code",
   "execution_count": 64,
   "id": "506d9272-170f-4ec0-a388-049a5a4d1827",
   "metadata": {},
   "outputs": [],
   "source": [
    "df_ses_prep.loc[df_ses_prep['device_browser'] =='Safari (in-app)','device_browser'] = 'Safari'"
   ]
  },
  {
   "cell_type": "code",
   "execution_count": 65,
   "id": "ab25d206-3b66-4b5c-8f88-c8c10f8941f8",
   "metadata": {},
   "outputs": [],
   "source": [
    "df_ses_prep.loc[df_ses_prep['device_browser'] =='(not set)','device_browser'] = 'other'"
   ]
  },
  {
   "cell_type": "code",
   "execution_count": 66,
   "id": "22dab647-a304-44d2-a462-a9c0a7a7c339",
   "metadata": {},
   "outputs": [
    {
     "name": "stdout",
     "output_type": "stream",
     "text": [
      "% missed records in dataset: \n",
      "utm_adcontent               18.043410\n",
      "utm_campaign                11.806346\n",
      "utm_source                   0.005215\n",
      "session_id                   0.000000\n",
      "client_id                    0.000000\n",
      "visit_date                   0.000000\n",
      "visit_time                   0.000000\n",
      "visit_number                 0.000000\n",
      "utm_medium                   0.000000\n",
      "device_category              0.000000\n",
      "device_brand                 0.000000\n",
      "device_screen_resolution     0.000000\n",
      "device_browser               0.000000\n",
      "geo_country                  0.000000\n",
      "geo_city                     0.000000\n",
      "dtype: float64\n"
     ]
    }
   ],
   "source": [
    "missed_values(df_ses_prep)"
   ]
  },
  {
   "cell_type": "code",
   "execution_count": 67,
   "id": "41defc63-7b53-4ef4-b63b-280979cd3aec",
   "metadata": {},
   "outputs": [],
   "source": [
    "# fill missed value for utm_adcontent"
   ]
  },
  {
   "cell_type": "code",
   "execution_count": 68,
   "id": "c717a01e-03aa-4585-884a-e5c33f911c33",
   "metadata": {},
   "outputs": [
    {
     "data": {
      "text/plain": [
       "count                  1524427\n",
       "unique                     286\n",
       "top       JNHcPlZPxEMWDnRiyoBf\n",
       "freq                   1006599\n",
       "Name: utm_adcontent, dtype: object"
      ]
     },
     "execution_count": 68,
     "metadata": {},
     "output_type": "execute_result"
    }
   ],
   "source": [
    "df_ses_prep['utm_adcontent'].describe()"
   ]
  },
  {
   "cell_type": "code",
   "execution_count": 69,
   "id": "b2e93d7a-7659-4d1b-ba58-754825b5cf98",
   "metadata": {},
   "outputs": [
    {
     "data": {
      "text/plain": [
       "JNHcPlZPxEMWDnRiyoBf    1006599\n",
       "NaN                      335615\n",
       "vCIpmpaGBnIQhyYNkXqp     181048\n",
       "xhoenQgDQsgfEPYNPwKO     113072\n",
       "PkybGvWbaqORmxjNunqZ      60316\n",
       "                         ...   \n",
       "vXARZToVDdvNhALiQtvl          1\n",
       "ryswqHdLvbezpDLjokYF          1\n",
       "gQEnaeQmOHisHSTEyzhp          1\n",
       "PlanrlymnpCeYvUrUTVJ          1\n",
       "oJivRDNIrrOckRBIKOtG          1\n",
       "Name: utm_adcontent, Length: 287, dtype: int64"
      ]
     },
     "execution_count": 69,
     "metadata": {},
     "output_type": "execute_result"
    }
   ],
   "source": [
    "df_ses_prep['utm_adcontent'].value_counts(dropna=False)"
   ]
  },
  {
   "cell_type": "code",
   "execution_count": 70,
   "id": "ff72f432-b78c-4569-a9b4-a1ee7e557b49",
   "metadata": {},
   "outputs": [],
   "source": [
    "df_ses_prep.loc[df_ses_prep['utm_adcontent'].isna(), 'utm_adcontent'] = 'other'"
   ]
  },
  {
   "cell_type": "code",
   "execution_count": 71,
   "id": "55ea0cc8-009a-4187-9ef5-72dd35c2abaf",
   "metadata": {},
   "outputs": [],
   "source": [
    "# fill missed value for utm_campaign"
   ]
  },
  {
   "cell_type": "code",
   "execution_count": 72,
   "id": "1fcc007d-434e-4cc9-a71f-72cea3bc4480",
   "metadata": {},
   "outputs": [
    {
     "data": {
      "text/plain": [
       "LTuZkdKfxRGVceoWkVyg    463481\n",
       "LEoPHuyFvzoNfnzGgfcd    324044\n",
       "FTjNLDyTrXaWYgZymFkV    247360\n",
       "NaN                     219603\n",
       "gecBYcKZCPMcVYdSSzKP    134042\n",
       "                         ...  \n",
       "RkpOyeEPgcMBSDuHLQcj         1\n",
       "pcvPxfVFaAmhwFmvIeYd         1\n",
       "qPDTdivQVeflLjTYIJnG         1\n",
       "MHdHrBKQwbDaRalwnlJq         1\n",
       "cXxuwXPoQCvAXPHpFcZl         1\n",
       "Name: utm_campaign, Length: 413, dtype: int64"
      ]
     },
     "execution_count": 72,
     "metadata": {},
     "output_type": "execute_result"
    }
   ],
   "source": [
    "df_ses_prep['utm_campaign'].value_counts(dropna=False)"
   ]
  },
  {
   "cell_type": "code",
   "execution_count": 73,
   "id": "7d7e5980-8fd2-4406-9a75-5de4b2b52f7f",
   "metadata": {},
   "outputs": [],
   "source": [
    "df_ses_prep.loc[df_ses_prep['utm_campaign'].isna(), 'utm_campaign'] = 'other'"
   ]
  },
  {
   "cell_type": "code",
   "execution_count": 74,
   "id": "3c87b245-d398-4a0d-92e5-d0f4ce51dc97",
   "metadata": {},
   "outputs": [],
   "source": [
    "# fill missed value for utm_source"
   ]
  },
  {
   "cell_type": "code",
   "execution_count": 75,
   "id": "bf93c932-4f55-4821-a602-cdb1ecd23fa5",
   "metadata": {},
   "outputs": [
    {
     "data": {
      "text/plain": [
       "count                  1859945\n",
       "unique                     293\n",
       "top       ZpYIoDJMcFzVoPFsHGJL\n",
       "freq                    578290\n",
       "Name: utm_source, dtype: object"
      ]
     },
     "execution_count": 75,
     "metadata": {},
     "output_type": "execute_result"
    }
   ],
   "source": [
    "df_ses_prep['utm_source'].describe()"
   ]
  },
  {
   "cell_type": "code",
   "execution_count": 76,
   "id": "0246f17b-a97f-41d1-87df-c3abc030d261",
   "metadata": {},
   "outputs": [
    {
     "data": {
      "text/plain": [
       "ZpYIoDJMcFzVoPFsHGJL    578290\n",
       "fDLlAcSmythWSCVMvqvL    300575\n",
       "kjsLglQLzykiRbcDiGcD    266354\n",
       "MvfHsxITijuriZxsqZqt    186199\n",
       "BHcvLfOaCWvWTykYqHVe    116320\n",
       "                         ...  \n",
       "GYkgJdhSxirUFPHFiYSe         1\n",
       "WRHPhoRKhKxaenRCLBfo         1\n",
       "tjKUGseGMhkLEzdCqBRx         1\n",
       "wpmatvDuiMutnvmNVPJo         1\n",
       "BellrslNBZQZaIxVFGXJ         1\n",
       "Name: utm_source, Length: 294, dtype: int64"
      ]
     },
     "execution_count": 76,
     "metadata": {},
     "output_type": "execute_result"
    }
   ],
   "source": [
    "df_ses_prep['utm_source'].value_counts(dropna=False)"
   ]
  },
  {
   "cell_type": "code",
   "execution_count": 77,
   "id": "4017ed28-a1f7-43a6-b155-e39acac8c6f9",
   "metadata": {},
   "outputs": [],
   "source": [
    "df_ses_prep.loc[df_ses_prep['utm_source'].isna(), 'utm_source'] = 'other'"
   ]
  },
  {
   "cell_type": "code",
   "execution_count": 78,
   "id": "801284f8-d6a2-47bd-a70d-5d8d96616101",
   "metadata": {},
   "outputs": [
    {
     "name": "stdout",
     "output_type": "stream",
     "text": [
      "% missed records in dataset: \n",
      "session_id                  0.0\n",
      "client_id                   0.0\n",
      "visit_date                  0.0\n",
      "visit_time                  0.0\n",
      "visit_number                0.0\n",
      "utm_source                  0.0\n",
      "utm_medium                  0.0\n",
      "utm_campaign                0.0\n",
      "utm_adcontent               0.0\n",
      "device_category             0.0\n",
      "device_brand                0.0\n",
      "device_screen_resolution    0.0\n",
      "device_browser              0.0\n",
      "geo_country                 0.0\n",
      "geo_city                    0.0\n",
      "dtype: float64\n"
     ]
    }
   ],
   "source": [
    "missed_values(df_ses_prep)"
   ]
  },
  {
   "cell_type": "code",
   "execution_count": 79,
   "id": "c04ebb79-cea6-4687-84d4-1547a3595c0a",
   "metadata": {},
   "outputs": [],
   "source": [
    "df_ses_prep.to_csv('/Users/sergey/Downloads/diploma/df_ses_prep.csv', index=False)"
   ]
  },
  {
   "cell_type": "markdown",
   "id": "ee1d64d7-c28d-412f-b0ce-80ec43fba9f8",
   "metadata": {
    "tags": []
   },
   "source": [
    "## Merged data"
   ]
  },
  {
   "cell_type": "code",
   "execution_count": 80,
   "id": "f9427332-7724-4cd8-8f59-1e3ba65997c4",
   "metadata": {},
   "outputs": [],
   "source": [
    "data_session = pd.read_csv('/Users/sergey/Downloads/diploma/data_session.csv')"
   ]
  },
  {
   "cell_type": "markdown",
   "id": "5835014f-8b28-4381-adff-78dfd866a7d1",
   "metadata": {},
   "source": [
    "### Data Preparation"
   ]
  },
  {
   "cell_type": "markdown",
   "id": "84df2337-51d5-48ad-9565-6b4dd88daa4a",
   "metadata": {},
   "source": [
    "#### Check dublicated records"
   ]
  },
  {
   "cell_type": "code",
   "execution_count": 81,
   "id": "15c4e7bf-f0ba-4fa9-b6f4-6d07682af1d6",
   "metadata": {},
   "outputs": [
    {
     "data": {
      "text/plain": [
       "54148"
      ]
     },
     "execution_count": 81,
     "metadata": {},
     "output_type": "execute_result"
    }
   ],
   "source": [
    "len(data_session[data_session.duplicated()])"
   ]
  },
  {
   "cell_type": "code",
   "execution_count": 82,
   "id": "95cb9ac8-bfdc-4280-8977-1c87aaa0e7b1",
   "metadata": {},
   "outputs": [],
   "source": [
    "data_session=data_session.drop_duplicates()"
   ]
  },
  {
   "cell_type": "markdown",
   "id": "7881f77c-4efc-4043-98c2-916e2e6c3d25",
   "metadata": {},
   "source": [
    "#### Check merged data"
   ]
  },
  {
   "cell_type": "code",
   "execution_count": 83,
   "id": "965e7050-43cb-490d-8bbf-6c131c595a3d",
   "metadata": {},
   "outputs": [
    {
     "data": {
      "text/html": [
       "<div>\n",
       "<style scoped>\n",
       "    .dataframe tbody tr th:only-of-type {\n",
       "        vertical-align: middle;\n",
       "    }\n",
       "\n",
       "    .dataframe tbody tr th {\n",
       "        vertical-align: top;\n",
       "    }\n",
       "\n",
       "    .dataframe thead th {\n",
       "        text-align: right;\n",
       "    }\n",
       "</style>\n",
       "<table border=\"1\" class=\"dataframe\">\n",
       "  <thead>\n",
       "    <tr style=\"text-align: right;\">\n",
       "      <th></th>\n",
       "      <th>session_id</th>\n",
       "    </tr>\n",
       "  </thead>\n",
       "  <tbody>\n",
       "    <tr>\n",
       "      <th>0</th>\n",
       "      <td>2744563715298057088.1640258436.1640258436</td>\n",
       "    </tr>\n",
       "    <tr>\n",
       "      <th>1</th>\n",
       "      <td>3087297479839089634.1640268774.1640268774</td>\n",
       "    </tr>\n",
       "    <tr>\n",
       "      <th>2</th>\n",
       "      <td>3156966333326004302.1640206419.1640206800</td>\n",
       "    </tr>\n",
       "    <tr>\n",
       "      <th>3</th>\n",
       "      <td>3750243879753098158.1640272208.1640272208</td>\n",
       "    </tr>\n",
       "    <tr>\n",
       "      <th>4</th>\n",
       "      <td>7518333712042258254.1640258901.1640258901</td>\n",
       "    </tr>\n",
       "  </tbody>\n",
       "</table>\n",
       "</div>"
      ],
      "text/plain": [
       "                                  session_id\n",
       "0  2744563715298057088.1640258436.1640258436\n",
       "1  3087297479839089634.1640268774.1640268774\n",
       "2  3156966333326004302.1640206419.1640206800\n",
       "3  3750243879753098158.1640272208.1640272208\n",
       "4  7518333712042258254.1640258901.1640258901"
      ]
     },
     "execution_count": 83,
     "metadata": {},
     "output_type": "execute_result"
    }
   ],
   "source": [
    "data_session.head()"
   ]
  },
  {
   "cell_type": "code",
   "execution_count": 84,
   "id": "bc5ed627-4ab1-4f37-8f20-45c872a60c29",
   "metadata": {},
   "outputs": [],
   "source": [
    "data_session.loc[:,'useful_action'] = 1"
   ]
  },
  {
   "cell_type": "code",
   "execution_count": 85,
   "id": "51abed7b-c320-47fa-ac67-6f1f75f85577",
   "metadata": {},
   "outputs": [
    {
     "data": {
      "text/html": [
       "<div>\n",
       "<style scoped>\n",
       "    .dataframe tbody tr th:only-of-type {\n",
       "        vertical-align: middle;\n",
       "    }\n",
       "\n",
       "    .dataframe tbody tr th {\n",
       "        vertical-align: top;\n",
       "    }\n",
       "\n",
       "    .dataframe thead th {\n",
       "        text-align: right;\n",
       "    }\n",
       "</style>\n",
       "<table border=\"1\" class=\"dataframe\">\n",
       "  <thead>\n",
       "    <tr style=\"text-align: right;\">\n",
       "      <th></th>\n",
       "      <th>session_id</th>\n",
       "      <th>useful_action</th>\n",
       "    </tr>\n",
       "  </thead>\n",
       "  <tbody>\n",
       "    <tr>\n",
       "      <th>0</th>\n",
       "      <td>2744563715298057088.1640258436.1640258436</td>\n",
       "      <td>1</td>\n",
       "    </tr>\n",
       "    <tr>\n",
       "      <th>1</th>\n",
       "      <td>3087297479839089634.1640268774.1640268774</td>\n",
       "      <td>1</td>\n",
       "    </tr>\n",
       "    <tr>\n",
       "      <th>2</th>\n",
       "      <td>3156966333326004302.1640206419.1640206800</td>\n",
       "      <td>1</td>\n",
       "    </tr>\n",
       "    <tr>\n",
       "      <th>3</th>\n",
       "      <td>3750243879753098158.1640272208.1640272208</td>\n",
       "      <td>1</td>\n",
       "    </tr>\n",
       "    <tr>\n",
       "      <th>4</th>\n",
       "      <td>7518333712042258254.1640258901.1640258901</td>\n",
       "      <td>1</td>\n",
       "    </tr>\n",
       "  </tbody>\n",
       "</table>\n",
       "</div>"
      ],
      "text/plain": [
       "                                  session_id  useful_action\n",
       "0  2744563715298057088.1640258436.1640258436              1\n",
       "1  3087297479839089634.1640268774.1640268774              1\n",
       "2  3156966333326004302.1640206419.1640206800              1\n",
       "3  3750243879753098158.1640272208.1640272208              1\n",
       "4  7518333712042258254.1640258901.1640258901              1"
      ]
     },
     "execution_count": 85,
     "metadata": {},
     "output_type": "execute_result"
    }
   ],
   "source": [
    "data_session.head()"
   ]
  },
  {
   "cell_type": "code",
   "execution_count": 86,
   "id": "a9043d2c-eec0-4248-a1ef-7ef3c3425c82",
   "metadata": {},
   "outputs": [],
   "source": [
    "df_merge = pd.merge(left=df_ses_prep, right=data_session, on='session_id', how='left')"
   ]
  },
  {
   "cell_type": "code",
   "execution_count": 87,
   "id": "598b5ca7-bc6e-4f4c-a8d7-2f0d29fc7aaa",
   "metadata": {},
   "outputs": [
    {
     "data": {
      "text/plain": [
       "(1860042, 16)"
      ]
     },
     "execution_count": 87,
     "metadata": {},
     "output_type": "execute_result"
    }
   ],
   "source": [
    "df_merge.shape"
   ]
  },
  {
   "cell_type": "code",
   "execution_count": 88,
   "id": "2ce503e7-1298-45be-a03e-510093ad6b23",
   "metadata": {},
   "outputs": [
    {
     "data": {
      "text/plain": [
       "NaN    1809728\n",
       "1.0      50314\n",
       "Name: useful_action, dtype: int64"
      ]
     },
     "execution_count": 88,
     "metadata": {},
     "output_type": "execute_result"
    }
   ],
   "source": [
    "df_merge['useful_action'].value_counts(dropna=False)"
   ]
  },
  {
   "cell_type": "code",
   "execution_count": 89,
   "id": "ff2e784e-9cf1-4675-b628-dd6e5849983d",
   "metadata": {},
   "outputs": [],
   "source": [
    "df_merge['useful_action'] = df_merge['useful_action'].fillna(0)"
   ]
  },
  {
   "cell_type": "code",
   "execution_count": 90,
   "id": "8d00631c-21c0-4b16-bc67-245881dccf79",
   "metadata": {},
   "outputs": [
    {
     "data": {
      "text/plain": [
       "0.0    1809728\n",
       "1.0      50314\n",
       "Name: useful_action, dtype: int64"
      ]
     },
     "execution_count": 90,
     "metadata": {},
     "output_type": "execute_result"
    }
   ],
   "source": [
    "df_merge['useful_action'].value_counts(dropna=False)"
   ]
  },
  {
   "cell_type": "code",
   "execution_count": 91,
   "id": "eaaf635a-f994-41b5-8e05-7a4404b9b601",
   "metadata": {},
   "outputs": [],
   "source": [
    "df_merge.to_csv('/Users/sergey/Downloads/diploma/df_merge.csv', index=False)"
   ]
  },
  {
   "cell_type": "markdown",
   "id": "a61246db-ea38-4ba7-a1af-781daaa3675b",
   "metadata": {
    "jp-MarkdownHeadingCollapsed": true,
    "tags": []
   },
   "source": [
    "### Feature Engineering"
   ]
  },
  {
   "cell_type": "code",
   "execution_count": 92,
   "id": "9ee30854-fcb5-4d88-b2de-44aa95a7ff08",
   "metadata": {},
   "outputs": [],
   "source": [
    "#visit number distribution"
   ]
  },
  {
   "cell_type": "code",
   "execution_count": 93,
   "id": "9221c21d-afa6-4ef2-ac9d-31a4d4038a84",
   "metadata": {},
   "outputs": [
    {
     "data": {
      "image/png": "[encoded data removed]",
      "text/plain": [
       "<Figure size 576x360 with 1 Axes>"
      ]
     },
     "metadata": {
      "needs_background": "light"
     },
     "output_type": "display_data"
    }
   ],
   "source": [
    "plt.figure(figsize=(8,5))\n",
    "plt.hist(df_merge['visit_number'], bins = 15, color ='green')\n",
    "plt.xlabel('visit number')\n",
    "plt.ylabel('frequency')\n",
    "plt.title('visit number distribution');"
   ]
  },
  {
   "cell_type": "code",
   "execution_count": 94,
   "id": "ea64afd8-8d94-4e61-8fca-ca6e20054823",
   "metadata": {},
   "outputs": [
    {
     "data": {
      "image/png": "[encoded data removed]",
      "text/plain": [
       "<Figure size 576x576 with 1 Axes>"
      ]
     },
     "metadata": {
      "needs_background": "light"
     },
     "output_type": "display_data"
    }
   ],
   "source": [
    "from matplotlib.ticker import FormatStrFormatter\n",
    "fig, ax = plt.subplots(figsize=(8, 8))\n",
    "ax.boxplot(df_merge['visit_number'])\n",
    "ax.set_ylabel('visit number')\n",
    "ax.set_title('box for visit number')\n",
    "ax.yaxis.set_major_formatter(FormatStrFormatter('%.0f'))"
   ]
  },
  {
   "cell_type": "code",
   "execution_count": 95,
   "id": "e608086c-0b81-4c14-8044-3e85bbbc3792",
   "metadata": {},
   "outputs": [],
   "source": [
    "#s/b anomaly values"
   ]
  },
  {
   "cell_type": "code",
   "execution_count": 96,
   "id": "b8e4c5e4-24ef-47d4-b2a1-09b463dd8935",
   "metadata": {},
   "outputs": [
    {
     "data": {
      "text/plain": [
       "count    1860042.000\n",
       "mean           2.713\n",
       "std           11.829\n",
       "min            1.000\n",
       "25%            1.000\n",
       "50%            1.000\n",
       "75%            2.000\n",
       "max          564.000\n",
       "Name: visit_number, dtype: object"
      ]
     },
     "execution_count": 96,
     "metadata": {},
     "output_type": "execute_result"
    }
   ],
   "source": [
    "df_merge['visit_number'].describe().apply(lambda x: f\"{x:0.3f}\")"
   ]
  },
  {
   "cell_type": "code",
   "execution_count": 97,
   "id": "763240dc-7a45-4054-b0a3-c004630c6eed",
   "metadata": {},
   "outputs": [
    {
     "data": {
      "text/plain": [
       "1     1376349\n",
       "2      235656\n",
       "3       81068\n",
       "4       41666\n",
       "5       24271\n",
       "6       16473\n",
       "7       11640\n",
       "8        8735\n",
       "9        6692\n",
       "10       5413\n",
       "Name: visit_number, dtype: int64"
      ]
     },
     "execution_count": 97,
     "metadata": {},
     "output_type": "execute_result"
    }
   ],
   "source": [
    "df_merge['visit_number'].value_counts()[:10]"
   ]
  },
  {
   "cell_type": "code",
   "execution_count": 98,
   "id": "00a7e5dd-1d7d-4ecb-828e-daaac546daae",
   "metadata": {},
   "outputs": [
    {
     "data": {
      "text/plain": [
       "15.0"
      ]
     },
     "execution_count": 98,
     "metadata": {},
     "output_type": "execute_result"
    }
   ],
   "source": [
    "max_cutoff_visit = round(df_merge['visit_number'].mean() + df_merge['visit_number'].std(),0)\n",
    "max_cutoff_visit"
   ]
  },
  {
   "cell_type": "code",
   "execution_count": 99,
   "id": "a9761cc3-6676-4dde-899d-bcc73d92de69",
   "metadata": {},
   "outputs": [
    {
     "name": "stdout",
     "output_type": "stream",
     "text": [
      "out of 1.9  % from all visit_number values\n"
     ]
    }
   ],
   "source": [
    "print('out of',round(len(df_merge[df_merge['visit_number'] > max_cutoff_visit])/len(df_merge),3)*100,' % from all visit_number values')"
   ]
  },
  {
   "cell_type": "code",
   "execution_count": 100,
   "id": "94d88679-7f9a-40ff-987c-f19765f24863",
   "metadata": {},
   "outputs": [],
   "source": [
    "df_merge.loc[df_merge['visit_number']>15,'visit_number'] = 15"
   ]
  },
  {
   "cell_type": "code",
   "execution_count": 101,
   "id": "04ef6656-bf30-4c0c-a6ed-87f47d332aa5",
   "metadata": {},
   "outputs": [
    {
     "data": {
      "text/plain": [
       "count    1860042.000\n",
       "mean           1.875\n",
       "std            2.464\n",
       "min            1.000\n",
       "25%            1.000\n",
       "50%            1.000\n",
       "75%            2.000\n",
       "max           15.000\n",
       "Name: visit_number, dtype: object"
      ]
     },
     "execution_count": 101,
     "metadata": {},
     "output_type": "execute_result"
    }
   ],
   "source": [
    "df_merge['visit_number'].describe().apply(lambda x: f\"{x:0.3f}\")"
   ]
  },
  {
   "cell_type": "code",
   "execution_count": 102,
   "id": "690ba655-1695-4a4c-98f9-5514c01aa6b5",
   "metadata": {},
   "outputs": [
    {
     "data": {
      "image/png": "[encoded data removed]",
      "text/plain": [
       "<Figure size 576x360 with 1 Axes>"
      ]
     },
     "metadata": {
      "needs_background": "light"
     },
     "output_type": "display_data"
    }
   ],
   "source": [
    "plt.figure(figsize=(8,5))\n",
    "plt.hist(df_merge['visit_number'], bins = 15, color ='green')\n",
    "plt.xlabel('visit number')\n",
    "plt.ylabel('frequency')\n",
    "plt.title('visit number distribution');"
   ]
  },
  {
   "cell_type": "code",
   "execution_count": 103,
   "id": "5794a1e8-832e-45db-a46b-2c05889e577d",
   "metadata": {},
   "outputs": [],
   "source": [
    "#gerenate time action from visit_time"
   ]
  },
  {
   "cell_type": "code",
   "execution_count": 104,
   "id": "d4ad9680-debb-4667-af1d-8b40fb9cd1c7",
   "metadata": {},
   "outputs": [],
   "source": [
    "df_merge['time_action'] = df_merge['visit_time'].apply(lambda x: x.split(':')[0])"
   ]
  },
  {
   "cell_type": "code",
   "execution_count": 105,
   "id": "3b1ce5d0-02fa-4fdf-81d0-76559917fa17",
   "metadata": {},
   "outputs": [],
   "source": [
    "sorted_time_actions = sorted(df_merge['time_action'])"
   ]
  },
  {
   "cell_type": "code",
   "execution_count": 106,
   "id": "ea6c2655-b048-446c-ae3c-42c2fe2e0cd4",
   "metadata": {},
   "outputs": [
    {
     "data": {
      "image/png": "[encoded data removed]",
      "text/plain": [
       "<Figure size 576x360 with 1 Axes>"
      ]
     },
     "metadata": {
      "needs_background": "light"
     },
     "output_type": "display_data"
    }
   ],
   "source": [
    "plt.figure(figsize=(8,5))\n",
    "plt.hist(sorted_time_actions, bins = 24, color ='coral')\n",
    "plt.xlabel('time')\n",
    "plt.ylabel('frequency_action')\n",
    "plt.title('time_action distribution');"
   ]
  },
  {
   "cell_type": "code",
   "execution_count": 107,
   "id": "3ab83160-12ad-40bc-8251-8597042d9159",
   "metadata": {},
   "outputs": [],
   "source": [
    "# new feature - month from visit date"
   ]
  },
  {
   "cell_type": "code",
   "execution_count": 109,
   "id": "e5c2094f-9a2e-4609-b1ed-2a53ed788079",
   "metadata": {},
   "outputs": [
    {
     "data": {
      "text/plain": [
       "datetime64[ns, UTC]"
      ]
     },
     "execution_count": 109,
     "metadata": {},
     "output_type": "execute_result"
    }
   ],
   "source": [
    "df_merge['visit_date'] = pd.to_datetime(df_merge['visit_date'], utc = True)\n",
    "\n",
    "df_merge['visit_date'].dtype"
   ]
  },
  {
   "cell_type": "code",
   "execution_count": 110,
   "id": "da6b0fd2-bd0f-46d9-abee-23514d5a377d",
   "metadata": {},
   "outputs": [],
   "source": [
    "df_merge['month'] = pd.DatetimeIndex(df_merge['visit_date']).month"
   ]
  },
  {
   "cell_type": "code",
   "execution_count": 111,
   "id": "0a363bec-b102-4570-bdde-5df39e08e4e3",
   "metadata": {},
   "outputs": [
    {
     "data": {
      "text/plain": [
       "array([11, 12,  5,  7,  6,  8, 10,  9])"
      ]
     },
     "execution_count": 111,
     "metadata": {},
     "output_type": "execute_result"
    }
   ],
   "source": [
    "df_merge['month'].unique()"
   ]
  },
  {
   "cell_type": "code",
   "execution_count": 112,
   "id": "6dda967d-bc37-4fcc-bfe4-3d999fb1e039",
   "metadata": {},
   "outputs": [
    {
     "data": {
      "text/plain": [
       "12    399102\n",
       "11    297769\n",
       "10    281622\n",
       "9     257478\n",
       "7     185244\n",
       "6     166470\n",
       "8     164155\n",
       "5     108202\n",
       "Name: month, dtype: int64"
      ]
     },
     "execution_count": 112,
     "metadata": {},
     "output_type": "execute_result"
    }
   ],
   "source": [
    "df_merge['month'].value_counts()"
   ]
  },
  {
   "cell_type": "code",
   "execution_count": 113,
   "id": "f5396d39-3f7d-402c-9dab-1521177446a7",
   "metadata": {},
   "outputs": [],
   "source": [
    "# new feature - day of week from visit_date"
   ]
  },
  {
   "cell_type": "code",
   "execution_count": 114,
   "id": "2ebde873-cac2-4c81-b7a3-9d3da5d44f6d",
   "metadata": {},
   "outputs": [
    {
     "data": {
      "text/plain": [
       "array([2, 6, 1, 5, 0, 3, 4])"
      ]
     },
     "execution_count": 114,
     "metadata": {},
     "output_type": "execute_result"
    }
   ],
   "source": [
    "df_merge['weekday'] = df_merge['visit_date'].dt.weekday\n",
    "df_merge['weekday'].unique()"
   ]
  },
  {
   "cell_type": "code",
   "execution_count": 115,
   "id": "c73b839f-783a-45d1-a2e4-5bafb918a16d",
   "metadata": {},
   "outputs": [
    {
     "data": {
      "text/plain": [
       "1    305130\n",
       "0    300906\n",
       "3    274462\n",
       "4    268819\n",
       "2    258616\n",
       "5    226397\n",
       "6    225712\n",
       "Name: weekday, dtype: int64"
      ]
     },
     "execution_count": 115,
     "metadata": {},
     "output_type": "execute_result"
    }
   ],
   "source": [
    "df_merge['weekday'].value_counts()"
   ]
  },
  {
   "cell_type": "code",
   "execution_count": 117,
   "id": "1cd2cfe9-e276-4dfb-b29b-450ebfef8e86",
   "metadata": {},
   "outputs": [],
   "source": [
    "#new feache - diagonal"
   ]
  },
  {
   "cell_type": "code",
   "execution_count": 118,
   "id": "f9abb23f-4656-4238-abd0-1aa46ddc8390",
   "metadata": {},
   "outputs": [
    {
     "data": {
      "text/plain": [
       "count     1860042\n",
       "unique       5039\n",
       "top       414x896\n",
       "freq       169090\n",
       "Name: device_screen_resolution, dtype: object"
      ]
     },
     "execution_count": 118,
     "metadata": {},
     "output_type": "execute_result"
    }
   ],
   "source": [
    "df_merge['device_screen_resolution'].describe()"
   ]
  },
  {
   "cell_type": "code",
   "execution_count": 119,
   "id": "54122519-1743-48c7-a989-d2fdce192427",
   "metadata": {},
   "outputs": [
    {
     "data": {
      "text/plain": [
       "414x896      169090\n",
       "1920x1080    125768\n",
       "375x812      117944\n",
       "393x851      115454\n",
       "375x667       93341\n",
       "360x780       92182\n",
       "360x800       80547\n",
       "412x915       74744\n",
       "360x640       70588\n",
       "390x844       60827\n",
       "393x873       52056\n",
       "360x720       50603\n",
       "360x760       50467\n",
       "412x892       43944\n",
       "428x926       40690\n",
       "1536x864      37287\n",
       "1366x768      34102\n",
       "414x736       32631\n",
       "1440x900      31036\n",
       "412x846       25121\n",
       "Name: device_screen_resolution, dtype: int64"
      ]
     },
     "execution_count": 119,
     "metadata": {},
     "output_type": "execute_result"
    }
   ],
   "source": [
    "df_merge['device_screen_resolution'].value_counts()[:20]"
   ]
  },
  {
   "cell_type": "code",
   "execution_count": 120,
   "id": "ab9d41af-7195-44d5-97b4-852055d5e078",
   "metadata": {},
   "outputs": [
    {
     "data": {
      "text/plain": [
       "8"
      ]
     },
     "execution_count": 120,
     "metadata": {},
     "output_type": "execute_result"
    }
   ],
   "source": [
    "len(df_merge[df_merge['device_screen_resolution']=='(not set)'])"
   ]
  },
  {
   "cell_type": "code",
   "execution_count": 121,
   "id": "5e1375cc-95e8-4189-ae9a-7271e2cb861c",
   "metadata": {},
   "outputs": [
    {
     "data": {
      "text/plain": [
       "array(['mobile'], dtype=object)"
      ]
     },
     "execution_count": 121,
     "metadata": {},
     "output_type": "execute_result"
    }
   ],
   "source": [
    "df_merge[df_merge['device_screen_resolution']=='(not set)']['device_category'].unique()"
   ]
  },
  {
   "cell_type": "code",
   "execution_count": 122,
   "id": "36c5de20-3ed3-413e-b885-0467940316e7",
   "metadata": {},
   "outputs": [
    {
     "data": {
      "text/plain": [
       "414x896     168679\n",
       "375x812     117643\n",
       "393x851     114531\n",
       "375x667      92206\n",
       "360x780      92061\n",
       "             ...  \n",
       "291x568          1\n",
       "459x1102         1\n",
       "375x731          1\n",
       "309x857          1\n",
       "464x1123         1\n",
       "Name: device_screen_resolution, Length: 3309, dtype: int64"
      ]
     },
     "execution_count": 122,
     "metadata": {},
     "output_type": "execute_result"
    }
   ],
   "source": [
    "df_merge[df_merge['device_category']=='mobile']['device_screen_resolution'].value_counts()"
   ]
  },
  {
   "cell_type": "code",
   "execution_count": 123,
   "id": "6dab1299-d8f2-4aa2-adb8-156db63b0a86",
   "metadata": {},
   "outputs": [],
   "source": [
    "#fill (not set) resolution with top value among mobiles\n",
    "df_merge.loc[df_merge['device_screen_resolution']=='(not set)','device_screen_resolution']='414x896'"
   ]
  },
  {
   "cell_type": "code",
   "execution_count": 124,
   "id": "cec90e56-6e4b-4f55-b2b5-c5e059c4f47b",
   "metadata": {},
   "outputs": [],
   "source": [
    "df_merge['device_side_dimencions'] = df_merge['device_screen_resolution'].apply(lambda x: pd.to_numeric(x.split('x')))"
   ]
  },
  {
   "cell_type": "code",
   "execution_count": 125,
   "id": "943beaf3-0326-4b2e-98f1-00c23d979a76",
   "metadata": {},
   "outputs": [],
   "source": [
    "df_merge['diagonal'] = df_merge['device_side_dimencions'].apply(lambda x: round((x[0]*x[0] + x[1]*x[1])**0.5,0))\n",
    "df_merge['diagonal'] = df_merge['diagonal'].astype(int) "
   ]
  },
  {
   "cell_type": "code",
   "execution_count": 126,
   "id": "8227dd3e-f72f-47de-8341-1fe02aa8e1bb",
   "metadata": {},
   "outputs": [
    {
     "data": {
      "image/png": "[encoded data removed]",
      "text/plain": [
       "<Figure size 576x360 with 1 Axes>"
      ]
     },
     "metadata": {
      "needs_background": "light"
     },
     "output_type": "display_data"
    }
   ],
   "source": [
    "plt.figure(figsize=(8,5))\n",
    "plt.hist(df_merge['diagonal'], bins = 50)\n",
    "plt.xlabel('diagonal')\n",
    "plt.ylabel('frequency')\n",
    "plt.title('diagonal distribution');"
   ]
  },
  {
   "cell_type": "code",
   "execution_count": 127,
   "id": "87f05721-08b2-42e0-9eb4-657e756d0510",
   "metadata": {},
   "outputs": [
    {
     "data": {
      "text/html": [
       "<div>\n",
       "<style scoped>\n",
       "    .dataframe tbody tr th:only-of-type {\n",
       "        vertical-align: middle;\n",
       "    }\n",
       "\n",
       "    .dataframe tbody tr th {\n",
       "        vertical-align: top;\n",
       "    }\n",
       "\n",
       "    .dataframe thead th {\n",
       "        text-align: right;\n",
       "    }\n",
       "</style>\n",
       "<table border=\"1\" class=\"dataframe\">\n",
       "  <thead>\n",
       "    <tr style=\"text-align: right;\">\n",
       "      <th></th>\n",
       "      <th>visit_date</th>\n",
       "      <th>visit_number</th>\n",
       "      <th>utm_source</th>\n",
       "      <th>utm_medium</th>\n",
       "      <th>utm_campaign</th>\n",
       "      <th>utm_adcontent</th>\n",
       "      <th>device_category</th>\n",
       "      <th>device_brand</th>\n",
       "      <th>device_browser</th>\n",
       "      <th>geo_country</th>\n",
       "      <th>geo_city</th>\n",
       "      <th>useful_action</th>\n",
       "      <th>time_action</th>\n",
       "      <th>month</th>\n",
       "      <th>weekday</th>\n",
       "      <th>diagonal</th>\n",
       "    </tr>\n",
       "  </thead>\n",
       "  <tbody>\n",
       "    <tr>\n",
       "      <th>0</th>\n",
       "      <td>2021-11-24 00:00:00+00:00</td>\n",
       "      <td>1</td>\n",
       "      <td>ZpYIoDJMcFzVoPFsHGJL</td>\n",
       "      <td>banner</td>\n",
       "      <td>LEoPHuyFvzoNfnzGgfcd</td>\n",
       "      <td>vCIpmpaGBnIQhyYNkXqp</td>\n",
       "      <td>mobile</td>\n",
       "      <td>Huawei</td>\n",
       "      <td>Chrome</td>\n",
       "      <td>Russia</td>\n",
       "      <td>Zlatoust</td>\n",
       "      <td>0.0</td>\n",
       "      <td>14</td>\n",
       "      <td>11</td>\n",
       "      <td>2</td>\n",
       "      <td>805</td>\n",
       "    </tr>\n",
       "    <tr>\n",
       "      <th>1</th>\n",
       "      <td>2021-11-14 00:00:00+00:00</td>\n",
       "      <td>1</td>\n",
       "      <td>MvfHsxITijuriZxsqZqt</td>\n",
       "      <td>cpm</td>\n",
       "      <td>FTjNLDyTrXaWYgZymFkV</td>\n",
       "      <td>xhoenQgDQsgfEPYNPwKO</td>\n",
       "      <td>mobile</td>\n",
       "      <td>Samsung</td>\n",
       "      <td>Samsung Internet</td>\n",
       "      <td>Russia</td>\n",
       "      <td>Moscow</td>\n",
       "      <td>0.0</td>\n",
       "      <td>08</td>\n",
       "      <td>11</td>\n",
       "      <td>6</td>\n",
       "      <td>937</td>\n",
       "    </tr>\n",
       "    <tr>\n",
       "      <th>2</th>\n",
       "      <td>2021-12-28 00:00:00+00:00</td>\n",
       "      <td>1</td>\n",
       "      <td>ZpYIoDJMcFzVoPFsHGJL</td>\n",
       "      <td>banner</td>\n",
       "      <td>LEoPHuyFvzoNfnzGgfcd</td>\n",
       "      <td>vCIpmpaGBnIQhyYNkXqp</td>\n",
       "      <td>mobile</td>\n",
       "      <td>Huawei</td>\n",
       "      <td>Chrome</td>\n",
       "      <td>Russia</td>\n",
       "      <td>Krasnoyarsk</td>\n",
       "      <td>0.0</td>\n",
       "      <td>02</td>\n",
       "      <td>12</td>\n",
       "      <td>1</td>\n",
       "      <td>805</td>\n",
       "    </tr>\n",
       "    <tr>\n",
       "      <th>3</th>\n",
       "      <td>2021-05-29 00:00:00+00:00</td>\n",
       "      <td>1</td>\n",
       "      <td>kjsLglQLzykiRbcDiGcD</td>\n",
       "      <td>cpc</td>\n",
       "      <td>other</td>\n",
       "      <td>NOBKLgtuvqYWkXQHeYWM</td>\n",
       "      <td>mobile</td>\n",
       "      <td>Xiaomi</td>\n",
       "      <td>Chrome</td>\n",
       "      <td>Russia</td>\n",
       "      <td>Moscow</td>\n",
       "      <td>0.0</td>\n",
       "      <td>05</td>\n",
       "      <td>5</td>\n",
       "      <td>5</td>\n",
       "      <td>879</td>\n",
       "    </tr>\n",
       "    <tr>\n",
       "      <th>4</th>\n",
       "      <td>2021-05-29 00:00:00+00:00</td>\n",
       "      <td>2</td>\n",
       "      <td>kjsLglQLzykiRbcDiGcD</td>\n",
       "      <td>cpc</td>\n",
       "      <td>other</td>\n",
       "      <td>other</td>\n",
       "      <td>mobile</td>\n",
       "      <td>Xiaomi</td>\n",
       "      <td>Chrome</td>\n",
       "      <td>Russia</td>\n",
       "      <td>Moscow</td>\n",
       "      <td>0.0</td>\n",
       "      <td>05</td>\n",
       "      <td>5</td>\n",
       "      <td>5</td>\n",
       "      <td>879</td>\n",
       "    </tr>\n",
       "  </tbody>\n",
       "</table>\n",
       "</div>"
      ],
      "text/plain": [
       "                 visit_date  visit_number            utm_source utm_medium  \\\n",
       "0 2021-11-24 00:00:00+00:00             1  ZpYIoDJMcFzVoPFsHGJL     banner   \n",
       "1 2021-11-14 00:00:00+00:00             1  MvfHsxITijuriZxsqZqt        cpm   \n",
       "2 2021-12-28 00:00:00+00:00             1  ZpYIoDJMcFzVoPFsHGJL     banner   \n",
       "3 2021-05-29 00:00:00+00:00             1  kjsLglQLzykiRbcDiGcD        cpc   \n",
       "4 2021-05-29 00:00:00+00:00             2  kjsLglQLzykiRbcDiGcD        cpc   \n",
       "\n",
       "           utm_campaign         utm_adcontent device_category device_brand  \\\n",
       "0  LEoPHuyFvzoNfnzGgfcd  vCIpmpaGBnIQhyYNkXqp          mobile       Huawei   \n",
       "1  FTjNLDyTrXaWYgZymFkV  xhoenQgDQsgfEPYNPwKO          mobile      Samsung   \n",
       "2  LEoPHuyFvzoNfnzGgfcd  vCIpmpaGBnIQhyYNkXqp          mobile       Huawei   \n",
       "3                 other  NOBKLgtuvqYWkXQHeYWM          mobile       Xiaomi   \n",
       "4                 other                 other          mobile       Xiaomi   \n",
       "\n",
       "     device_browser geo_country     geo_city  useful_action time_action  \\\n",
       "0            Chrome      Russia     Zlatoust            0.0          14   \n",
       "1  Samsung Internet      Russia       Moscow            0.0          08   \n",
       "2            Chrome      Russia  Krasnoyarsk            0.0          02   \n",
       "3            Chrome      Russia       Moscow            0.0          05   \n",
       "4            Chrome      Russia       Moscow            0.0          05   \n",
       "\n",
       "   month  weekday  diagonal  \n",
       "0     11        2       805  \n",
       "1     11        6       937  \n",
       "2     12        1       805  \n",
       "3      5        5       879  \n",
       "4      5        5       879  "
      ]
     },
     "execution_count": 127,
     "metadata": {},
     "output_type": "execute_result"
    }
   ],
   "source": [
    "columns_to_drop=['session_id','client_id','visit_time','device_side_dimencions','device_screen_resolution']\n",
    "df_merge = df_merge.drop(columns=columns_to_drop)\n",
    "df_merge.head()"
   ]
  },
  {
   "cell_type": "code",
   "execution_count": 128,
   "id": "bb8c1520-3cf7-4e9b-943f-46f22b875412",
   "metadata": {},
   "outputs": [
    {
     "data": {
      "text/html": [
       "<div>\n",
       "<style scoped>\n",
       "    .dataframe tbody tr th:only-of-type {\n",
       "        vertical-align: middle;\n",
       "    }\n",
       "\n",
       "    .dataframe tbody tr th {\n",
       "        vertical-align: top;\n",
       "    }\n",
       "\n",
       "    .dataframe thead th {\n",
       "        text-align: right;\n",
       "    }\n",
       "</style>\n",
       "<table border=\"1\" class=\"dataframe\">\n",
       "  <thead>\n",
       "    <tr style=\"text-align: right;\">\n",
       "      <th></th>\n",
       "      <th>visit_number</th>\n",
       "      <th>utm_source</th>\n",
       "      <th>utm_medium</th>\n",
       "      <th>utm_campaign</th>\n",
       "      <th>utm_adcontent</th>\n",
       "      <th>device_category</th>\n",
       "      <th>device_brand</th>\n",
       "      <th>device_browser</th>\n",
       "      <th>geo_country</th>\n",
       "      <th>geo_city</th>\n",
       "      <th>useful_action</th>\n",
       "      <th>time_action</th>\n",
       "      <th>month</th>\n",
       "      <th>weekday</th>\n",
       "      <th>diagonal</th>\n",
       "    </tr>\n",
       "  </thead>\n",
       "  <tbody>\n",
       "    <tr>\n",
       "      <th>0</th>\n",
       "      <td>1</td>\n",
       "      <td>ZpYIoDJMcFzVoPFsHGJL</td>\n",
       "      <td>banner</td>\n",
       "      <td>LEoPHuyFvzoNfnzGgfcd</td>\n",
       "      <td>vCIpmpaGBnIQhyYNkXqp</td>\n",
       "      <td>mobile</td>\n",
       "      <td>Huawei</td>\n",
       "      <td>Chrome</td>\n",
       "      <td>Russia</td>\n",
       "      <td>Zlatoust</td>\n",
       "      <td>0.0</td>\n",
       "      <td>14</td>\n",
       "      <td>11</td>\n",
       "      <td>2</td>\n",
       "      <td>805</td>\n",
       "    </tr>\n",
       "    <tr>\n",
       "      <th>1</th>\n",
       "      <td>1</td>\n",
       "      <td>MvfHsxITijuriZxsqZqt</td>\n",
       "      <td>cpm</td>\n",
       "      <td>FTjNLDyTrXaWYgZymFkV</td>\n",
       "      <td>xhoenQgDQsgfEPYNPwKO</td>\n",
       "      <td>mobile</td>\n",
       "      <td>Samsung</td>\n",
       "      <td>Samsung Internet</td>\n",
       "      <td>Russia</td>\n",
       "      <td>Moscow</td>\n",
       "      <td>0.0</td>\n",
       "      <td>08</td>\n",
       "      <td>11</td>\n",
       "      <td>6</td>\n",
       "      <td>937</td>\n",
       "    </tr>\n",
       "    <tr>\n",
       "      <th>2</th>\n",
       "      <td>1</td>\n",
       "      <td>ZpYIoDJMcFzVoPFsHGJL</td>\n",
       "      <td>banner</td>\n",
       "      <td>LEoPHuyFvzoNfnzGgfcd</td>\n",
       "      <td>vCIpmpaGBnIQhyYNkXqp</td>\n",
       "      <td>mobile</td>\n",
       "      <td>Huawei</td>\n",
       "      <td>Chrome</td>\n",
       "      <td>Russia</td>\n",
       "      <td>Krasnoyarsk</td>\n",
       "      <td>0.0</td>\n",
       "      <td>02</td>\n",
       "      <td>12</td>\n",
       "      <td>1</td>\n",
       "      <td>805</td>\n",
       "    </tr>\n",
       "    <tr>\n",
       "      <th>3</th>\n",
       "      <td>1</td>\n",
       "      <td>kjsLglQLzykiRbcDiGcD</td>\n",
       "      <td>cpc</td>\n",
       "      <td>other</td>\n",
       "      <td>NOBKLgtuvqYWkXQHeYWM</td>\n",
       "      <td>mobile</td>\n",
       "      <td>Xiaomi</td>\n",
       "      <td>Chrome</td>\n",
       "      <td>Russia</td>\n",
       "      <td>Moscow</td>\n",
       "      <td>0.0</td>\n",
       "      <td>05</td>\n",
       "      <td>5</td>\n",
       "      <td>5</td>\n",
       "      <td>879</td>\n",
       "    </tr>\n",
       "    <tr>\n",
       "      <th>4</th>\n",
       "      <td>2</td>\n",
       "      <td>kjsLglQLzykiRbcDiGcD</td>\n",
       "      <td>cpc</td>\n",
       "      <td>other</td>\n",
       "      <td>other</td>\n",
       "      <td>mobile</td>\n",
       "      <td>Xiaomi</td>\n",
       "      <td>Chrome</td>\n",
       "      <td>Russia</td>\n",
       "      <td>Moscow</td>\n",
       "      <td>0.0</td>\n",
       "      <td>05</td>\n",
       "      <td>5</td>\n",
       "      <td>5</td>\n",
       "      <td>879</td>\n",
       "    </tr>\n",
       "  </tbody>\n",
       "</table>\n",
       "</div>"
      ],
      "text/plain": [
       "   visit_number            utm_source utm_medium          utm_campaign  \\\n",
       "0             1  ZpYIoDJMcFzVoPFsHGJL     banner  LEoPHuyFvzoNfnzGgfcd   \n",
       "1             1  MvfHsxITijuriZxsqZqt        cpm  FTjNLDyTrXaWYgZymFkV   \n",
       "2             1  ZpYIoDJMcFzVoPFsHGJL     banner  LEoPHuyFvzoNfnzGgfcd   \n",
       "3             1  kjsLglQLzykiRbcDiGcD        cpc                 other   \n",
       "4             2  kjsLglQLzykiRbcDiGcD        cpc                 other   \n",
       "\n",
       "          utm_adcontent device_category device_brand    device_browser  \\\n",
       "0  vCIpmpaGBnIQhyYNkXqp          mobile       Huawei            Chrome   \n",
       "1  xhoenQgDQsgfEPYNPwKO          mobile      Samsung  Samsung Internet   \n",
       "2  vCIpmpaGBnIQhyYNkXqp          mobile       Huawei            Chrome   \n",
       "3  NOBKLgtuvqYWkXQHeYWM          mobile       Xiaomi            Chrome   \n",
       "4                 other          mobile       Xiaomi            Chrome   \n",
       "\n",
       "  geo_country     geo_city  useful_action time_action  month  weekday  \\\n",
       "0      Russia     Zlatoust            0.0          14     11        2   \n",
       "1      Russia       Moscow            0.0          08     11        6   \n",
       "2      Russia  Krasnoyarsk            0.0          02     12        1   \n",
       "3      Russia       Moscow            0.0          05      5        5   \n",
       "4      Russia       Moscow            0.0          05      5        5   \n",
       "\n",
       "   diagonal  \n",
       "0       805  \n",
       "1       937  \n",
       "2       805  \n",
       "3       879  \n",
       "4       879  "
      ]
     },
     "execution_count": 128,
     "metadata": {},
     "output_type": "execute_result"
    }
   ],
   "source": [
    "df_merge = df_merge.drop(columns='visit_date')\n",
    "df_merge.head()"
   ]
  },
  {
   "cell_type": "code",
   "execution_count": 129,
   "id": "6a3e00b0-50bd-4e8e-8a1c-c7873eccd0e1",
   "metadata": {},
   "outputs": [],
   "source": [
    "#too many geo city names s/b cut"
   ]
  },
  {
   "cell_type": "code",
   "execution_count": 131,
   "id": "15044409-2c77-453d-91ef-603ec305e9f4",
   "metadata": {},
   "outputs": [
    {
     "data": {
      "text/plain": [
       "count     1860042\n",
       "unique       2548\n",
       "top        Moscow\n",
       "freq       805329\n",
       "Name: geo_city, dtype: object"
      ]
     },
     "execution_count": 131,
     "metadata": {},
     "output_type": "execute_result"
    }
   ],
   "source": [
    "df_merge['geo_city'].describe()"
   ]
  },
  {
   "cell_type": "code",
   "execution_count": 132,
   "id": "339e8a65-2848-471e-b906-d382541cd2c2",
   "metadata": {},
   "outputs": [
    {
     "data": {
      "text/plain": [
       "Moscow              805329\n",
       "Saint Petersburg    296788\n",
       "(not set)            78172\n",
       "Yekaterinburg        35788\n",
       "Krasnodar            32243\n",
       "Kazan                29531\n",
       "Samara               24992\n",
       "Nizhny Novgorod      22227\n",
       "Ufa                  21679\n",
       "Novosibirsk          21568\n",
       "Krasnoyarsk          16346\n",
       "Chelyabinsk          15951\n",
       "Tula                 15814\n",
       "Voronezh             13908\n",
       "Rostov-on-Don        13886\n",
       "Irkutsk              13532\n",
       "Grozny               12742\n",
       "Balashikha           12679\n",
       "Vladivostok          12325\n",
       "Yaroslavl             9833\n",
       "Sochi                 8972\n",
       "Tyumen                8534\n",
       "Khimki                7385\n",
       "Saratov               7120\n",
       "Perm                  6293\n",
       "Vidnoye               5358\n",
       "Odintsovo             5314\n",
       "Mytishchi             5284\n",
       "Izhevsk               5193\n",
       "Zheleznodorozhny      4916\n",
       "Lipetsk               4531\n",
       "Stavropol             4377\n",
       "Omsk                  4130\n",
       "Korolyov              4047\n",
       "Domodedovo            4038\n",
       "Dublin                4021\n",
       "Khabarovsk            3980\n",
       "Volgograd             3974\n",
       "Kaliningrad           3784\n",
       "Pyatigorsk            3782\n",
       "Name: geo_city, dtype: int64"
      ]
     },
     "execution_count": 132,
     "metadata": {},
     "output_type": "execute_result"
    }
   ],
   "source": [
    "df_merge['geo_city'].value_counts()[:40]"
   ]
  },
  {
   "cell_type": "code",
   "execution_count": 133,
   "id": "4f918db8-c2ab-49a9-857a-552b6f641d2f",
   "metadata": {},
   "outputs": [],
   "source": [
    "# set 'other' for all cities exclude Moscow, Saint Petersburg, Yekaterinburg, Krasnodar, Kazan\n",
    "df_merge.loc[(df_merge['geo_city'] !='Moscow')&(df_merge['geo_city'] !='Saint Petersburg')&(df_merge['geo_city'] !='Yekaterinburg')&(df_merge['geo_city'] !='Krasnodar')&(df_merge['geo_city'] !='Kazan'),'geo_city']='other'"
   ]
  },
  {
   "cell_type": "code",
   "execution_count": 134,
   "id": "08dae87e-6892-480c-9046-c4907630c41e",
   "metadata": {},
   "outputs": [
    {
     "data": {
      "text/plain": [
       "Moscow              805329\n",
       "other               660363\n",
       "Saint Petersburg    296788\n",
       "Yekaterinburg        35788\n",
       "Krasnodar            32243\n",
       "Kazan                29531\n",
       "Name: geo_city, dtype: int64"
      ]
     },
     "execution_count": 134,
     "metadata": {},
     "output_type": "execute_result"
    }
   ],
   "source": [
    "df_merge['geo_city'].value_counts()"
   ]
  },
  {
   "cell_type": "code",
   "execution_count": 135,
   "id": "c77e6a13-1aa1-4dd0-b53d-fc453905555a",
   "metadata": {},
   "outputs": [],
   "source": [
    "# service is availiable in Russia only, and geo location is determind by city in Russia, it's enough, so this column\n",
    "# geo_country s/b deleted"
   ]
  },
  {
   "cell_type": "code",
   "execution_count": 136,
   "id": "659a8dce-4e9f-42b5-b42f-a5c4412768b7",
   "metadata": {},
   "outputs": [],
   "source": [
    "df_merge=df_merge.drop(columns = 'geo_country')"
   ]
  },
  {
   "cell_type": "code",
   "execution_count": 137,
   "id": "c93efeaf-0ae3-4298-bbe8-6fcebc4ec479",
   "metadata": {},
   "outputs": [],
   "source": [
    "# too many utm_source number of names s/b reduced"
   ]
  },
  {
   "cell_type": "code",
   "execution_count": 138,
   "id": "54e9b490-72bb-4c24-9232-fb9b7b2010ba",
   "metadata": {},
   "outputs": [
    {
     "data": {
      "text/plain": [
       "count                  1860042\n",
       "unique                     294\n",
       "top       ZpYIoDJMcFzVoPFsHGJL\n",
       "freq                    578290\n",
       "Name: utm_source, dtype: object"
      ]
     },
     "execution_count": 138,
     "metadata": {},
     "output_type": "execute_result"
    }
   ],
   "source": [
    "df_merge['utm_source'].describe()"
   ]
  },
  {
   "cell_type": "code",
   "execution_count": 139,
   "id": "50978880-5620-4b3d-a7ad-81ead95c030f",
   "metadata": {},
   "outputs": [
    {
     "data": {
      "text/plain": [
       "ZpYIoDJMcFzVoPFsHGJL    578290\n",
       "fDLlAcSmythWSCVMvqvL    300575\n",
       "kjsLglQLzykiRbcDiGcD    266354\n",
       "MvfHsxITijuriZxsqZqt    186199\n",
       "BHcvLfOaCWvWTykYqHVe    116320\n",
       "Name: utm_source, dtype: int64"
      ]
     },
     "execution_count": 139,
     "metadata": {},
     "output_type": "execute_result"
    }
   ],
   "source": [
    "df_merge['utm_source'].value_counts()[:5]"
   ]
  },
  {
   "cell_type": "code",
   "execution_count": 140,
   "id": "89f85a10-202b-40c0-bc25-a9a94b51e852",
   "metadata": {},
   "outputs": [
    {
     "data": {
      "text/plain": [
       "1447738"
      ]
     },
     "execution_count": 140,
     "metadata": {},
     "output_type": "execute_result"
    }
   ],
   "source": [
    "sum(df_merge['utm_source'].value_counts()[:5])"
   ]
  },
  {
   "cell_type": "code",
   "execution_count": 141,
   "id": "d46d1319-ed02-4514-8dd7-697a386b239a",
   "metadata": {},
   "outputs": [],
   "source": [
    "# set 'other' for all utm_source exclude fist top-5\n",
    "df_merge.loc[(df_merge['utm_source'] !='ZpYIoDJMcFzVoPFsHGJL')&(df_merge['utm_source'] !='fDLlAcSmythWSCVMvqvL')&(df_merge['utm_source'] !='kjsLglQLzykiRbcDiGcD')&(df_merge['utm_source'] !='MvfHsxITijuriZxsqZqt')&(df_merge['utm_source'] !='BHcvLfOaCWvWTykYqHVe'),'utm_source']='other'"
   ]
  },
  {
   "cell_type": "code",
   "execution_count": 142,
   "id": "2dbc8072-bf6b-4d68-aed6-dc262a6b3d97",
   "metadata": {},
   "outputs": [
    {
     "data": {
      "text/plain": [
       "ZpYIoDJMcFzVoPFsHGJL    578290\n",
       "other                   412304\n",
       "fDLlAcSmythWSCVMvqvL    300575\n",
       "kjsLglQLzykiRbcDiGcD    266354\n",
       "MvfHsxITijuriZxsqZqt    186199\n",
       "BHcvLfOaCWvWTykYqHVe    116320\n",
       "Name: utm_source, dtype: int64"
      ]
     },
     "execution_count": 142,
     "metadata": {},
     "output_type": "execute_result"
    }
   ],
   "source": [
    "df_merge['utm_source'].value_counts()"
   ]
  },
  {
   "cell_type": "code",
   "execution_count": 143,
   "id": "5f64a789-8b37-4806-a5f9-e7ba52ad8ed3",
   "metadata": {},
   "outputs": [],
   "source": [
    "#none or not set in utm_medium change to other"
   ]
  },
  {
   "cell_type": "code",
   "execution_count": 144,
   "id": "e982c2f2-cbc2-47e2-8462-1148e0ddf390",
   "metadata": {},
   "outputs": [
    {
     "data": {
      "text/plain": [
       "count     1860042\n",
       "unique         56\n",
       "top        banner\n",
       "freq       552272\n",
       "Name: utm_medium, dtype: object"
      ]
     },
     "execution_count": 144,
     "metadata": {},
     "output_type": "execute_result"
    }
   ],
   "source": [
    "df_merge['utm_medium'].describe()"
   ]
  },
  {
   "cell_type": "code",
   "execution_count": 145,
   "id": "126a1cb4-1d2c-4f55-8af6-b5ea2601cae0",
   "metadata": {},
   "outputs": [
    {
     "data": {
      "text/plain": [
       "banner               552272\n",
       "cpc                  434794\n",
       "(none)               300575\n",
       "cpm                  242083\n",
       "referral             152050\n",
       "organic               63034\n",
       "email                 29240\n",
       "push                  28035\n",
       "stories               10582\n",
       "cpv                    8022\n",
       "blogger_channel        8015\n",
       "smartbanner            6794\n",
       "blogger_stories        4312\n",
       "cpa                    4279\n",
       "tg                     4011\n",
       "app                    2836\n",
       "post                   2326\n",
       "smm                    1985\n",
       "outlook                1332\n",
       "clicks                  934\n",
       "blogger_header          771\n",
       "(not set)               480\n",
       "info_text               343\n",
       "sms                     239\n",
       "landing                 134\n",
       "partner                  97\n",
       "fb_smm                   66\n",
       "vk_smm                   65\n",
       "link                     57\n",
       "cbaafe                   47\n",
       "CPM                      40\n",
       "yandex_cpc               36\n",
       "ok_smm                   28\n",
       "static                   22\n",
       "google_cpc               20\n",
       "article                  17\n",
       "nkp                      14\n",
       "web_polka                11\n",
       "social                    9\n",
       "medium                    8\n",
       "main_polka                4\n",
       "catalogue                 4\n",
       "users_msk                 3\n",
       "reach                     2\n",
       "promo_sber                2\n",
       "linktest                  2\n",
       "promo_sbol                1\n",
       "Sbol_catalog              1\n",
       "desktop                   1\n",
       "dom_click                 1\n",
       "tablet                    1\n",
       "sber_app                  1\n",
       "last                      1\n",
       "qr                        1\n",
       "qrcodevideo               1\n",
       "landing_interests         1\n",
       "Name: utm_medium, dtype: int64"
      ]
     },
     "execution_count": 145,
     "metadata": {},
     "output_type": "execute_result"
    }
   ],
   "source": [
    "df_merge['utm_medium'].value_counts()"
   ]
  },
  {
   "cell_type": "code",
   "execution_count": 146,
   "id": "05cb2650-3667-424c-a1c9-5d0efed61ddc",
   "metadata": {},
   "outputs": [],
   "source": [
    "df_merge.loc[(df_merge['utm_medium']=='(none)')|(df_merge['utm_medium']=='(not set)'),'utm_medium']='other'"
   ]
  },
  {
   "cell_type": "code",
   "execution_count": 147,
   "id": "d61b058e-acc7-4e66-a0f3-1da5768a7de5",
   "metadata": {},
   "outputs": [],
   "source": [
    "#too many number of utm_campaign names s/b cut"
   ]
  },
  {
   "cell_type": "code",
   "execution_count": 148,
   "id": "f620ae75-92c4-4039-a43e-34021df9e639",
   "metadata": {},
   "outputs": [
    {
     "data": {
      "text/plain": [
       "LTuZkdKfxRGVceoWkVyg    463481\n",
       "LEoPHuyFvzoNfnzGgfcd    324044\n",
       "FTjNLDyTrXaWYgZymFkV    247360\n",
       "other                   219603\n",
       "gecBYcKZCPMcVYdSSzKP    134042\n",
       "Name: utm_campaign, dtype: int64"
      ]
     },
     "execution_count": 148,
     "metadata": {},
     "output_type": "execute_result"
    }
   ],
   "source": [
    "df_merge['utm_campaign'].value_counts()[:5]"
   ]
  },
  {
   "cell_type": "code",
   "execution_count": 149,
   "id": "8f4bcf55-fcb3-41c5-89bb-fd0b526ce2c6",
   "metadata": {},
   "outputs": [
    {
     "data": {
      "text/plain": [
       "LTuZkdKfxRGVceoWkVyg    463481\n",
       "LEoPHuyFvzoNfnzGgfcd    324044\n",
       "FTjNLDyTrXaWYgZymFkV    247360\n",
       "other                   219603\n",
       "gecBYcKZCPMcVYdSSzKP    134042\n",
       "Name: utm_campaign, dtype: int64"
      ]
     },
     "execution_count": 149,
     "metadata": {},
     "output_type": "execute_result"
    }
   ],
   "source": [
    "df_merge.loc[df_merge['utm_campaign']=='unknown','utm_campaign']='other'\n",
    "df_merge['utm_campaign'].value_counts()[:5]"
   ]
  },
  {
   "cell_type": "code",
   "execution_count": 150,
   "id": "610c2af7-fb6f-4ad4-87ea-8338ec966975",
   "metadata": {},
   "outputs": [],
   "source": [
    "# set 'other' for all exclude top-4\n",
    "df_merge.loc[(df_merge['utm_campaign'] !='LTuZkdKfxRGVceoWkVyg')&(df_merge['utm_campaign'] !='LEoPHuyFvzoNfnzGgfcd')&(df_merge['utm_campaign'] !='FTjNLDyTrXaWYgZymFkV')&(df_merge['utm_campaign'] !='gecBYcKZCPMcVYdSSzKP'),'utm_campaign']='other'"
   ]
  },
  {
   "cell_type": "code",
   "execution_count": null,
   "id": "0da2cc81-e42b-451f-b64d-001fb34203a2",
   "metadata": {},
   "outputs": [],
   "source": [
    "# too many names for utm_adcontent s/b cut"
   ]
  },
  {
   "cell_type": "code",
   "execution_count": 151,
   "id": "f458aaab-29a4-4c99-a2fa-3ed6793e0d76",
   "metadata": {},
   "outputs": [
    {
     "data": {
      "text/plain": [
       "count                  1860042\n",
       "unique                     287\n",
       "top       JNHcPlZPxEMWDnRiyoBf\n",
       "freq                   1006599\n",
       "Name: utm_adcontent, dtype: object"
      ]
     },
     "execution_count": 151,
     "metadata": {},
     "output_type": "execute_result"
    }
   ],
   "source": [
    "df_merge['utm_adcontent'].describe()"
   ]
  },
  {
   "cell_type": "code",
   "execution_count": 152,
   "id": "c1c804c8-6dff-4888-992f-20b7fcba1b93",
   "metadata": {},
   "outputs": [
    {
     "data": {
      "text/plain": [
       "JNHcPlZPxEMWDnRiyoBf    1006599\n",
       "other                    499007\n",
       "vCIpmpaGBnIQhyYNkXqp     181048\n",
       "xhoenQgDQsgfEPYNPwKO     113072\n",
       "PkybGvWbaqORmxjNunqZ      60316\n",
       "Name: utm_adcontent, dtype: int64"
      ]
     },
     "execution_count": 152,
     "metadata": {},
     "output_type": "execute_result"
    }
   ],
   "source": [
    "df_merge.loc[df_merge['utm_adcontent']=='unknown','utm_adcontent']='other'\n",
    "df_merge.loc[(df_merge['utm_adcontent'] !='JNHcPlZPxEMWDnRiyoBf')&(df_merge['utm_adcontent'] !='vCIpmpaGBnIQhyYNkXqp')&(df_merge['utm_adcontent'] !='xhoenQgDQsgfEPYNPwKO')&(df_merge['utm_adcontent'] !='PkybGvWbaqORmxjNunqZ'),'utm_adcontent']='other'\n",
    "df_merge['utm_adcontent'].value_counts()"
   ]
  },
  {
   "cell_type": "code",
   "execution_count": 153,
   "id": "13f83def-d2c1-4d8a-801b-f4dec0d5b23d",
   "metadata": {},
   "outputs": [],
   "source": [
    "#too many brand names s/b reduced"
   ]
  },
  {
   "cell_type": "code",
   "execution_count": 154,
   "id": "735846bf-8a69-452a-ba1d-f6b9ac7b9876",
   "metadata": {},
   "outputs": [
    {
     "data": {
      "text/plain": [
       "count     1860042\n",
       "unique        205\n",
       "top         Apple\n",
       "freq       551237\n",
       "Name: device_brand, dtype: object"
      ]
     },
     "execution_count": 154,
     "metadata": {},
     "output_type": "execute_result"
    }
   ],
   "source": [
    "df_merge['device_brand'].describe()"
   ]
  },
  {
   "cell_type": "code",
   "execution_count": 155,
   "id": "33c524c4-fd06-4ebd-ae6b-a1f1336266e0",
   "metadata": {},
   "outputs": [
    {
     "data": {
      "text/plain": [
       "Apple       551237\n",
       "other       384215\n",
       "Samsung     332553\n",
       "Xiaomi      288367\n",
       "Huawei      185853\n",
       "             ...  \n",
       "Vodafone         1\n",
       "Wexler           1\n",
       "KingSing         1\n",
       "Star             1\n",
       "Opera            1\n",
       "Name: device_brand, Length: 205, dtype: int64"
      ]
     },
     "execution_count": 155,
     "metadata": {},
     "output_type": "execute_result"
    }
   ],
   "source": [
    "df_merge['device_brand'].value_counts()"
   ]
  },
  {
   "cell_type": "code",
   "execution_count": 156,
   "id": "512bf2c7-706d-4e4b-9d03-8ddc8fcc3a68",
   "metadata": {},
   "outputs": [],
   "source": [
    "df_merge.loc[(df_merge['device_brand'] !='Apple')&(df_merge['device_brand'] !='Samsung')&(df_merge['device_brand'] !='Xiaomi')&(df_merge['device_brand'] !='Huawei'),'device_brand']='other'"
   ]
  },
  {
   "cell_type": "code",
   "execution_count": 157,
   "id": "b05b4e31-8688-4a7d-bb49-96a949d0c70d",
   "metadata": {},
   "outputs": [
    {
     "data": {
      "text/plain": [
       "Apple      551237\n",
       "other      502032\n",
       "Samsung    332553\n",
       "Xiaomi     288367\n",
       "Huawei     185853\n",
       "Name: device_brand, dtype: int64"
      ]
     },
     "execution_count": 157,
     "metadata": {},
     "output_type": "execute_result"
    }
   ],
   "source": [
    "df_merge['device_brand'].value_counts()"
   ]
  },
  {
   "cell_type": "code",
   "execution_count": 158,
   "id": "2c3606a7-fffa-4245-9edb-48f12772f270",
   "metadata": {},
   "outputs": [],
   "source": [
    "# new feature - device_browser_short"
   ]
  },
  {
   "cell_type": "code",
   "execution_count": 159,
   "id": "387a47fb-320c-4b61-896b-99d058197fcc",
   "metadata": {},
   "outputs": [
    {
     "data": {
      "text/plain": [
       "count     1860042\n",
       "unique         56\n",
       "top        Chrome\n",
       "freq      1013436\n",
       "Name: device_browser, dtype: object"
      ]
     },
     "execution_count": 159,
     "metadata": {},
     "output_type": "execute_result"
    }
   ],
   "source": [
    "df_merge['device_browser'].describe()"
   ]
  },
  {
   "cell_type": "code",
   "execution_count": 160,
   "id": "bb28b304-4018-4cc1-9ad9-3aefb338eea9",
   "metadata": {},
   "outputs": [
    {
     "data": {
      "text/plain": [
       "Chrome                              1013436\n",
       "Safari                               548474\n",
       "YaBrowser                            133311\n",
       "Android Webview                       55369\n",
       "Samsung Internet                      47309\n",
       "Opera                                 26817\n",
       "Firefox                               16588\n",
       "Edge                                  16065\n",
       "UC Browser                              871\n",
       "Android Runtime                         392\n",
       "Mozilla Compatible Agent                362\n",
       "[FBAN                                   269\n",
       "Instagram 208.0.0.32.135 Android        140\n",
       "Instagram 209.0.0.21.119 Android        111\n",
       "MRCHROME                                 77\n",
       "Android Browser                          49\n",
       "Opera Mini                               45\n",
       "Puffin                                   45\n",
       "Internet Explorer                        36\n",
       "Maxthon                                  31\n",
       "Android                                  22\n",
       "Instagram 216.1.0.21.137 Android         19\n",
       "Mozilla                                  17\n",
       "Instagram 202.0.0.23.119                 17\n",
       "other                                    17\n",
       "Instagram 216.0.0.12.135                 17\n",
       "Instagram 194.0.0.36.172 Android         15\n",
       "Instagram 207.0.0.28.118                 14\n",
       "Instagram 202.0.0.37.123 Android         12\n",
       "com.vk.vkclient                           8\n",
       "Amazon Silk                               7\n",
       "Instagram 192.0.0.37.119                  7\n",
       "helloworld                                6\n",
       "Coc Coc                                   6\n",
       "Instagram 213.0.0.19.117                  6\n",
       "Instagram 203.0.0.26.117                  6\n",
       "Instagram 212.0.0.38.119 Android          6\n",
       "Instagram 213.0.0.29.120 Android          5\n",
       "Instagram 201.0.0.23.111                  5\n",
       "Instagram 208.0.0.26.131                  5\n",
       "SeaMonkey                                 4\n",
       "Instagram 192.0.0.35.123 Android          3\n",
       "Instagram 158.0.0.30.123 Android          3\n",
       "Instagram 199.0.0.27.120                  2\n",
       "Iron                                      2\n",
       "NetFront                                  2\n",
       "MyApp                                     2\n",
       "Instagram 199.1.0.34.119 Android          2\n",
       "NokiaX2-02                                1\n",
       "MT6735_TD                                 1\n",
       "Nokia501                                  1\n",
       "Instagram 206.1.0.34.121 Android          1\n",
       "Phantom Browser                           1\n",
       "com.zhiliaoapp.musically                  1\n",
       "Konqueror                                 1\n",
       "Threads 202.0.0.23.119                    1\n",
       "Name: device_browser, dtype: int64"
      ]
     },
     "execution_count": 160,
     "metadata": {},
     "output_type": "execute_result"
    }
   ],
   "source": [
    "df_merge['device_browser'].value_counts()"
   ]
  },
  {
   "cell_type": "code",
   "execution_count": 161,
   "id": "e0e74c0d-26b2-413f-b7c1-85c79a1f508a",
   "metadata": {},
   "outputs": [],
   "source": [
    "df_merge.loc[df_merge['device_browser']=='(not set)','device_browser']='other'"
   ]
  },
  {
   "cell_type": "code",
   "execution_count": 162,
   "id": "f68068b1-9a42-42df-983c-5e61762243ad",
   "metadata": {},
   "outputs": [],
   "source": [
    "df_merge['device_browser_short'] = df_merge['device_browser'].apply(lambda x: x.split(' ')[0])"
   ]
  },
  {
   "cell_type": "code",
   "execution_count": 163,
   "id": "1bd18102-0d39-41b7-826a-b6ad2e40e365",
   "metadata": {},
   "outputs": [
    {
     "data": {
      "text/plain": [
       "Chrome                      1013436\n",
       "Safari                       548474\n",
       "YaBrowser                    133311\n",
       "Android                       55832\n",
       "Samsung                       47309\n",
       "Opera                         26862\n",
       "Firefox                       16588\n",
       "Edge                          16065\n",
       "UC                              871\n",
       "Instagram                       396\n",
       "Mozilla                         379\n",
       "[FBAN                           269\n",
       "MRCHROME                         77\n",
       "Puffin                           45\n",
       "Internet                         36\n",
       "Maxthon                          31\n",
       "other                            17\n",
       "com.vk.vkclient                   8\n",
       "Amazon                            7\n",
       "Coc                               6\n",
       "helloworld                        6\n",
       "SeaMonkey                         4\n",
       "Iron                              2\n",
       "NetFront                          2\n",
       "MyApp                             2\n",
       "MT6735_TD                         1\n",
       "NokiaX2-02                        1\n",
       "Nokia501                          1\n",
       "Phantom                           1\n",
       "com.zhiliaoapp.musically          1\n",
       "Konqueror                         1\n",
       "Threads                           1\n",
       "Name: device_browser_short, dtype: int64"
      ]
     },
     "execution_count": 163,
     "metadata": {},
     "output_type": "execute_result"
    }
   ],
   "source": [
    "df_merge['device_browser_short'].value_counts()"
   ]
  },
  {
   "cell_type": "code",
   "execution_count": 164,
   "id": "dc8a0a78-1374-439f-8212-86c715f700a0",
   "metadata": {},
   "outputs": [],
   "source": [
    "df_merge.loc[df_merge['device_browser_short']=='Mozilla','device_browser_short']='Firefox'"
   ]
  },
  {
   "cell_type": "code",
   "execution_count": 165,
   "id": "0aa0fc52-28ec-4e41-a677-a934c3ff2e8c",
   "metadata": {},
   "outputs": [],
   "source": [
    "df_merge.loc[(df_merge['device_browser_short'] !='Chrome')&(df_merge['device_browser_short'] !='Safari')&(df_merge['device_browser_short'] !='YaBrowser')&(df_merge['device_browser_short'] !='Android')&(df_merge['device_browser_short'] !='Samsung')&(df_merge['device_browser_short'] !='Opera')&(df_merge['device_browser_short'] !='Firefox')&(df_merge['device_browser_short'] !='Edge')&(df_merge['device_browser_short'] !='UC')&(df_merge['device_browser_short'] !='Instagram'),'device_browser_short']='other'"
   ]
  },
  {
   "cell_type": "code",
   "execution_count": 166,
   "id": "52197ba0-3db7-4e57-b9bd-e50e11ef5236",
   "metadata": {},
   "outputs": [
    {
     "data": {
      "text/plain": [
       "Chrome       1013436\n",
       "Safari        548474\n",
       "YaBrowser     133311\n",
       "Android        55832\n",
       "Samsung        47309\n",
       "Opera          26862\n",
       "Firefox        16967\n",
       "Edge           16065\n",
       "UC               871\n",
       "other            519\n",
       "Instagram        396\n",
       "Name: device_browser_short, dtype: int64"
      ]
     },
     "execution_count": 166,
     "metadata": {},
     "output_type": "execute_result"
    }
   ],
   "source": [
    "df_merge['device_browser_short'].value_counts()"
   ]
  },
  {
   "cell_type": "code",
   "execution_count": 167,
   "id": "1ba497ae-cfae-49e6-abc6-b3f340945f7e",
   "metadata": {},
   "outputs": [],
   "source": [
    "df_merge = df_merge.drop(columns='device_browser')"
   ]
  },
  {
   "cell_type": "code",
   "execution_count": 168,
   "id": "84037581-c369-4592-bd81-6603b02dd49b",
   "metadata": {},
   "outputs": [
    {
     "data": {
      "text/html": [
       "<div>\n",
       "<style scoped>\n",
       "    .dataframe tbody tr th:only-of-type {\n",
       "        vertical-align: middle;\n",
       "    }\n",
       "\n",
       "    .dataframe tbody tr th {\n",
       "        vertical-align: top;\n",
       "    }\n",
       "\n",
       "    .dataframe thead th {\n",
       "        text-align: right;\n",
       "    }\n",
       "</style>\n",
       "<table border=\"1\" class=\"dataframe\">\n",
       "  <thead>\n",
       "    <tr style=\"text-align: right;\">\n",
       "      <th></th>\n",
       "      <th>visit_number</th>\n",
       "      <th>utm_source</th>\n",
       "      <th>utm_medium</th>\n",
       "      <th>utm_campaign</th>\n",
       "      <th>utm_adcontent</th>\n",
       "      <th>device_category</th>\n",
       "      <th>device_brand</th>\n",
       "      <th>geo_city</th>\n",
       "      <th>useful_action</th>\n",
       "      <th>time_action</th>\n",
       "      <th>month</th>\n",
       "      <th>weekday</th>\n",
       "      <th>diagonal</th>\n",
       "      <th>device_browser_short</th>\n",
       "    </tr>\n",
       "  </thead>\n",
       "  <tbody>\n",
       "    <tr>\n",
       "      <th>0</th>\n",
       "      <td>1</td>\n",
       "      <td>ZpYIoDJMcFzVoPFsHGJL</td>\n",
       "      <td>banner</td>\n",
       "      <td>LEoPHuyFvzoNfnzGgfcd</td>\n",
       "      <td>vCIpmpaGBnIQhyYNkXqp</td>\n",
       "      <td>mobile</td>\n",
       "      <td>Huawei</td>\n",
       "      <td>other</td>\n",
       "      <td>0.0</td>\n",
       "      <td>14</td>\n",
       "      <td>11</td>\n",
       "      <td>2</td>\n",
       "      <td>805</td>\n",
       "      <td>Chrome</td>\n",
       "    </tr>\n",
       "    <tr>\n",
       "      <th>1</th>\n",
       "      <td>1</td>\n",
       "      <td>MvfHsxITijuriZxsqZqt</td>\n",
       "      <td>cpm</td>\n",
       "      <td>FTjNLDyTrXaWYgZymFkV</td>\n",
       "      <td>xhoenQgDQsgfEPYNPwKO</td>\n",
       "      <td>mobile</td>\n",
       "      <td>Samsung</td>\n",
       "      <td>Moscow</td>\n",
       "      <td>0.0</td>\n",
       "      <td>08</td>\n",
       "      <td>11</td>\n",
       "      <td>6</td>\n",
       "      <td>937</td>\n",
       "      <td>Samsung</td>\n",
       "    </tr>\n",
       "    <tr>\n",
       "      <th>2</th>\n",
       "      <td>1</td>\n",
       "      <td>ZpYIoDJMcFzVoPFsHGJL</td>\n",
       "      <td>banner</td>\n",
       "      <td>LEoPHuyFvzoNfnzGgfcd</td>\n",
       "      <td>vCIpmpaGBnIQhyYNkXqp</td>\n",
       "      <td>mobile</td>\n",
       "      <td>Huawei</td>\n",
       "      <td>other</td>\n",
       "      <td>0.0</td>\n",
       "      <td>02</td>\n",
       "      <td>12</td>\n",
       "      <td>1</td>\n",
       "      <td>805</td>\n",
       "      <td>Chrome</td>\n",
       "    </tr>\n",
       "    <tr>\n",
       "      <th>3</th>\n",
       "      <td>1</td>\n",
       "      <td>kjsLglQLzykiRbcDiGcD</td>\n",
       "      <td>cpc</td>\n",
       "      <td>other</td>\n",
       "      <td>other</td>\n",
       "      <td>mobile</td>\n",
       "      <td>Xiaomi</td>\n",
       "      <td>Moscow</td>\n",
       "      <td>0.0</td>\n",
       "      <td>05</td>\n",
       "      <td>5</td>\n",
       "      <td>5</td>\n",
       "      <td>879</td>\n",
       "      <td>Chrome</td>\n",
       "    </tr>\n",
       "    <tr>\n",
       "      <th>4</th>\n",
       "      <td>2</td>\n",
       "      <td>kjsLglQLzykiRbcDiGcD</td>\n",
       "      <td>cpc</td>\n",
       "      <td>other</td>\n",
       "      <td>other</td>\n",
       "      <td>mobile</td>\n",
       "      <td>Xiaomi</td>\n",
       "      <td>Moscow</td>\n",
       "      <td>0.0</td>\n",
       "      <td>05</td>\n",
       "      <td>5</td>\n",
       "      <td>5</td>\n",
       "      <td>879</td>\n",
       "      <td>Chrome</td>\n",
       "    </tr>\n",
       "  </tbody>\n",
       "</table>\n",
       "</div>"
      ],
      "text/plain": [
       "   visit_number            utm_source utm_medium          utm_campaign  \\\n",
       "0             1  ZpYIoDJMcFzVoPFsHGJL     banner  LEoPHuyFvzoNfnzGgfcd   \n",
       "1             1  MvfHsxITijuriZxsqZqt        cpm  FTjNLDyTrXaWYgZymFkV   \n",
       "2             1  ZpYIoDJMcFzVoPFsHGJL     banner  LEoPHuyFvzoNfnzGgfcd   \n",
       "3             1  kjsLglQLzykiRbcDiGcD        cpc                 other   \n",
       "4             2  kjsLglQLzykiRbcDiGcD        cpc                 other   \n",
       "\n",
       "          utm_adcontent device_category device_brand geo_city  useful_action  \\\n",
       "0  vCIpmpaGBnIQhyYNkXqp          mobile       Huawei    other            0.0   \n",
       "1  xhoenQgDQsgfEPYNPwKO          mobile      Samsung   Moscow            0.0   \n",
       "2  vCIpmpaGBnIQhyYNkXqp          mobile       Huawei    other            0.0   \n",
       "3                 other          mobile       Xiaomi   Moscow            0.0   \n",
       "4                 other          mobile       Xiaomi   Moscow            0.0   \n",
       "\n",
       "  time_action  month  weekday  diagonal device_browser_short  \n",
       "0          14     11        2       805               Chrome  \n",
       "1          08     11        6       937              Samsung  \n",
       "2          02     12        1       805               Chrome  \n",
       "3          05      5        5       879               Chrome  \n",
       "4          05      5        5       879               Chrome  "
      ]
     },
     "execution_count": 168,
     "metadata": {},
     "output_type": "execute_result"
    }
   ],
   "source": [
    "df_merge.head()"
   ]
  },
  {
   "cell_type": "code",
   "execution_count": 169,
   "id": "b4be388c-09dc-4d57-a56f-2e2984b8d74f",
   "metadata": {},
   "outputs": [],
   "source": [
    "df_merge.to_csv('/Users/sergey/Downloads/diploma/df_feaches.csv', index=False)"
   ]
  },
  {
   "cell_type": "code",
   "execution_count": 170,
   "id": "236bbad6-ec3b-4175-b3be-a91c60b8c90e",
   "metadata": {},
   "outputs": [],
   "source": [
    "df_merge['month'] = df_merge['month'].astype(str)\n",
    "df_merge['weekday'] = df_merge['weekday'].astype(str)"
   ]
  },
  {
   "cell_type": "code",
   "execution_count": 177,
   "id": "9e9ace4c-1f81-4cb0-a03d-e71aa6ad9a40",
   "metadata": {},
   "outputs": [],
   "source": [
    "df_merge['time_action'] = df_merge['time_action'].astype(int)"
   ]
  },
  {
   "cell_type": "code",
   "execution_count": 178,
   "id": "663020a5-c878-4846-a1ef-5bfb9181817a",
   "metadata": {},
   "outputs": [
    {
     "name": "stdout",
     "output_type": "stream",
     "text": [
      "<class 'pandas.core.frame.DataFrame'>\n",
      "Int64Index: 1860042 entries, 0 to 1860041\n",
      "Data columns (total 14 columns):\n",
      " #   Column                Dtype  \n",
      "---  ------                -----  \n",
      " 0   visit_number          int64  \n",
      " 1   utm_source            object \n",
      " 2   utm_medium            object \n",
      " 3   utm_campaign          object \n",
      " 4   utm_adcontent         object \n",
      " 5   device_category       object \n",
      " 6   device_brand          object \n",
      " 7   geo_city              object \n",
      " 8   useful_action         float64\n",
      " 9   time_action           int64  \n",
      " 10  month                 object \n",
      " 11  weekday               object \n",
      " 12  diagonal              int64  \n",
      " 13  device_browser_short  object \n",
      "dtypes: float64(1), int64(3), object(10)\n",
      "memory usage: 212.9+ MB\n"
     ]
    }
   ],
   "source": [
    "df_merge.info()"
   ]
  },
  {
   "cell_type": "code",
   "execution_count": 179,
   "id": "6a50ff68-c5a9-4b10-a005-8560ff480787",
   "metadata": {},
   "outputs": [],
   "source": [
    "#transform all categorical feaches by ohe"
   ]
  },
  {
   "cell_type": "code",
   "execution_count": 180,
   "id": "125245df-ef5a-4a93-b695-9d6aebd75fed",
   "metadata": {},
   "outputs": [],
   "source": [
    "ohe = OneHotEncoder(sparse=False)"
   ]
  },
  {
   "cell_type": "code",
   "execution_count": 186,
   "id": "1554b767-a1e6-416d-a741-a7e57bc21b3c",
   "metadata": {},
   "outputs": [],
   "source": [
    "categorical_features_utm = ['utm_source','utm_medium','utm_campaign','utm_adcontent']"
   ]
  },
  {
   "cell_type": "code",
   "execution_count": 188,
   "id": "7cbc8528-2a38-4c50-b7f0-6f2d217b92de",
   "metadata": {},
   "outputs": [],
   "source": [
    "ohe.fit(df_merge[categorical_features_utm])\n",
    "ohe_utm = ohe.transform(df_merge[categorical_features_utm])\n",
    "df_merge.loc[:, (ohe.get_feature_names(categorical_features_utm))] = ohe_utm"
   ]
  },
  {
   "cell_type": "code",
   "execution_count": 189,
   "id": "b1843686-4f7d-42b3-b86d-89be198a7230",
   "metadata": {},
   "outputs": [],
   "source": [
    "ohe_1 = OneHotEncoder(sparse=False)"
   ]
  },
  {
   "cell_type": "code",
   "execution_count": 190,
   "id": "f8216f4b-02ff-4e61-b17f-e7c7cec328f1",
   "metadata": {},
   "outputs": [],
   "source": [
    "categorical_features_device = ['device_category', 'device_brand', 'device_browser_short','geo_city','month','weekday']"
   ]
  },
  {
   "cell_type": "code",
   "execution_count": 191,
   "id": "094f53e0-db2f-447a-9a48-c36084fb4411",
   "metadata": {},
   "outputs": [
    {
     "data": {
      "text/html": [
       "<div>\n",
       "<style scoped>\n",
       "    .dataframe tbody tr th:only-of-type {\n",
       "        vertical-align: middle;\n",
       "    }\n",
       "\n",
       "    .dataframe tbody tr th {\n",
       "        vertical-align: top;\n",
       "    }\n",
       "\n",
       "    .dataframe thead th {\n",
       "        text-align: right;\n",
       "    }\n",
       "</style>\n",
       "<table border=\"1\" class=\"dataframe\">\n",
       "  <thead>\n",
       "    <tr style=\"text-align: right;\">\n",
       "      <th></th>\n",
       "      <th>visit_number</th>\n",
       "      <th>utm_source</th>\n",
       "      <th>utm_medium</th>\n",
       "      <th>utm_campaign</th>\n",
       "      <th>utm_adcontent</th>\n",
       "      <th>device_category</th>\n",
       "      <th>device_brand</th>\n",
       "      <th>geo_city</th>\n",
       "      <th>useful_action</th>\n",
       "      <th>time_action</th>\n",
       "      <th>...</th>\n",
       "      <th>month_7</th>\n",
       "      <th>month_8</th>\n",
       "      <th>month_9</th>\n",
       "      <th>weekday_0</th>\n",
       "      <th>weekday_1</th>\n",
       "      <th>weekday_2</th>\n",
       "      <th>weekday_3</th>\n",
       "      <th>weekday_4</th>\n",
       "      <th>weekday_5</th>\n",
       "      <th>weekday_6</th>\n",
       "    </tr>\n",
       "  </thead>\n",
       "  <tbody>\n",
       "    <tr>\n",
       "      <th>0</th>\n",
       "      <td>1</td>\n",
       "      <td>ZpYIoDJMcFzVoPFsHGJL</td>\n",
       "      <td>banner</td>\n",
       "      <td>LEoPHuyFvzoNfnzGgfcd</td>\n",
       "      <td>vCIpmpaGBnIQhyYNkXqp</td>\n",
       "      <td>mobile</td>\n",
       "      <td>Huawei</td>\n",
       "      <td>other</td>\n",
       "      <td>0.0</td>\n",
       "      <td>14</td>\n",
       "      <td>...</td>\n",
       "      <td>0.0</td>\n",
       "      <td>0.0</td>\n",
       "      <td>0.0</td>\n",
       "      <td>0.0</td>\n",
       "      <td>0.0</td>\n",
       "      <td>1.0</td>\n",
       "      <td>0.0</td>\n",
       "      <td>0.0</td>\n",
       "      <td>0.0</td>\n",
       "      <td>0.0</td>\n",
       "    </tr>\n",
       "    <tr>\n",
       "      <th>1</th>\n",
       "      <td>1</td>\n",
       "      <td>MvfHsxITijuriZxsqZqt</td>\n",
       "      <td>cpm</td>\n",
       "      <td>FTjNLDyTrXaWYgZymFkV</td>\n",
       "      <td>xhoenQgDQsgfEPYNPwKO</td>\n",
       "      <td>mobile</td>\n",
       "      <td>Samsung</td>\n",
       "      <td>Moscow</td>\n",
       "      <td>0.0</td>\n",
       "      <td>8</td>\n",
       "      <td>...</td>\n",
       "      <td>0.0</td>\n",
       "      <td>0.0</td>\n",
       "      <td>0.0</td>\n",
       "      <td>0.0</td>\n",
       "      <td>0.0</td>\n",
       "      <td>0.0</td>\n",
       "      <td>0.0</td>\n",
       "      <td>0.0</td>\n",
       "      <td>0.0</td>\n",
       "      <td>1.0</td>\n",
       "    </tr>\n",
       "    <tr>\n",
       "      <th>2</th>\n",
       "      <td>1</td>\n",
       "      <td>ZpYIoDJMcFzVoPFsHGJL</td>\n",
       "      <td>banner</td>\n",
       "      <td>LEoPHuyFvzoNfnzGgfcd</td>\n",
       "      <td>vCIpmpaGBnIQhyYNkXqp</td>\n",
       "      <td>mobile</td>\n",
       "      <td>Huawei</td>\n",
       "      <td>other</td>\n",
       "      <td>0.0</td>\n",
       "      <td>2</td>\n",
       "      <td>...</td>\n",
       "      <td>0.0</td>\n",
       "      <td>0.0</td>\n",
       "      <td>0.0</td>\n",
       "      <td>0.0</td>\n",
       "      <td>1.0</td>\n",
       "      <td>0.0</td>\n",
       "      <td>0.0</td>\n",
       "      <td>0.0</td>\n",
       "      <td>0.0</td>\n",
       "      <td>0.0</td>\n",
       "    </tr>\n",
       "    <tr>\n",
       "      <th>3</th>\n",
       "      <td>1</td>\n",
       "      <td>kjsLglQLzykiRbcDiGcD</td>\n",
       "      <td>cpc</td>\n",
       "      <td>other</td>\n",
       "      <td>other</td>\n",
       "      <td>mobile</td>\n",
       "      <td>Xiaomi</td>\n",
       "      <td>Moscow</td>\n",
       "      <td>0.0</td>\n",
       "      <td>5</td>\n",
       "      <td>...</td>\n",
       "      <td>0.0</td>\n",
       "      <td>0.0</td>\n",
       "      <td>0.0</td>\n",
       "      <td>0.0</td>\n",
       "      <td>0.0</td>\n",
       "      <td>0.0</td>\n",
       "      <td>0.0</td>\n",
       "      <td>0.0</td>\n",
       "      <td>1.0</td>\n",
       "      <td>0.0</td>\n",
       "    </tr>\n",
       "    <tr>\n",
       "      <th>4</th>\n",
       "      <td>2</td>\n",
       "      <td>kjsLglQLzykiRbcDiGcD</td>\n",
       "      <td>cpc</td>\n",
       "      <td>other</td>\n",
       "      <td>other</td>\n",
       "      <td>mobile</td>\n",
       "      <td>Xiaomi</td>\n",
       "      <td>Moscow</td>\n",
       "      <td>0.0</td>\n",
       "      <td>5</td>\n",
       "      <td>...</td>\n",
       "      <td>0.0</td>\n",
       "      <td>0.0</td>\n",
       "      <td>0.0</td>\n",
       "      <td>0.0</td>\n",
       "      <td>0.0</td>\n",
       "      <td>0.0</td>\n",
       "      <td>0.0</td>\n",
       "      <td>0.0</td>\n",
       "      <td>1.0</td>\n",
       "      <td>0.0</td>\n",
       "    </tr>\n",
       "  </tbody>\n",
       "</table>\n",
       "<p>5 rows × 125 columns</p>\n",
       "</div>"
      ],
      "text/plain": [
       "   visit_number            utm_source utm_medium          utm_campaign  \\\n",
       "0             1  ZpYIoDJMcFzVoPFsHGJL     banner  LEoPHuyFvzoNfnzGgfcd   \n",
       "1             1  MvfHsxITijuriZxsqZqt        cpm  FTjNLDyTrXaWYgZymFkV   \n",
       "2             1  ZpYIoDJMcFzVoPFsHGJL     banner  LEoPHuyFvzoNfnzGgfcd   \n",
       "3             1  kjsLglQLzykiRbcDiGcD        cpc                 other   \n",
       "4             2  kjsLglQLzykiRbcDiGcD        cpc                 other   \n",
       "\n",
       "          utm_adcontent device_category device_brand geo_city  useful_action  \\\n",
       "0  vCIpmpaGBnIQhyYNkXqp          mobile       Huawei    other            0.0   \n",
       "1  xhoenQgDQsgfEPYNPwKO          mobile      Samsung   Moscow            0.0   \n",
       "2  vCIpmpaGBnIQhyYNkXqp          mobile       Huawei    other            0.0   \n",
       "3                 other          mobile       Xiaomi   Moscow            0.0   \n",
       "4                 other          mobile       Xiaomi   Moscow            0.0   \n",
       "\n",
       "   time_action  ... month_7 month_8  month_9 weekday_0  weekday_1  weekday_2  \\\n",
       "0           14  ...     0.0     0.0      0.0       0.0        0.0        1.0   \n",
       "1            8  ...     0.0     0.0      0.0       0.0        0.0        0.0   \n",
       "2            2  ...     0.0     0.0      0.0       0.0        1.0        0.0   \n",
       "3            5  ...     0.0     0.0      0.0       0.0        0.0        0.0   \n",
       "4            5  ...     0.0     0.0      0.0       0.0        0.0        0.0   \n",
       "\n",
       "   weekday_3  weekday_4  weekday_5  weekday_6  \n",
       "0        0.0        0.0        0.0        0.0  \n",
       "1        0.0        0.0        0.0        1.0  \n",
       "2        0.0        0.0        0.0        0.0  \n",
       "3        0.0        0.0        1.0        0.0  \n",
       "4        0.0        0.0        1.0        0.0  \n",
       "\n",
       "[5 rows x 125 columns]"
      ]
     },
     "execution_count": 191,
     "metadata": {},
     "output_type": "execute_result"
    }
   ],
   "source": [
    "ohe_1.fit(df_merge[categorical_features_device])\n",
    "ohe_device = ohe_1.transform(df_merge[categorical_features_device])\n",
    "df_merge.loc[:, (ohe_1.get_feature_names(categorical_features_device))] = ohe_device\n",
    "df_merge.head()"
   ]
  },
  {
   "cell_type": "code",
   "execution_count": 192,
   "id": "9e01dc20-d838-4fd4-8d3b-c7af3ee95799",
   "metadata": {},
   "outputs": [
    {
     "data": {
      "text/html": [
       "<div>\n",
       "<style scoped>\n",
       "    .dataframe tbody tr th:only-of-type {\n",
       "        vertical-align: middle;\n",
       "    }\n",
       "\n",
       "    .dataframe tbody tr th {\n",
       "        vertical-align: top;\n",
       "    }\n",
       "\n",
       "    .dataframe thead th {\n",
       "        text-align: right;\n",
       "    }\n",
       "</style>\n",
       "<table border=\"1\" class=\"dataframe\">\n",
       "  <thead>\n",
       "    <tr style=\"text-align: right;\">\n",
       "      <th></th>\n",
       "      <th>visit_number</th>\n",
       "      <th>useful_action</th>\n",
       "      <th>time_action</th>\n",
       "      <th>diagonal</th>\n",
       "      <th>utm_source_BHcvLfOaCWvWTykYqHVe</th>\n",
       "      <th>utm_source_MvfHsxITijuriZxsqZqt</th>\n",
       "      <th>utm_source_ZpYIoDJMcFzVoPFsHGJL</th>\n",
       "      <th>utm_source_fDLlAcSmythWSCVMvqvL</th>\n",
       "      <th>utm_source_kjsLglQLzykiRbcDiGcD</th>\n",
       "      <th>utm_source_other</th>\n",
       "      <th>...</th>\n",
       "      <th>month_7</th>\n",
       "      <th>month_8</th>\n",
       "      <th>month_9</th>\n",
       "      <th>weekday_0</th>\n",
       "      <th>weekday_1</th>\n",
       "      <th>weekday_2</th>\n",
       "      <th>weekday_3</th>\n",
       "      <th>weekday_4</th>\n",
       "      <th>weekday_5</th>\n",
       "      <th>weekday_6</th>\n",
       "    </tr>\n",
       "  </thead>\n",
       "  <tbody>\n",
       "    <tr>\n",
       "      <th>0</th>\n",
       "      <td>1</td>\n",
       "      <td>0.0</td>\n",
       "      <td>14</td>\n",
       "      <td>805</td>\n",
       "      <td>0.0</td>\n",
       "      <td>0.0</td>\n",
       "      <td>1.0</td>\n",
       "      <td>0.0</td>\n",
       "      <td>0.0</td>\n",
       "      <td>0.0</td>\n",
       "      <td>...</td>\n",
       "      <td>0.0</td>\n",
       "      <td>0.0</td>\n",
       "      <td>0.0</td>\n",
       "      <td>0.0</td>\n",
       "      <td>0.0</td>\n",
       "      <td>1.0</td>\n",
       "      <td>0.0</td>\n",
       "      <td>0.0</td>\n",
       "      <td>0.0</td>\n",
       "      <td>0.0</td>\n",
       "    </tr>\n",
       "    <tr>\n",
       "      <th>1</th>\n",
       "      <td>1</td>\n",
       "      <td>0.0</td>\n",
       "      <td>8</td>\n",
       "      <td>937</td>\n",
       "      <td>0.0</td>\n",
       "      <td>1.0</td>\n",
       "      <td>0.0</td>\n",
       "      <td>0.0</td>\n",
       "      <td>0.0</td>\n",
       "      <td>0.0</td>\n",
       "      <td>...</td>\n",
       "      <td>0.0</td>\n",
       "      <td>0.0</td>\n",
       "      <td>0.0</td>\n",
       "      <td>0.0</td>\n",
       "      <td>0.0</td>\n",
       "      <td>0.0</td>\n",
       "      <td>0.0</td>\n",
       "      <td>0.0</td>\n",
       "      <td>0.0</td>\n",
       "      <td>1.0</td>\n",
       "    </tr>\n",
       "    <tr>\n",
       "      <th>2</th>\n",
       "      <td>1</td>\n",
       "      <td>0.0</td>\n",
       "      <td>2</td>\n",
       "      <td>805</td>\n",
       "      <td>0.0</td>\n",
       "      <td>0.0</td>\n",
       "      <td>1.0</td>\n",
       "      <td>0.0</td>\n",
       "      <td>0.0</td>\n",
       "      <td>0.0</td>\n",
       "      <td>...</td>\n",
       "      <td>0.0</td>\n",
       "      <td>0.0</td>\n",
       "      <td>0.0</td>\n",
       "      <td>0.0</td>\n",
       "      <td>1.0</td>\n",
       "      <td>0.0</td>\n",
       "      <td>0.0</td>\n",
       "      <td>0.0</td>\n",
       "      <td>0.0</td>\n",
       "      <td>0.0</td>\n",
       "    </tr>\n",
       "    <tr>\n",
       "      <th>3</th>\n",
       "      <td>1</td>\n",
       "      <td>0.0</td>\n",
       "      <td>5</td>\n",
       "      <td>879</td>\n",
       "      <td>0.0</td>\n",
       "      <td>0.0</td>\n",
       "      <td>0.0</td>\n",
       "      <td>0.0</td>\n",
       "      <td>1.0</td>\n",
       "      <td>0.0</td>\n",
       "      <td>...</td>\n",
       "      <td>0.0</td>\n",
       "      <td>0.0</td>\n",
       "      <td>0.0</td>\n",
       "      <td>0.0</td>\n",
       "      <td>0.0</td>\n",
       "      <td>0.0</td>\n",
       "      <td>0.0</td>\n",
       "      <td>0.0</td>\n",
       "      <td>1.0</td>\n",
       "      <td>0.0</td>\n",
       "    </tr>\n",
       "    <tr>\n",
       "      <th>4</th>\n",
       "      <td>2</td>\n",
       "      <td>0.0</td>\n",
       "      <td>5</td>\n",
       "      <td>879</td>\n",
       "      <td>0.0</td>\n",
       "      <td>0.0</td>\n",
       "      <td>0.0</td>\n",
       "      <td>0.0</td>\n",
       "      <td>1.0</td>\n",
       "      <td>0.0</td>\n",
       "      <td>...</td>\n",
       "      <td>0.0</td>\n",
       "      <td>0.0</td>\n",
       "      <td>0.0</td>\n",
       "      <td>0.0</td>\n",
       "      <td>0.0</td>\n",
       "      <td>0.0</td>\n",
       "      <td>0.0</td>\n",
       "      <td>0.0</td>\n",
       "      <td>1.0</td>\n",
       "      <td>0.0</td>\n",
       "    </tr>\n",
       "  </tbody>\n",
       "</table>\n",
       "<p>5 rows × 115 columns</p>\n",
       "</div>"
      ],
      "text/plain": [
       "   visit_number  useful_action  time_action  diagonal  \\\n",
       "0             1            0.0           14       805   \n",
       "1             1            0.0            8       937   \n",
       "2             1            0.0            2       805   \n",
       "3             1            0.0            5       879   \n",
       "4             2            0.0            5       879   \n",
       "\n",
       "   utm_source_BHcvLfOaCWvWTykYqHVe  utm_source_MvfHsxITijuriZxsqZqt  \\\n",
       "0                              0.0                              0.0   \n",
       "1                              0.0                              1.0   \n",
       "2                              0.0                              0.0   \n",
       "3                              0.0                              0.0   \n",
       "4                              0.0                              0.0   \n",
       "\n",
       "   utm_source_ZpYIoDJMcFzVoPFsHGJL  utm_source_fDLlAcSmythWSCVMvqvL  \\\n",
       "0                              1.0                              0.0   \n",
       "1                              0.0                              0.0   \n",
       "2                              1.0                              0.0   \n",
       "3                              0.0                              0.0   \n",
       "4                              0.0                              0.0   \n",
       "\n",
       "   utm_source_kjsLglQLzykiRbcDiGcD  utm_source_other  ...  month_7  month_8  \\\n",
       "0                              0.0               0.0  ...      0.0      0.0   \n",
       "1                              0.0               0.0  ...      0.0      0.0   \n",
       "2                              0.0               0.0  ...      0.0      0.0   \n",
       "3                              1.0               0.0  ...      0.0      0.0   \n",
       "4                              1.0               0.0  ...      0.0      0.0   \n",
       "\n",
       "   month_9  weekday_0  weekday_1  weekday_2  weekday_3  weekday_4  weekday_5  \\\n",
       "0      0.0        0.0        0.0        1.0        0.0        0.0        0.0   \n",
       "1      0.0        0.0        0.0        0.0        0.0        0.0        0.0   \n",
       "2      0.0        0.0        1.0        0.0        0.0        0.0        0.0   \n",
       "3      0.0        0.0        0.0        0.0        0.0        0.0        1.0   \n",
       "4      0.0        0.0        0.0        0.0        0.0        0.0        1.0   \n",
       "\n",
       "   weekday_6  \n",
       "0        0.0  \n",
       "1        1.0  \n",
       "2        0.0  \n",
       "3        0.0  \n",
       "4        0.0  \n",
       "\n",
       "[5 rows x 115 columns]"
      ]
     },
     "execution_count": 192,
     "metadata": {},
     "output_type": "execute_result"
    }
   ],
   "source": [
    "df_merge = df_merge.drop(columns = categorical_features_utm) \n",
    "df_merge = df_merge.drop(columns = categorical_features_device)\n",
    "df_merge.head()"
   ]
  },
  {
   "cell_type": "code",
   "execution_count": 193,
   "id": "872c583d-ae51-4511-a962-ea74886d3ece",
   "metadata": {},
   "outputs": [],
   "source": [
    "# scale numeric data"
   ]
  },
  {
   "cell_type": "code",
   "execution_count": 194,
   "id": "896a4b9f-5d25-4889-a937-486583a61ac5",
   "metadata": {},
   "outputs": [
    {
     "data": {
      "text/html": [
       "<div>\n",
       "<style scoped>\n",
       "    .dataframe tbody tr th:only-of-type {\n",
       "        vertical-align: middle;\n",
       "    }\n",
       "\n",
       "    .dataframe tbody tr th {\n",
       "        vertical-align: top;\n",
       "    }\n",
       "\n",
       "    .dataframe thead th {\n",
       "        text-align: right;\n",
       "    }\n",
       "</style>\n",
       "<table border=\"1\" class=\"dataframe\">\n",
       "  <thead>\n",
       "    <tr style=\"text-align: right;\">\n",
       "      <th></th>\n",
       "      <th>visit_number</th>\n",
       "      <th>useful_action</th>\n",
       "      <th>time_action</th>\n",
       "      <th>diagonal</th>\n",
       "      <th>utm_source_BHcvLfOaCWvWTykYqHVe</th>\n",
       "      <th>utm_source_MvfHsxITijuriZxsqZqt</th>\n",
       "      <th>utm_source_ZpYIoDJMcFzVoPFsHGJL</th>\n",
       "      <th>utm_source_fDLlAcSmythWSCVMvqvL</th>\n",
       "      <th>utm_source_kjsLglQLzykiRbcDiGcD</th>\n",
       "      <th>utm_source_other</th>\n",
       "      <th>...</th>\n",
       "      <th>weekday_0</th>\n",
       "      <th>weekday_1</th>\n",
       "      <th>weekday_2</th>\n",
       "      <th>weekday_3</th>\n",
       "      <th>weekday_4</th>\n",
       "      <th>weekday_5</th>\n",
       "      <th>weekday_6</th>\n",
       "      <th>visit_number_scaled</th>\n",
       "      <th>time_action_scaled</th>\n",
       "      <th>diagonal_scaled</th>\n",
       "    </tr>\n",
       "  </thead>\n",
       "  <tbody>\n",
       "    <tr>\n",
       "      <th>0</th>\n",
       "      <td>1</td>\n",
       "      <td>0.0</td>\n",
       "      <td>14</td>\n",
       "      <td>805</td>\n",
       "      <td>0.0</td>\n",
       "      <td>0.0</td>\n",
       "      <td>1.0</td>\n",
       "      <td>0.0</td>\n",
       "      <td>0.0</td>\n",
       "      <td>0.0</td>\n",
       "      <td>...</td>\n",
       "      <td>0.0</td>\n",
       "      <td>0.0</td>\n",
       "      <td>1.0</td>\n",
       "      <td>0.0</td>\n",
       "      <td>0.0</td>\n",
       "      <td>0.0</td>\n",
       "      <td>0.0</td>\n",
       "      <td>-0.354937</td>\n",
       "      <td>0.062216</td>\n",
       "      <td>-0.624826</td>\n",
       "    </tr>\n",
       "    <tr>\n",
       "      <th>1</th>\n",
       "      <td>1</td>\n",
       "      <td>0.0</td>\n",
       "      <td>8</td>\n",
       "      <td>937</td>\n",
       "      <td>0.0</td>\n",
       "      <td>1.0</td>\n",
       "      <td>0.0</td>\n",
       "      <td>0.0</td>\n",
       "      <td>0.0</td>\n",
       "      <td>0.0</td>\n",
       "      <td>...</td>\n",
       "      <td>0.0</td>\n",
       "      <td>0.0</td>\n",
       "      <td>0.0</td>\n",
       "      <td>0.0</td>\n",
       "      <td>0.0</td>\n",
       "      <td>0.0</td>\n",
       "      <td>1.0</td>\n",
       "      <td>-0.354937</td>\n",
       "      <td>-0.917870</td>\n",
       "      <td>-0.357031</td>\n",
       "    </tr>\n",
       "    <tr>\n",
       "      <th>2</th>\n",
       "      <td>1</td>\n",
       "      <td>0.0</td>\n",
       "      <td>2</td>\n",
       "      <td>805</td>\n",
       "      <td>0.0</td>\n",
       "      <td>0.0</td>\n",
       "      <td>1.0</td>\n",
       "      <td>0.0</td>\n",
       "      <td>0.0</td>\n",
       "      <td>0.0</td>\n",
       "      <td>...</td>\n",
       "      <td>0.0</td>\n",
       "      <td>1.0</td>\n",
       "      <td>0.0</td>\n",
       "      <td>0.0</td>\n",
       "      <td>0.0</td>\n",
       "      <td>0.0</td>\n",
       "      <td>0.0</td>\n",
       "      <td>-0.354937</td>\n",
       "      <td>-1.897956</td>\n",
       "      <td>-0.624826</td>\n",
       "    </tr>\n",
       "    <tr>\n",
       "      <th>3</th>\n",
       "      <td>1</td>\n",
       "      <td>0.0</td>\n",
       "      <td>5</td>\n",
       "      <td>879</td>\n",
       "      <td>0.0</td>\n",
       "      <td>0.0</td>\n",
       "      <td>0.0</td>\n",
       "      <td>0.0</td>\n",
       "      <td>1.0</td>\n",
       "      <td>0.0</td>\n",
       "      <td>...</td>\n",
       "      <td>0.0</td>\n",
       "      <td>0.0</td>\n",
       "      <td>0.0</td>\n",
       "      <td>0.0</td>\n",
       "      <td>0.0</td>\n",
       "      <td>1.0</td>\n",
       "      <td>0.0</td>\n",
       "      <td>-0.354937</td>\n",
       "      <td>-1.407913</td>\n",
       "      <td>-0.474699</td>\n",
       "    </tr>\n",
       "    <tr>\n",
       "      <th>4</th>\n",
       "      <td>2</td>\n",
       "      <td>0.0</td>\n",
       "      <td>5</td>\n",
       "      <td>879</td>\n",
       "      <td>0.0</td>\n",
       "      <td>0.0</td>\n",
       "      <td>0.0</td>\n",
       "      <td>0.0</td>\n",
       "      <td>1.0</td>\n",
       "      <td>0.0</td>\n",
       "      <td>...</td>\n",
       "      <td>0.0</td>\n",
       "      <td>0.0</td>\n",
       "      <td>0.0</td>\n",
       "      <td>0.0</td>\n",
       "      <td>0.0</td>\n",
       "      <td>1.0</td>\n",
       "      <td>0.0</td>\n",
       "      <td>0.050926</td>\n",
       "      <td>-1.407913</td>\n",
       "      <td>-0.474699</td>\n",
       "    </tr>\n",
       "  </tbody>\n",
       "</table>\n",
       "<p>5 rows × 118 columns</p>\n",
       "</div>"
      ],
      "text/plain": [
       "   visit_number  useful_action  time_action  diagonal  \\\n",
       "0             1            0.0           14       805   \n",
       "1             1            0.0            8       937   \n",
       "2             1            0.0            2       805   \n",
       "3             1            0.0            5       879   \n",
       "4             2            0.0            5       879   \n",
       "\n",
       "   utm_source_BHcvLfOaCWvWTykYqHVe  utm_source_MvfHsxITijuriZxsqZqt  \\\n",
       "0                              0.0                              0.0   \n",
       "1                              0.0                              1.0   \n",
       "2                              0.0                              0.0   \n",
       "3                              0.0                              0.0   \n",
       "4                              0.0                              0.0   \n",
       "\n",
       "   utm_source_ZpYIoDJMcFzVoPFsHGJL  utm_source_fDLlAcSmythWSCVMvqvL  \\\n",
       "0                              1.0                              0.0   \n",
       "1                              0.0                              0.0   \n",
       "2                              1.0                              0.0   \n",
       "3                              0.0                              0.0   \n",
       "4                              0.0                              0.0   \n",
       "\n",
       "   utm_source_kjsLglQLzykiRbcDiGcD  utm_source_other  ...  weekday_0  \\\n",
       "0                              0.0               0.0  ...        0.0   \n",
       "1                              0.0               0.0  ...        0.0   \n",
       "2                              0.0               0.0  ...        0.0   \n",
       "3                              1.0               0.0  ...        0.0   \n",
       "4                              1.0               0.0  ...        0.0   \n",
       "\n",
       "   weekday_1  weekday_2  weekday_3  weekday_4  weekday_5  weekday_6  \\\n",
       "0        0.0        1.0        0.0        0.0        0.0        0.0   \n",
       "1        0.0        0.0        0.0        0.0        0.0        1.0   \n",
       "2        1.0        0.0        0.0        0.0        0.0        0.0   \n",
       "3        0.0        0.0        0.0        0.0        1.0        0.0   \n",
       "4        0.0        0.0        0.0        0.0        1.0        0.0   \n",
       "\n",
       "   visit_number_scaled  time_action_scaled  diagonal_scaled  \n",
       "0            -0.354937            0.062216        -0.624826  \n",
       "1            -0.354937           -0.917870        -0.357031  \n",
       "2            -0.354937           -1.897956        -0.624826  \n",
       "3            -0.354937           -1.407913        -0.474699  \n",
       "4             0.050926           -1.407913        -0.474699  \n",
       "\n",
       "[5 rows x 118 columns]"
      ]
     },
     "execution_count": 194,
     "metadata": {},
     "output_type": "execute_result"
    }
   ],
   "source": [
    "std_scaler = StandardScaler()\n",
    "numeric_features = ['visit_number','time_action','diagonal']\n",
    "std_scaler.fit(df_merge[numeric_features])\n",
    "std_scaled = std_scaler.transform(df_merge[numeric_features])\n",
    "df_merge[['visit_number_scaled', 'time_action_scaled','diagonal_scaled']] = std_scaled\n",
    "df_merge.head()"
   ]
  },
  {
   "cell_type": "code",
   "execution_count": 195,
   "id": "e997ab0c-5f6c-4170-92b8-a6aa127aaba2",
   "metadata": {},
   "outputs": [
    {
     "data": {
      "text/html": [
       "<div>\n",
       "<style scoped>\n",
       "    .dataframe tbody tr th:only-of-type {\n",
       "        vertical-align: middle;\n",
       "    }\n",
       "\n",
       "    .dataframe tbody tr th {\n",
       "        vertical-align: top;\n",
       "    }\n",
       "\n",
       "    .dataframe thead th {\n",
       "        text-align: right;\n",
       "    }\n",
       "</style>\n",
       "<table border=\"1\" class=\"dataframe\">\n",
       "  <thead>\n",
       "    <tr style=\"text-align: right;\">\n",
       "      <th></th>\n",
       "      <th>useful_action</th>\n",
       "      <th>utm_source_BHcvLfOaCWvWTykYqHVe</th>\n",
       "      <th>utm_source_MvfHsxITijuriZxsqZqt</th>\n",
       "      <th>utm_source_ZpYIoDJMcFzVoPFsHGJL</th>\n",
       "      <th>utm_source_fDLlAcSmythWSCVMvqvL</th>\n",
       "      <th>utm_source_kjsLglQLzykiRbcDiGcD</th>\n",
       "      <th>utm_source_other</th>\n",
       "      <th>utm_medium_CPM</th>\n",
       "      <th>utm_medium_Sbol_catalog</th>\n",
       "      <th>utm_medium_app</th>\n",
       "      <th>...</th>\n",
       "      <th>weekday_0</th>\n",
       "      <th>weekday_1</th>\n",
       "      <th>weekday_2</th>\n",
       "      <th>weekday_3</th>\n",
       "      <th>weekday_4</th>\n",
       "      <th>weekday_5</th>\n",
       "      <th>weekday_6</th>\n",
       "      <th>visit_number_scaled</th>\n",
       "      <th>time_action_scaled</th>\n",
       "      <th>diagonal_scaled</th>\n",
       "    </tr>\n",
       "  </thead>\n",
       "  <tbody>\n",
       "    <tr>\n",
       "      <th>0</th>\n",
       "      <td>0.0</td>\n",
       "      <td>0.0</td>\n",
       "      <td>0.0</td>\n",
       "      <td>1.0</td>\n",
       "      <td>0.0</td>\n",
       "      <td>0.0</td>\n",
       "      <td>0.0</td>\n",
       "      <td>0.0</td>\n",
       "      <td>0.0</td>\n",
       "      <td>0.0</td>\n",
       "      <td>...</td>\n",
       "      <td>0.0</td>\n",
       "      <td>0.0</td>\n",
       "      <td>1.0</td>\n",
       "      <td>0.0</td>\n",
       "      <td>0.0</td>\n",
       "      <td>0.0</td>\n",
       "      <td>0.0</td>\n",
       "      <td>-0.354937</td>\n",
       "      <td>0.062216</td>\n",
       "      <td>-0.624826</td>\n",
       "    </tr>\n",
       "    <tr>\n",
       "      <th>1</th>\n",
       "      <td>0.0</td>\n",
       "      <td>0.0</td>\n",
       "      <td>1.0</td>\n",
       "      <td>0.0</td>\n",
       "      <td>0.0</td>\n",
       "      <td>0.0</td>\n",
       "      <td>0.0</td>\n",
       "      <td>0.0</td>\n",
       "      <td>0.0</td>\n",
       "      <td>0.0</td>\n",
       "      <td>...</td>\n",
       "      <td>0.0</td>\n",
       "      <td>0.0</td>\n",
       "      <td>0.0</td>\n",
       "      <td>0.0</td>\n",
       "      <td>0.0</td>\n",
       "      <td>0.0</td>\n",
       "      <td>1.0</td>\n",
       "      <td>-0.354937</td>\n",
       "      <td>-0.917870</td>\n",
       "      <td>-0.357031</td>\n",
       "    </tr>\n",
       "    <tr>\n",
       "      <th>2</th>\n",
       "      <td>0.0</td>\n",
       "      <td>0.0</td>\n",
       "      <td>0.0</td>\n",
       "      <td>1.0</td>\n",
       "      <td>0.0</td>\n",
       "      <td>0.0</td>\n",
       "      <td>0.0</td>\n",
       "      <td>0.0</td>\n",
       "      <td>0.0</td>\n",
       "      <td>0.0</td>\n",
       "      <td>...</td>\n",
       "      <td>0.0</td>\n",
       "      <td>1.0</td>\n",
       "      <td>0.0</td>\n",
       "      <td>0.0</td>\n",
       "      <td>0.0</td>\n",
       "      <td>0.0</td>\n",
       "      <td>0.0</td>\n",
       "      <td>-0.354937</td>\n",
       "      <td>-1.897956</td>\n",
       "      <td>-0.624826</td>\n",
       "    </tr>\n",
       "    <tr>\n",
       "      <th>3</th>\n",
       "      <td>0.0</td>\n",
       "      <td>0.0</td>\n",
       "      <td>0.0</td>\n",
       "      <td>0.0</td>\n",
       "      <td>0.0</td>\n",
       "      <td>1.0</td>\n",
       "      <td>0.0</td>\n",
       "      <td>0.0</td>\n",
       "      <td>0.0</td>\n",
       "      <td>0.0</td>\n",
       "      <td>...</td>\n",
       "      <td>0.0</td>\n",
       "      <td>0.0</td>\n",
       "      <td>0.0</td>\n",
       "      <td>0.0</td>\n",
       "      <td>0.0</td>\n",
       "      <td>1.0</td>\n",
       "      <td>0.0</td>\n",
       "      <td>-0.354937</td>\n",
       "      <td>-1.407913</td>\n",
       "      <td>-0.474699</td>\n",
       "    </tr>\n",
       "    <tr>\n",
       "      <th>4</th>\n",
       "      <td>0.0</td>\n",
       "      <td>0.0</td>\n",
       "      <td>0.0</td>\n",
       "      <td>0.0</td>\n",
       "      <td>0.0</td>\n",
       "      <td>1.0</td>\n",
       "      <td>0.0</td>\n",
       "      <td>0.0</td>\n",
       "      <td>0.0</td>\n",
       "      <td>0.0</td>\n",
       "      <td>...</td>\n",
       "      <td>0.0</td>\n",
       "      <td>0.0</td>\n",
       "      <td>0.0</td>\n",
       "      <td>0.0</td>\n",
       "      <td>0.0</td>\n",
       "      <td>1.0</td>\n",
       "      <td>0.0</td>\n",
       "      <td>0.050926</td>\n",
       "      <td>-1.407913</td>\n",
       "      <td>-0.474699</td>\n",
       "    </tr>\n",
       "  </tbody>\n",
       "</table>\n",
       "<p>5 rows × 115 columns</p>\n",
       "</div>"
      ],
      "text/plain": [
       "   useful_action  utm_source_BHcvLfOaCWvWTykYqHVe  \\\n",
       "0            0.0                              0.0   \n",
       "1            0.0                              0.0   \n",
       "2            0.0                              0.0   \n",
       "3            0.0                              0.0   \n",
       "4            0.0                              0.0   \n",
       "\n",
       "   utm_source_MvfHsxITijuriZxsqZqt  utm_source_ZpYIoDJMcFzVoPFsHGJL  \\\n",
       "0                              0.0                              1.0   \n",
       "1                              1.0                              0.0   \n",
       "2                              0.0                              1.0   \n",
       "3                              0.0                              0.0   \n",
       "4                              0.0                              0.0   \n",
       "\n",
       "   utm_source_fDLlAcSmythWSCVMvqvL  utm_source_kjsLglQLzykiRbcDiGcD  \\\n",
       "0                              0.0                              0.0   \n",
       "1                              0.0                              0.0   \n",
       "2                              0.0                              0.0   \n",
       "3                              0.0                              1.0   \n",
       "4                              0.0                              1.0   \n",
       "\n",
       "   utm_source_other  utm_medium_CPM  utm_medium_Sbol_catalog  utm_medium_app  \\\n",
       "0               0.0             0.0                      0.0             0.0   \n",
       "1               0.0             0.0                      0.0             0.0   \n",
       "2               0.0             0.0                      0.0             0.0   \n",
       "3               0.0             0.0                      0.0             0.0   \n",
       "4               0.0             0.0                      0.0             0.0   \n",
       "\n",
       "   ...  weekday_0  weekday_1  weekday_2  weekday_3  weekday_4  weekday_5  \\\n",
       "0  ...        0.0        0.0        1.0        0.0        0.0        0.0   \n",
       "1  ...        0.0        0.0        0.0        0.0        0.0        0.0   \n",
       "2  ...        0.0        1.0        0.0        0.0        0.0        0.0   \n",
       "3  ...        0.0        0.0        0.0        0.0        0.0        1.0   \n",
       "4  ...        0.0        0.0        0.0        0.0        0.0        1.0   \n",
       "\n",
       "   weekday_6  visit_number_scaled  time_action_scaled  diagonal_scaled  \n",
       "0        0.0            -0.354937            0.062216        -0.624826  \n",
       "1        1.0            -0.354937           -0.917870        -0.357031  \n",
       "2        0.0            -0.354937           -1.897956        -0.624826  \n",
       "3        0.0            -0.354937           -1.407913        -0.474699  \n",
       "4        0.0             0.050926           -1.407913        -0.474699  \n",
       "\n",
       "[5 rows x 115 columns]"
      ]
     },
     "execution_count": 195,
     "metadata": {},
     "output_type": "execute_result"
    }
   ],
   "source": [
    "df_merge = df_merge.drop(columns=numeric_features)\n",
    "df_merge.head()"
   ]
  },
  {
   "cell_type": "code",
   "execution_count": 196,
   "id": "42b45ad9-7d1d-4e5d-99da-009e896fa3b0",
   "metadata": {},
   "outputs": [],
   "source": [
    "df_merge.to_csv('/Users/sergey/Downloads/diploma/df_prep.csv', index=False)"
   ]
  },
  {
   "cell_type": "markdown",
   "id": "cb11e0f0-c8ad-426d-a276-ffb909d1fdf2",
   "metadata": {},
   "source": [
    "### Modeling"
   ]
  },
  {
   "cell_type": "code",
   "execution_count": 198,
   "id": "b61178c7-885d-47ae-abf0-cb7d671891e2",
   "metadata": {},
   "outputs": [],
   "source": [
    "# volume balance\n",
    "np.random.seed(10)\n",
    "\n",
    "remove_n = df_merge.shape[0]-len(df_merge[df_merge['useful_action']==1])*2\n",
    "drop_indices = np.random.choice(df_merge[df_merge['useful_action']!=1].index, remove_n, replace=False)\n",
    "df_subset = df_merge.drop(drop_indices)"
   ]
  },
  {
   "cell_type": "code",
   "execution_count": 199,
   "id": "575c8004-7822-4424-bbaf-408993085d2d",
   "metadata": {},
   "outputs": [
    {
     "data": {
      "text/plain": [
       "0.0    50314\n",
       "1.0    50314\n",
       "Name: useful_action, dtype: int64"
      ]
     },
     "execution_count": 199,
     "metadata": {},
     "output_type": "execute_result"
    }
   ],
   "source": [
    "df_subset['useful_action'].value_counts()"
   ]
  },
  {
   "cell_type": "code",
   "execution_count": 200,
   "id": "21d88eec-9800-4a36-95bd-60a6c4115ab8",
   "metadata": {},
   "outputs": [],
   "source": [
    "x = df_subset.drop(['useful_action'], axis=1) #features\n",
    "y = df_subset.useful_action #target "
   ]
  },
  {
   "cell_type": "code",
   "execution_count": 202,
   "id": "14877d3a-946c-40bd-9087-a298261adeb1",
   "metadata": {},
   "outputs": [],
   "source": [
    "#train-test split\n",
    "x_train, x_test, y_train, y_test = train_test_split(x, y, test_size=0.2, random_state=42)"
   ]
  },
  {
   "cell_type": "markdown",
   "id": "74ce8585-9045-499a-ac66-4dc08147251d",
   "metadata": {
    "jp-MarkdownHeadingCollapsed": true,
    "tags": []
   },
   "source": [
    "#### Logistic Regression"
   ]
  },
  {
   "cell_type": "code",
   "execution_count": 203,
   "id": "0864c128-f9d6-4fc9-b830-5a27a403c7e8",
   "metadata": {},
   "outputs": [],
   "source": [
    "logreg = LogisticRegression()"
   ]
  },
  {
   "cell_type": "code",
   "execution_count": 204,
   "id": "8856f8a0-981f-48d4-8fac-f306c3a08a46",
   "metadata": {},
   "outputs": [
    {
     "name": "stderr",
     "output_type": "stream",
     "text": [
      "/Users/sergey/opt/anaconda3/lib/python3.9/site-packages/sklearn/linear_model/_logistic.py:763: ConvergenceWarning: lbfgs failed to converge (status=1):\n",
      "STOP: TOTAL NO. of ITERATIONS REACHED LIMIT.\n",
      "\n",
      "Increase the number of iterations (max_iter) or scale the data as shown in:\n",
      "    https://scikit-learn.org/stable/modules/preprocessing.html\n",
      "Please also refer to the documentation for alternative solver options:\n",
      "    https://scikit-learn.org/stable/modules/linear_model.html#logistic-regression\n",
      "  n_iter_i = _check_optimize_result(\n"
     ]
    },
    {
     "data": {
      "text/plain": [
       "LogisticRegression()"
      ]
     },
     "execution_count": 204,
     "metadata": {},
     "output_type": "execute_result"
    }
   ],
   "source": [
    "logreg.fit(x_train, y_train)"
   ]
  },
  {
   "cell_type": "code",
   "execution_count": 206,
   "id": "58b4727c-373c-4b19-98eb-62a48c0fa80f",
   "metadata": {},
   "outputs": [
    {
     "data": {
      "text/plain": [
       "0.6195468548146676"
      ]
     },
     "execution_count": 206,
     "metadata": {},
     "output_type": "execute_result"
    }
   ],
   "source": [
    "# test prediction\n",
    "pred = logreg.predict(x_test)\n",
    "accuracy_score(y_test, pred)"
   ]
  },
  {
   "cell_type": "code",
   "execution_count": 207,
   "id": "04ea13e5-4bd7-4788-86e3-0df33fc1d299",
   "metadata": {},
   "outputs": [
    {
     "data": {
      "text/plain": [
       "array([[6099, 3949],\n",
       "       [3708, 6370]])"
      ]
     },
     "execution_count": 207,
     "metadata": {},
     "output_type": "execute_result"
    }
   ],
   "source": [
    "confusion_matrix(y_test, pred)"
   ]
  },
  {
   "cell_type": "code",
   "execution_count": 208,
   "id": "abe26820-a50c-4dcc-bb7b-1fbd1286f4b7",
   "metadata": {},
   "outputs": [
    {
     "name": "stdout",
     "output_type": "stream",
     "text": [
      "Coef of importance for utm_source_BHcvLfOaCWvWTykYqHVe=0.8033242643836843\n",
      "Coef of importance for utm_source_MvfHsxITijuriZxsqZqt=-0.5234753547020782\n",
      "Coef of importance for utm_source_ZpYIoDJMcFzVoPFsHGJL=-0.005823821327224757\n",
      "Coef of importance for utm_source_fDLlAcSmythWSCVMvqvL=-0.29897230633053073\n",
      "Coef of importance for utm_source_kjsLglQLzykiRbcDiGcD=0.3134114586662753\n",
      "Coef of importance for utm_source_other=-0.1006783273883327\n",
      "Coef of importance for utm_medium_CPM=-0.024096987432493656\n",
      "Coef of importance for utm_medium_Sbol_catalog=0.0\n",
      "Coef of importance for utm_medium_app=-1.3476653051216496\n",
      "Coef of importance for utm_medium_article=0.0\n",
      "Coef of importance for utm_medium_banner=-0.15753945270823388\n",
      "Coef of importance for utm_medium_blogger_channel=0.4208424108310581\n",
      "Coef of importance for utm_medium_blogger_header=-0.7405873687430224\n",
      "Coef of importance for utm_medium_blogger_stories=-1.1379618495380581\n",
      "Coef of importance for utm_medium_catalogue=0.0\n",
      "Coef of importance for utm_medium_cbaafe=0.0\n",
      "Coef of importance for utm_medium_clicks=0.9657883939925276\n",
      "Coef of importance for utm_medium_cpa=0.7280337537831899\n",
      "Coef of importance for utm_medium_cpc=-0.36025965268801374\n",
      "Coef of importance for utm_medium_cpm=0.21847810670799966\n",
      "Coef of importance for utm_medium_cpv=-0.1256018382511171\n",
      "Coef of importance for utm_medium_desktop=0.0\n",
      "Coef of importance for utm_medium_dom_click=0.0652896359029933\n",
      "Coef of importance for utm_medium_email=-0.2870086356117465\n",
      "Coef of importance for utm_medium_fb_smm=-0.17164516165540167\n",
      "Coef of importance for utm_medium_google_cpc=-0.04648141718735909\n",
      "Coef of importance for utm_medium_info_text=-0.17266338534026768\n",
      "Coef of importance for utm_medium_landing=0.7289416755342363\n",
      "Coef of importance for utm_medium_landing_interests=0.0\n",
      "Coef of importance for utm_medium_last=0.0\n",
      "Coef of importance for utm_medium_link=0.638560806584795\n",
      "Coef of importance for utm_medium_linktest=0.0\n",
      "Coef of importance for utm_medium_main_polka=0.0\n",
      "Coef of importance for utm_medium_medium=0.0\n",
      "Coef of importance for utm_medium_nkp=0.0\n",
      "Coef of importance for utm_medium_ok_smm=0.0\n",
      "Coef of importance for utm_medium_organic=-0.18585735784201224\n",
      "Coef of importance for utm_medium_other=0.40062991255491354\n",
      "Coef of importance for utm_medium_outlook=-0.5326538924407725\n",
      "Coef of importance for utm_medium_partner=-0.015221640702224672\n",
      "Coef of importance for utm_medium_post=-0.30621140561242305\n",
      "Coef of importance for utm_medium_promo_sber=0.0\n",
      "Coef of importance for utm_medium_promo_sbol=0.0\n",
      "Coef of importance for utm_medium_push=0.5659508991264255\n",
      "Coef of importance for utm_medium_qr=0.0\n",
      "Coef of importance for utm_medium_qrcodevideo=0.0\n",
      "Coef of importance for utm_medium_reach=0.0\n",
      "Coef of importance for utm_medium_referral=0.6766124258074803\n",
      "Coef of importance for utm_medium_sber_app=0.0\n",
      "Coef of importance for utm_medium_smartbanner=0.5468927456996612\n",
      "Coef of importance for utm_medium_smm=0.8809313668136385\n",
      "Coef of importance for utm_medium_sms=0.5148998195193885\n",
      "Coef of importance for utm_medium_social=0.05872253861316348\n",
      "Coef of importance for utm_medium_static=0.07263830983190739\n",
      "Coef of importance for utm_medium_stories=-0.9762145525695829\n",
      "Coef of importance for utm_medium_tablet=0.0\n",
      "Coef of importance for utm_medium_tg=-0.7116563027487054\n",
      "Coef of importance for utm_medium_users_msk=0.0\n",
      "Coef of importance for utm_medium_vk_smm=-0.08686170391114607\n",
      "Coef of importance for utm_medium_web_polka=0.0\n",
      "Coef of importance for utm_medium_yandex_cpc=0.09076102210263137\n",
      "Coef of importance for utm_campaign_FTjNLDyTrXaWYgZymFkV=-1.9546394185564622\n",
      "Coef of importance for utm_campaign_LEoPHuyFvzoNfnzGgfcd=0.8174358368338221\n",
      "Coef of importance for utm_campaign_LTuZkdKfxRGVceoWkVyg=0.2889472213837423\n",
      "Coef of importance for utm_campaign_gecBYcKZCPMcVYdSSzKP=0.9120127902925872\n",
      "Coef of importance for utm_campaign_other=0.12402948334809068\n",
      "Coef of importance for utm_adcontent_JNHcPlZPxEMWDnRiyoBf=-0.6851925992522271\n",
      "Coef of importance for utm_adcontent_PkybGvWbaqORmxjNunqZ=1.2942735977605622\n",
      "Coef of importance for utm_adcontent_other=-0.7830890138278163\n",
      "Coef of importance for utm_adcontent_vCIpmpaGBnIQhyYNkXqp=-0.8664896231504768\n",
      "Coef of importance for utm_adcontent_xhoenQgDQsgfEPYNPwKO=1.228283551771736\n",
      "Coef of importance for device_category_desktop=0.32278845699844305\n",
      "Coef of importance for device_category_mobile=-0.06905151104009186\n",
      "Coef of importance for device_category_tablet=-0.06595103265653575\n",
      "Coef of importance for device_brand_Apple=-0.001584821684347332\n",
      "Coef of importance for device_brand_Huawei=-0.020899180635743062\n",
      "Coef of importance for device_brand_Samsung=0.24355402160111037\n",
      "Coef of importance for device_brand_Xiaomi=-0.004851906945982966\n",
      "Coef of importance for device_brand_other=-0.028432199033235597\n",
      "Coef of importance for device_browser_short_Android=0.7173175124365676\n",
      "Coef of importance for device_browser_short_Chrome=0.09270746982926366\n",
      "Coef of importance for device_browser_short_Edge=0.04800574051484453\n",
      "Coef of importance for device_browser_short_Firefox=-0.05987396236411732\n",
      "Coef of importance for device_browser_short_Instagram=-0.36077058646910026\n",
      "Coef of importance for device_browser_short_Opera=-0.31774534505579927\n",
      "Coef of importance for device_browser_short_Safari=0.09702776175254199\n",
      "Coef of importance for device_browser_short_Samsung=0.21141379441597788\n",
      "Coef of importance for device_browser_short_UC=-0.17658685475109887\n",
      "Coef of importance for device_browser_short_YaBrowser=0.04866861084210204\n",
      "Coef of importance for device_browser_short_other=-0.11237822784937018\n",
      "Coef of importance for geo_city_Kazan=0.2481660474194274\n",
      "Coef of importance for geo_city_Krasnodar=0.16898845190977516\n",
      "Coef of importance for geo_city_Moscow=0.0979065241343412\n",
      "Coef of importance for geo_city_Saint Petersburg=-0.04002211625234664\n",
      "Coef of importance for geo_city_Yekaterinburg=-0.1605618612452675\n",
      "Coef of importance for geo_city_other=-0.12669113266412632\n",
      "Coef of importance for month_10=-0.16415244925552824\n",
      "Coef of importance for month_11=-0.2364879855057674\n",
      "Coef of importance for month_12=-0.37952650767206125\n",
      "Coef of importance for month_5=0.5855012121533064\n",
      "Coef of importance for month_6=0.3139828175846028\n",
      "Coef of importance for month_7=-0.007522916963876938\n",
      "Coef of importance for month_8=0.19086531030469367\n",
      "Coef of importance for month_9=-0.11487356734353697\n",
      "Coef of importance for weekday_0=0.04090383361942044\n",
      "Coef of importance for weekday_1=0.027585052291893453\n",
      "Coef of importance for weekday_2=0.05496550948518543\n",
      "Coef of importance for weekday_3=0.02964302967869972\n",
      "Coef of importance for weekday_4=0.016558007788787327\n",
      "Coef of importance for weekday_5=0.01652704007313386\n",
      "Coef of importance for weekday_6=0.0016034403646749862\n",
      "Coef of importance for visit_number_scaled=0.1149792639770748\n",
      "Coef of importance for time_action_scaled=-0.002824624199247215\n",
      "Coef of importance for diagonal_scaled=-0.08928178325378504\n"
     ]
    }
   ],
   "source": [
    "# Coef of importance\n",
    "train_cols = x.columns\n",
    "for col, i in zip(train_cols, logreg.coef_[0]):\n",
    "    print(f'Coef of importance for {col}={i}')"
   ]
  },
  {
   "cell_type": "code",
   "execution_count": 209,
   "id": "1c134c4f-59a3-4e42-a236-ac459f5aafbb",
   "metadata": {},
   "outputs": [
    {
     "data": {
      "text/plain": [
       "array([0.25763253, 0.26463006, 0.52297665, ..., 0.75821899, 0.54019131,\n",
       "       0.39495426])"
      ]
     },
     "execution_count": 209,
     "metadata": {},
     "output_type": "execute_result"
    }
   ],
   "source": [
    "# probabitity for class=1\n",
    "prob_list_log = logreg.predict_proba(x_test)[:,1]\n",
    "prob_list_log"
   ]
  },
  {
   "cell_type": "code",
   "execution_count": 211,
   "id": "aee5f3ba-1136-4480-850a-90ccce18a497",
   "metadata": {},
   "outputs": [
    {
     "name": "stdout",
     "output_type": "stream",
     "text": [
      "for treshold =  0.0\n",
      "0.5007453045811389\n",
      "[[    0 10048]\n",
      " [    0 10078]]\n",
      "----------------------\n",
      "for treshold =  0.1\n",
      "0.5129186127397396\n",
      "[[  261  9787]\n",
      " [   16 10062]]\n",
      "----------------------\n",
      "for treshold =  0.2\n",
      "0.5207194673556593\n",
      "[[  454  9594]\n",
      " [   52 10026]]\n",
      "----------------------\n",
      "for treshold =  0.30000000000000004\n",
      "0.549438537215542\n",
      "[[1374 8674]\n",
      " [ 394 9684]]\n",
      "----------------------\n",
      "for treshold =  0.4\n",
      "0.6029514061413097\n",
      "[[3521 6527]\n",
      " [1464 8614]]\n",
      "----------------------\n",
      "for treshold =  0.5\n",
      "0.6195468548146676\n",
      "[[6099 3949]\n",
      " [3708 6370]]\n",
      "----------------------\n",
      "for treshold =  0.6\n",
      "0.587548444797774\n",
      "[[8469 1579]\n",
      " [6722 3356]]\n",
      "----------------------\n",
      "for treshold =  0.7\n",
      "0.5330915234025638\n",
      "[[9630  418]\n",
      " [8979 1099]]\n",
      "----------------------\n",
      "for treshold =  0.7999999999999999\n",
      "0.5054158799562755\n",
      "[[10010    38]\n",
      " [ 9916   162]]\n",
      "----------------------\n",
      "for treshold =  0.8999999999999999\n",
      "0.4992050084467852\n",
      "[[10047     1]\n",
      " [10078     0]]\n",
      "----------------------\n",
      "for treshold =  0.9999999999999999\n",
      "0.4992546954188612\n",
      "[[10048     0]\n",
      " [10078     0]]\n",
      "----------------------\n"
     ]
    }
   ],
   "source": [
    "accuracy_list =[]\n",
    "trsh = 0.0\n",
    "while trsh <= 1.0:\n",
    "    pred_trsh = []\n",
    "    for element in prob_list_log:\n",
    "        if element <= trsh:\n",
    "            pred_trsh.append(0.0)\n",
    "        else:\n",
    "            pred_trsh.append(1.0)\n",
    "    print('for treshold = ', trsh)\n",
    "    print(accuracy_score(y_test, pred_trsh))\n",
    "    print(confusion_matrix(y_test, pred_trsh))\n",
    "    print('----------------------')\n",
    "    accuracy_list.append(accuracy_score(y_test, pred_trsh))\n",
    "    trsh+=0.1"
   ]
  },
  {
   "cell_type": "code",
   "execution_count": 212,
   "id": "6647fd53-2b8e-48a2-bced-53c8e50b2969",
   "metadata": {},
   "outputs": [
    {
     "name": "stdout",
     "output_type": "stream",
     "text": [
      "best accuracy_score =  0.6195468548146676\n"
     ]
    }
   ],
   "source": [
    "print('best accuracy_score = ', max(accuracy_list))"
   ]
  },
  {
   "cell_type": "markdown",
   "id": "6eb81823-4e72-4832-abcc-854233ce50f8",
   "metadata": {
    "jp-MarkdownHeadingCollapsed": true,
    "tags": []
   },
   "source": [
    "#### Forest"
   ]
  },
  {
   "cell_type": "code",
   "execution_count": 213,
   "id": "41301735-310c-4707-a506-5a353df71203",
   "metadata": {},
   "outputs": [
    {
     "name": "stdout",
     "output_type": "stream",
     "text": [
      "0.9761372388263646\n",
      "0.6074232336281427\n"
     ]
    }
   ],
   "source": [
    "rf_clf = RandomForestClassifier()\n",
    "rf_clf.fit(x_train, y_train)\n",
    "\n",
    "# train prediction\n",
    "predicted_train_rf = rf_clf.predict(x_train)\n",
    "print(accuracy_score(y_train, predicted_train_rf))\n",
    "\n",
    "# test prediction\n",
    "predicted_test_rf = rf_clf.predict(x_test)\n",
    "print(accuracy_score(y_test, predicted_test_rf))"
   ]
  },
  {
   "cell_type": "code",
   "execution_count": 214,
   "id": "5e381637-5a83-4233-abd8-768bc5013b1b",
   "metadata": {},
   "outputs": [],
   "source": [
    "# probabitity for class=1\n",
    "prob_list_forest = rf_clf.predict_proba(x_test)[:,1]"
   ]
  },
  {
   "cell_type": "markdown",
   "id": "6eb983c9-7795-4fd5-a171-eb19b1065b1f",
   "metadata": {
    "tags": []
   },
   "source": [
    "#### MLP"
   ]
  },
  {
   "cell_type": "code",
   "execution_count": 215,
   "id": "61924b14-d402-45be-afff-cedab55cbb75",
   "metadata": {},
   "outputs": [
    {
     "name": "stdout",
     "output_type": "stream",
     "text": [
      "0.686492261061837\n",
      "0.6270495875981318\n"
     ]
    },
    {
     "name": "stderr",
     "output_type": "stream",
     "text": [
      "/Users/sergey/opt/anaconda3/lib/python3.9/site-packages/sklearn/neural_network/_multilayer_perceptron.py:614: ConvergenceWarning: Stochastic Optimizer: Maximum iterations (200) reached and the optimization hasn't converged yet.\n",
      "  warnings.warn(\n"
     ]
    }
   ],
   "source": [
    "mlp = MLPClassifier()\n",
    "mlp.fit(x_train, y_train)\n",
    "\n",
    "# train prediction\n",
    "pred_mlp_train = mlp.predict(x_train)\n",
    "print(accuracy_score(y_train, pred_mlp_train))\n",
    "\n",
    "# test prediction\n",
    "pred_mlp_test = mlp.predict(x_test)\n",
    "print(accuracy_score(y_test, pred_mlp_test))"
   ]
  },
  {
   "cell_type": "code",
   "execution_count": 216,
   "id": "1ac26500-774a-4023-a236-42629e2c0d12",
   "metadata": {},
   "outputs": [],
   "source": [
    "# probabitity for class=1\n",
    "prob_list_mpl = mlp.predict_proba(x_test)[:,1]"
   ]
  },
  {
   "cell_type": "markdown",
   "id": "71219956-3de3-44df-97a4-51451e578508",
   "metadata": {},
   "source": [
    "#### ROC-AUC curves"
   ]
  },
  {
   "cell_type": "code",
   "execution_count": 217,
   "id": "8d43fceb-b85e-4f97-a165-354c9e039a64",
   "metadata": {},
   "outputs": [
    {
     "data": {
      "image/png": "[encoded data removed]",
      "text/plain": [
       "<Figure size 432x288 with 1 Axes>"
      ]
     },
     "metadata": {
      "needs_background": "light"
     },
     "output_type": "display_data"
    }
   ],
   "source": [
    "#set up plotting area\n",
    "plt.figure(0).clf()\n",
    "\n",
    "fpr, tpr, thresholds = metrics.roc_curve(y_test,prob_list_log)\n",
    "auc = round(metrics.roc_auc_score(y_test,prob_list_log), 2)\n",
    "plt.plot(fpr, tpr,label=\"Log Reg, AUC=\"+str(auc))        \n",
    "\n",
    "fpr, tpr, thresholds = metrics.roc_curve(y_test,prob_list_forest)\n",
    "auc = round(metrics.roc_auc_score(y_test,prob_list_forest), 2)\n",
    "plt.plot(fpr, tpr,label=\"Forest, AUC=\"+str(auc)) \n",
    "\n",
    "fpr, tpr, thresholds = metrics.roc_curve(y_test,prob_list_mpl)\n",
    "auc = round(metrics.roc_auc_score(y_test,prob_list_mpl), 2)\n",
    "plt.plot(fpr, tpr,label=\"MLP, AUC=\"+str(auc)) \n",
    "\n",
    "#add legend\n",
    "plt.legend();"
   ]
  },
  {
   "cell_type": "code",
   "execution_count": 218,
   "id": "248d7276-f4aa-45b1-810d-9a386e8bdfa5",
   "metadata": {},
   "outputs": [],
   "source": [
    "#MPL classifier shows best results"
   ]
  }
 ],
 "metadata": {
  "kernelspec": {
   "display_name": "Python 3 (ipykernel)",
   "language": "python",
   "name": "python3"
  },
  "language_info": {
   "codemirror_mode": {
    "name": "ipython",
    "version": 3
   },
   "file_extension": ".py",
   "mimetype": "text/x-python",
   "name": "python",
   "nbconvert_exporter": "python",
   "pygments_lexer": "ipython3",
   "version": "3.9.7"
  }
 },
 "nbformat": 4,
 "nbformat_minor": 5
}
